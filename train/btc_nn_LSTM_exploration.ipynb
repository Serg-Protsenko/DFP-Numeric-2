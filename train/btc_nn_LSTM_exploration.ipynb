{
 "cells": [
  {
   "cell_type": "markdown",
   "metadata": {},
   "source": [
    "# Import, Init"
   ]
  },
  {
   "cell_type": "code",
   "execution_count": 1,
   "metadata": {},
   "outputs": [],
   "source": [
    "import tensorflow as tf \n",
    "\n",
    "gpus = tf.config.list_physical_devices('GPU')\n",
    "if gpus:\n",
    "    try:\n",
    "        # Currently, memory growth needs to be the same across GPUs\n",
    "        for gpu in gpus:\n",
    "            tf.config.experimental.set_memory_growth(gpu, True)\n",
    "        logical_gpus = tf.config.experimental.list_logical_devices('GPU')\n",
    "        print(len(gpus), \"Physical GPUs,\", len(logical_gpus), \"Logical GPUs\")\n",
    "    except RuntimeError as e:\n",
    "        # Memory growth must be set before GPUs have been initialized\n",
    "        print('Error')\n",
    "        print(e)"
   ]
  },
  {
   "cell_type": "code",
   "execution_count": 2,
   "metadata": {},
   "outputs": [
    {
     "name": "stderr",
     "output_type": "stream",
     "text": [
      "Matplotlib created a temporary config/cache directory at /tmp/matplotlib-7w339ope because the default path (/.config/matplotlib) is not a writable directory; it is highly recommended to set the MPLCONFIGDIR environment variable to a writable directory, in particular to speed up the import of Matplotlib and to better support multiprocessing.\n"
     ]
    },
    {
     "data": {
      "text/plain": [
       "<module 'cls_nnetwork' from './classes/cls_nnetwork.py'>"
      ]
     },
     "execution_count": 2,
     "metadata": {},
     "output_type": "execute_result"
    }
   ],
   "source": [
    "import os, sys\n",
    "import pandas as pd\n",
    "import seaborn as sns\n",
    "import matplotlib.pyplot as plt\n",
    "\n",
    "sys.path.insert(0, \"./classes/\")\n",
    "import cls_nnetwork\n",
    "\n",
    "# reloading functions without runtime.restart\n",
    "import importlib\n",
    "importlib.reload(cls_nnetwork)"
   ]
  },
  {
   "cell_type": "code",
   "execution_count": 3,
   "metadata": {},
   "outputs": [
    {
     "name": "stdout",
     "output_type": "stream",
     "text": [
      "NULLS in data -->  7\n",
      ">>> train-test inited:  \n",
      " \tX_train len -->  1598 y_train len -->  1598 \n",
      " \tX_test len -->  2395 y_test len -->  2395 \n",
      " \tNULLS in data -->  7\n"
     ]
    }
   ],
   "source": [
    "# cut -- train test data with trimmed columns, so that it's more easy to train\n",
    "\n",
    "nn_manager_cut = cls_nnetwork.NeuralManager(dir_path='../data/csv_to_train/train_test_cut/')"
   ]
  },
  {
   "cell_type": "code",
   "execution_count": 4,
   "metadata": {},
   "outputs": [
    {
     "data": {
      "text/plain": [
       "Index(['Open', 'High', 'Low', 'Vol', 'TOUTV', 'TRFEE', 'AVBLS', 'NTRAT',\n",
       "       'BTC_MINED_PDAY', 'VOL_CHANGE_PDAY', 'MWNUS_CH_PDAY', 'NTRAT_CH_PDAY',\n",
       "       'PRICE_UP'],\n",
       "      dtype='object')"
      ]
     },
     "execution_count": 4,
     "metadata": {},
     "output_type": "execute_result"
    }
   ],
   "source": [
    "# loaded\n",
    "\n",
    "nn_manager_cut.X_test.columns"
   ]
  },
  {
   "cell_type": "code",
   "execution_count": 5,
   "metadata": {},
   "outputs": [
    {
     "data": {
      "text/plain": [
       "Index(['High', 'Low', 'Vol', 'TOUTV', 'TRFEE', 'AVBLS', 'NTRAT',\n",
       "       'BTC_MINED_PDAY', 'VOL_CHANGE_PDAY', 'NTRAT_CH_PDAY', 'PRICE_UP'],\n",
       "      dtype='object')"
      ]
     },
     "execution_count": 5,
     "metadata": {},
     "output_type": "execute_result"
    }
   ],
   "source": [
    "# nn_manager_cut.X_test.drop(columns=['VOL_CHANGE_PDAY', 'MWNUS_CH_PDAY', 'NTRAT_CH_PDAY', 'Open'], \n",
    "#                            inplace=True, errors='ignore')\n",
    "# nn_manager_cut.X_train.drop(columns=['VOL_CHANGE_PDAY', 'MWNUS_CH_PDAY', 'NTRAT_CH_PDAY', 'Open'], \n",
    "#                             inplace=True, errors='ignore')\n",
    "\n",
    "## SR: MWNUS_CH_PDAY is not refreshed in the source DS => supplies nulls for last week\n",
    "nn_manager_cut.X_test.drop(columns=[ 'MWNUS_CH_PDAY', 'Open'], inplace=True, errors='ignore')\n",
    "nn_manager_cut.X_train.drop(columns=[ 'MWNUS_CH_PDAY', 'Open'], inplace=True, errors='ignore')\n",
    "\n",
    "nn_manager_cut.X_train.columns"
   ]
  },
  {
   "cell_type": "code",
   "execution_count": 6,
   "metadata": {},
   "outputs": [
    {
     "name": "stdout",
     "output_type": "stream",
     "text": [
      "NULLS in data -->  0\n"
     ]
    }
   ],
   "source": [
    "nn_manager_cut.count_nulls_in_data()"
   ]
  },
  {
   "cell_type": "markdown",
   "metadata": {},
   "source": [
    "# Preparing data"
   ]
  },
  {
   "cell_type": "markdown",
   "metadata": {},
   "source": [
    "#### Swapping (the trial issue)\n",
    "[[to #Model-fit]](#Model-fit)"
   ]
  },
  {
   "cell_type": "code",
   "execution_count": 7,
   "metadata": {},
   "outputs": [
    {
     "name": "stdout",
     "output_type": "stream",
     "text": [
      "X_train =>  2395\n",
      "X_test =>  1598\n",
      "\ttrain data period =>  2014-12-02 00:00:00 --> 2021-06-22 00:00:00\n",
      "\ttest data period =>  2010-07-18 00:00:00 --> 2014-12-01 00:00:00\n"
     ]
    }
   ],
   "source": [
    "tmp = nn_manager_cut.X_test.copy()\n",
    "nn_manager_cut.X_test = nn_manager_cut.X_train.copy()\n",
    "nn_manager_cut.X_train = tmp.copy()\n",
    "\n",
    "tmp = nn_manager_cut.y_test.copy()\n",
    "nn_manager_cut.y_test = nn_manager_cut.y_train.copy()\n",
    "nn_manager_cut.y_train = tmp.copy()\n",
    "\n",
    "print(\"X_train => \", nn_manager_cut.X_train.shape[0])\n",
    "print(\"X_test => \", nn_manager_cut.X_test.shape[0])\n",
    "print(\"\\ttrain data period => \", nn_manager_cut.X_train.index.min(), \"-->\", nn_manager_cut.X_train.index.max())\n",
    "print(\"\\ttest data period => \", nn_manager_cut.X_test.index.min(), \"-->\", nn_manager_cut.X_test.index.max())"
   ]
  },
  {
   "cell_type": "markdown",
   "metadata": {},
   "source": [
    "#### Keeping Left-off Samples Aside"
   ]
  },
  {
   "cell_type": "code",
   "execution_count": 8,
   "metadata": {},
   "outputs": [
    {
     "data": {
      "text/plain": [
       "(2374, 1598)"
      ]
     },
     "execution_count": 8,
     "metadata": {},
     "output_type": "execute_result"
    }
   ],
   "source": [
    "left_off_days = 21\n",
    "left_off_X = nn_manager_cut.X_train[-left_off_days:].copy()\n",
    "nn_manager_cut.X_train = nn_manager_cut.X_train[:-left_off_days]\n",
    "\n",
    "left_off_y = nn_manager_cut.y_train[-left_off_days:].copy()\n",
    "nn_manager_cut.y_train = nn_manager_cut.y_train[:-left_off_days]\n",
    "\n",
    "nn_manager_cut.X_train.shape[0], nn_manager_cut.X_test.shape[0]"
   ]
  },
  {
   "cell_type": "markdown",
   "metadata": {},
   "source": [
    "## Normalizing"
   ]
  },
  {
   "cell_type": "code",
   "execution_count": 9,
   "metadata": {},
   "outputs": [
    {
     "data": {
      "text/plain": [
       "(array([[-0.59074168, -0.5763796 , -0.31187386, -1.26079986, -0.55951804,\n",
       "         -2.50048655, -0.9379086 ,  8.95800933,  0.04630092, -1.32275738,\n",
       "         -1.        ],\n",
       "        [-0.59074168, -0.5763796 , -0.31066995, -1.2664438 , -0.56323861,\n",
       "         -2.50009536, -0.93790665,  8.95800933,  0.04630092, -1.32275738,\n",
       "         -1.        ]]),\n",
       " None)"
      ]
     },
     "execution_count": 9,
     "metadata": {},
     "output_type": "execute_result"
    }
   ],
   "source": [
    "from sklearn.preprocessing import RobustScaler, QuantileTransformer\n",
    "\n",
    "nn_manager_cut.normalize_X(scaler=RobustScaler)\n",
    "# nn_manager_cut.transform_X(transformer=QuantileTransformer)\n",
    "\n",
    "(\n",
    "    nn_manager_cut.X_test_normalized[:2], \n",
    "    nn_manager_cut.X_test_transformed\n",
    ")"
   ]
  },
  {
   "cell_type": "markdown",
   "metadata": {},
   "source": [
    "## Unrolling data to sequences\n",
    "[[to #Model-fit]](#Model-fit)"
   ]
  },
  {
   "cell_type": "markdown",
   "metadata": {},
   "source": [
    "#### Setting sequence len"
   ]
  },
  {
   "cell_type": "code",
   "execution_count": 10,
   "metadata": {
    "scrolled": false
   },
   "outputs": [
    {
     "name": "stdout",
     "output_type": "stream",
     "text": [
      "self.training_seq_params -->  {'seq_len': 3, 'n_features': 11}\n",
      "self.X_train_shape -->  [3, 11]\n",
      "self.X_test_shape -->  [3, 11]\n"
     ]
    },
    {
     "data": {
      "text/plain": [
       "True"
      ]
     },
     "execution_count": 10,
     "metadata": {},
     "output_type": "execute_result"
    }
   ],
   "source": [
    "nn_manager_cut.set_train_test_data_shapes(shape_kwargs=dict(seq_len=3))"
   ]
  },
  {
   "cell_type": "code",
   "execution_count": 11,
   "metadata": {
    "scrolled": false
   },
   "outputs": [
    {
     "data": {
      "text/plain": [
       "True"
      ]
     },
     "execution_count": 11,
     "metadata": {},
     "output_type": "execute_result"
    }
   ],
   "source": [
    "nn_manager_cut.unroll_train_test_to_sequences()"
   ]
  },
  {
   "cell_type": "code",
   "execution_count": 12,
   "metadata": {
    "scrolled": false
   },
   "outputs": [
    {
     "data": {
      "text/plain": [
       "array([[-0.59074168, -0.5763796 , -0.31187386, -1.26079986, -0.55951804,\n",
       "        -2.50048655, -0.9379086 ,  8.95800933,  0.04630092, -1.32275738,\n",
       "        -1.        ],\n",
       "       [-0.59074168, -0.5763796 , -0.31066995, -1.2664438 , -0.56323861,\n",
       "        -2.50009536, -0.93790665,  8.95800933,  0.04630092, -1.32275738,\n",
       "        -1.        ],\n",
       "       [-0.59074168, -0.5763796 , -0.31143161, -1.26800916, -0.56323861,\n",
       "        -2.50009181, -0.93790813,  4.10575428,  0.03401543, -1.32789401,\n",
       "        -1.        ]])"
      ]
     },
     "execution_count": 12,
     "metadata": {},
     "output_type": "execute_result"
    }
   ],
   "source": [
    "nn_manager_cut.X_test_unrolled[0]"
   ]
  },
  {
   "cell_type": "code",
   "execution_count": 13,
   "metadata": {
    "scrolled": false
   },
   "outputs": [
    {
     "data": {
      "text/plain": [
       "array([[-0.59074168, -0.5763796 , -0.31066995, -1.2664438 , -0.56323861,\n",
       "        -2.50009536, -0.93790665,  8.95800933,  0.04630092, -1.32275738,\n",
       "        -1.        ],\n",
       "       [-0.59074168, -0.5763796 , -0.31143161, -1.26800916, -0.56323861,\n",
       "        -2.50009181, -0.93790813,  4.10575428,  0.03401543, -1.32789401,\n",
       "        -1.        ],\n",
       "       [-0.59074168, -0.5763796 , -0.31064538, -1.26657755, -0.56323861,\n",
       "        -2.50144055, -0.93790388, -4.7029549 ,  0.04369025, -1.31930192,\n",
       "        -1.        ]])"
      ]
     },
     "execution_count": 13,
     "metadata": {},
     "output_type": "execute_result"
    }
   ],
   "source": [
    "# goes up by one sequence -- compare this cell result vs previous\n",
    "nn_manager_cut.X_test_unrolled[1]"
   ]
  },
  {
   "cell_type": "code",
   "execution_count": 14,
   "metadata": {
    "scrolled": true
   },
   "outputs": [
    {
     "data": {
      "text/plain": [
       "(            Price\n",
       " Date             \n",
       " 2010-07-18    0.1\n",
       " 2010-07-19    0.1\n",
       " 2010-07-20    0.1\n",
       " 2010-07-21    0.1\n",
       " 2010-07-22    0.1\n",
       " 2010-07-23    0.1,\n",
       " array([[0.1],\n",
       "        [0.1],\n",
       "        [0.1],\n",
       "        [0.1],\n",
       "        [0.1],\n",
       "        [0.1]]))"
      ]
     },
     "execution_count": 14,
     "metadata": {},
     "output_type": "execute_result"
    }
   ],
   "source": [
    "# on the base of the first two elements of the sequence we want to predict the third's day price\n",
    "\n",
    "nn_manager_cut.y_test.iloc[:6], nn_manager_cut.y_test_unrolled[:6]"
   ]
  },
  {
   "cell_type": "markdown",
   "metadata": {},
   "source": [
    "# Model"
   ]
  },
  {
   "cell_type": "markdown",
   "metadata": {},
   "source": [
    "## Model Assembling"
   ]
  },
  {
   "cell_type": "markdown",
   "metadata": {},
   "source": [
    "[n_seq-n_steps in MLM example elaboration](z_MlMastery%20LSTM%20for%20TS%20.ipynb#n_seq-n_steps)<br>\n",
    "(We can parameterize this and define the number of subsequences as n_seq and the number of time steps per subsequence as n_steps. [[source]](https://machinelearningmastery.com/how-to-develop-lstm-models-for-time-series-forecasting/#:~:text=We%20can%20parameterize%20this%20and))"
   ]
  },
  {
   "cell_type": "markdown",
   "metadata": {},
   "source": [
    "### Architectures"
   ]
  },
  {
   "cell_type": "markdown",
   "metadata": {},
   "source": [
    "#### Keras imports"
   ]
  },
  {
   "cell_type": "code",
   "execution_count": 15,
   "metadata": {},
   "outputs": [],
   "source": [
    "from tensorflow.keras.layers import (\n",
    "    LeakyReLU,\n",
    "    TimeDistributed, \n",
    "    Conv1D, \n",
    "    MaxPooling1D, \n",
    "    Flatten, \n",
    "    LSTM, \n",
    "    Bidirectional,\n",
    "    Dense, \n",
    "    Dropout, \n",
    "    BatchNormalization)\n",
    "from tensorflow.keras.initializers import GlorotUniform, GlorotNormal\n",
    "from tensorflow.keras import regularizers"
   ]
  },
  {
   "cell_type": "markdown",
   "metadata": {},
   "source": [
    "#### LSTM-based\n",
    "[[Unrolling Seq Len]](#Unrolling-data-to-sequences)<br>\n",
    "[[to #Model-fit]](#Model-fit)"
   ]
  },
  {
   "cell_type": "code",
   "execution_count": 16,
   "metadata": {},
   "outputs": [
    {
     "data": {
      "text/plain": [
       "(3, 11)"
      ]
     },
     "execution_count": 16,
     "metadata": {},
     "output_type": "execute_result"
    }
   ],
   "source": [
    "input_model_shape=(nn_manager_cut.training_seq_params['seq_len'], nn_manager_cut.training_seq_params['n_features'])\n",
    "input_model_shape"
   ]
  },
  {
   "cell_type": "code",
   "execution_count": 17,
   "metadata": {},
   "outputs": [],
   "source": [
    "# LSTM Architecture for hard periods train-test split\n",
    "\n",
    "weights_init = GlorotNormal()\n",
    "\n",
    "template_Stacked_LSTM = [\n",
    "    Bidirectional(\n",
    "        LSTM(100, \n",
    "            activation=LeakyReLU(alpha=0.3), \n",
    "            kernel_initializer=weights_init, \n",
    "                    return_sequences=True,\n",
    "            ),\n",
    "        input_shape=input_model_shape,\n",
    "        ),\n",
    "    Bidirectional(\n",
    "        LSTM(100, \n",
    "            activation=LeakyReLU(alpha=0.3), \n",
    "            kernel_initializer=weights_init, \n",
    "#                     return_sequences=True,\n",
    "            ),\n",
    "        ),         \n",
    "\n",
    "#     Bidirectional(LSTM(400,                        \n",
    "#                        activation=LeakyReLU(alpha=0.3), \n",
    "#                        return_sequences=True,                       \n",
    "#             )),\n",
    "   \n",
    "\n",
    "#     Dense(100),\n",
    "#     Dense(15),\n",
    "#     Dense(100, \n",
    "#           kernel_initializer=weights_init\n",
    "#          ),\n",
    "\n",
    "\n",
    "#     Dense(75, \n",
    "#           kernel_initializer=weights_init\n",
    "#          ),\n",
    "    Dense(50, \n",
    "          kernel_initializer=weights_init\n",
    "         ),\n",
    "    Dense(25, \n",
    "          kernel_initializer=weights_init\n",
    "         ),\n",
    "    Dense(1)\n",
    "]"
   ]
  },
  {
   "cell_type": "code",
   "execution_count": 18,
   "metadata": {},
   "outputs": [
    {
     "data": {
      "text/plain": [
       "(2371, 3, 11)"
      ]
     },
     "execution_count": 18,
     "metadata": {},
     "output_type": "execute_result"
    }
   ],
   "source": [
    "nn_manager_cut.X_train_unrolled.shape"
   ]
  },
  {
   "cell_type": "markdown",
   "metadata": {},
   "source": [
    "### Compiling Model with the chosen Architecture"
   ]
  },
  {
   "cell_type": "code",
   "execution_count": 19,
   "metadata": {
    "scrolled": false
   },
   "outputs": [
    {
     "name": "stdout",
     "output_type": "stream",
     "text": [
      ">>> model compiled\n",
      "Model: \"sequential\"\n",
      "_________________________________________________________________\n",
      "Layer (type)                 Output Shape              Param #   \n",
      "=================================================================\n",
      "bidirectional (Bidirectional (None, 3, 200)            89600     \n",
      "_________________________________________________________________\n",
      "bidirectional_1 (Bidirection (None, 200)               240800    \n",
      "_________________________________________________________________\n",
      "dense (Dense)                (None, 50)                10050     \n",
      "_________________________________________________________________\n",
      "dense_1 (Dense)              (None, 25)                1275      \n",
      "_________________________________________________________________\n",
      "dense_2 (Dense)              (None, 1)                 26        \n",
      "=================================================================\n",
      "Total params: 341,751\n",
      "Trainable params: 341,751\n",
      "Non-trainable params: 0\n",
      "_________________________________________________________________\n"
     ]
    },
    {
     "data": {
      "text/plain": [
       "True"
      ]
     },
     "execution_count": 19,
     "metadata": {},
     "output_type": "execute_result"
    }
   ],
   "source": [
    "# Assembling and compiling model\n",
    "\n",
    "from tensorflow import keras\n",
    "\n",
    "opt_adam = keras.optimizers.Adam(\n",
    "    learning_rate=3e-5, #wo BatchNorm\n",
    "    beta_1=0.9,\n",
    "    beta_2=0.999,\n",
    "    epsilon=1e-07,\n",
    "    amsgrad=False, \n",
    ")\n",
    "\n",
    "compile_dict = dict(optimizer=opt_adam, loss=keras.losses.Huber(delta=.5), metrics=['mae']) # huber loss as per outliers\n",
    "\n",
    "\n",
    "nn_manager_cut.model_combine(template=template_Stacked_LSTM, compile_dict=compile_dict)"
   ]
  },
  {
   "cell_type": "markdown",
   "metadata": {},
   "source": [
    "## Model Training"
   ]
  },
  {
   "cell_type": "markdown",
   "metadata": {},
   "source": [
    "#### Model fit"
   ]
  },
  {
   "cell_type": "code",
   "execution_count": 20,
   "metadata": {},
   "outputs": [
    {
     "data": {
      "text/plain": [
       "([2371, 3, 11], [1595, 3, 11])"
      ]
     },
     "execution_count": 20,
     "metadata": {},
     "output_type": "execute_result"
    }
   ],
   "source": [
    "nn_manager_cut.X_train_shape, nn_manager_cut.X_test_shape, "
   ]
  },
  {
   "cell_type": "code",
   "execution_count": 21,
   "metadata": {
    "scrolled": false
   },
   "outputs": [
    {
     "name": "stdout",
     "output_type": "stream",
     "text": [
      "CPU times: user 3min 13s, sys: 26.7 s, total: 3min 40s\n",
      "Wall time: 37.5 s\n"
     ]
    },
    {
     "data": {
      "text/plain": [
       "(0.0, 2000.0)"
      ]
     },
     "execution_count": 21,
     "metadata": {},
     "output_type": "execute_result"
    },
    {
     "data": {
      "image/png": "[encoded data removed]",
      "text/plain": [
       "<Figure size 1080x360 with 1 Axes>"
      ]
     },
     "metadata": {
      "needs_background": "light"
     },
     "output_type": "display_data"
    }
   ],
   "source": [
    "%%time\n",
    "res = nn_manager_cut.model_fit(n_epoch=700,\n",
    "                           verbose=0, \n",
    "                           return_results=True, \n",
    "                           print_charts=True,\n",
    "                           early_stopping=True\n",
    "                        );\n",
    "plt.ylim(0,2e3);"
   ]
  },
  {
   "cell_type": "markdown",
   "metadata": {},
   "source": [
    "Architectures: <br>\n",
    "[[#LSTM_Architecture]](#LSTM-based)\n",
    "\n",
    "Model Compiling setup [[go]](#Compiling-Model-with-the-chosen-Architecture)<br>\n",
    "Unrolling Seq Len [[go]](#Unrolling-data-to-sequences)<br>\n",
    "\n",
    "Train-Test split after swapping data [[go]](#Swapping-(the-trial-issue))"
   ]
  },
  {
   "cell_type": "markdown",
   "metadata": {},
   "source": [
    "# Saving Model"
   ]
  },
  {
   "cell_type": "code",
   "execution_count": 22,
   "metadata": {
    "scrolled": true
   },
   "outputs": [],
   "source": [
    "from datetime import datetime\n",
    "\n",
    "# nn_manager_cut.model.save(f'./saved_models/{datetime.now().strftime(\"%Y%m%d_%HH%MM%SS\")}_58_171_Bidi_Stacked_3d')"
   ]
  },
  {
   "cell_type": "code",
   "execution_count": 23,
   "metadata": {
    "scrolled": false
   },
   "outputs": [],
   "source": [
    "# whenloading, pay attention to sequence of days that was used to predict value\n",
    "\n",
    "# nn_manager_cut.model = keras.models.load_model('./saved_models/20210623_20H39M34S_192_Bidi_2d/')"
   ]
  },
  {
   "cell_type": "markdown",
   "metadata": {},
   "source": [
    "### Plotting "
   ]
  },
  {
   "cell_type": "code",
   "execution_count": 24,
   "metadata": {},
   "outputs": [
    {
     "data": {
      "text/html": [
       "<div>\n",
       "<style scoped>\n",
       "    .dataframe tbody tr th:only-of-type {\n",
       "        vertical-align: middle;\n",
       "    }\n",
       "\n",
       "    .dataframe tbody tr th {\n",
       "        vertical-align: top;\n",
       "    }\n",
       "\n",
       "    .dataframe thead th {\n",
       "        text-align: right;\n",
       "    }\n",
       "</style>\n",
       "<table border=\"1\" class=\"dataframe\">\n",
       "  <thead>\n",
       "    <tr style=\"text-align: right;\">\n",
       "      <th></th>\n",
       "      <th>High</th>\n",
       "      <th>Low</th>\n",
       "      <th>Vol</th>\n",
       "      <th>TOUTV</th>\n",
       "      <th>TRFEE</th>\n",
       "      <th>AVBLS</th>\n",
       "      <th>NTRAT</th>\n",
       "      <th>BTC_MINED_PDAY</th>\n",
       "      <th>VOL_CHANGE_PDAY</th>\n",
       "      <th>NTRAT_CH_PDAY</th>\n",
       "      <th>PRICE_UP</th>\n",
       "    </tr>\n",
       "    <tr>\n",
       "      <th>Date</th>\n",
       "      <th></th>\n",
       "      <th></th>\n",
       "      <th></th>\n",
       "      <th></th>\n",
       "      <th></th>\n",
       "      <th></th>\n",
       "      <th></th>\n",
       "      <th></th>\n",
       "      <th></th>\n",
       "      <th></th>\n",
       "      <th></th>\n",
       "    </tr>\n",
       "  </thead>\n",
       "  <tbody>\n",
       "    <tr>\n",
       "      <th>2021-06-02</th>\n",
       "      <td>38199.9</td>\n",
       "      <td>35981.1</td>\n",
       "      <td>96890.0</td>\n",
       "      <td>1.153282e+06</td>\n",
       "      <td>51.133097</td>\n",
       "      <td>1.291096</td>\n",
       "      <td>646341383.0</td>\n",
       "      <td>1212.5</td>\n",
       "      <td>-16590.0</td>\n",
       "      <td>233352.0</td>\n",
       "      <td>1</td>\n",
       "    </tr>\n",
       "    <tr>\n",
       "      <th>2021-06-03</th>\n",
       "      <td>39462.3</td>\n",
       "      <td>37193.6</td>\n",
       "      <td>106440.0</td>\n",
       "      <td>1.223004e+06</td>\n",
       "      <td>49.880615</td>\n",
       "      <td>1.293654</td>\n",
       "      <td>646592644.0</td>\n",
       "      <td>775.0</td>\n",
       "      <td>9550.0</td>\n",
       "      <td>251261.0</td>\n",
       "      <td>1</td>\n",
       "    </tr>\n",
       "    <tr>\n",
       "      <th>2021-06-04</th>\n",
       "      <td>39255.4</td>\n",
       "      <td>35659.9</td>\n",
       "      <td>127710.0</td>\n",
       "      <td>1.028877e+06</td>\n",
       "      <td>42.341365</td>\n",
       "      <td>1.290167</td>\n",
       "      <td>646848409.0</td>\n",
       "      <td>787.5</td>\n",
       "      <td>21270.0</td>\n",
       "      <td>255765.0</td>\n",
       "      <td>0</td>\n",
       "    </tr>\n",
       "  </tbody>\n",
       "</table>\n",
       "</div>"
      ],
      "text/plain": [
       "               High      Low       Vol         TOUTV      TRFEE     AVBLS  \\\n",
       "Date                                                                        \n",
       "2021-06-02  38199.9  35981.1   96890.0  1.153282e+06  51.133097  1.291096   \n",
       "2021-06-03  39462.3  37193.6  106440.0  1.223004e+06  49.880615  1.293654   \n",
       "2021-06-04  39255.4  35659.9  127710.0  1.028877e+06  42.341365  1.290167   \n",
       "\n",
       "                  NTRAT  BTC_MINED_PDAY  VOL_CHANGE_PDAY  NTRAT_CH_PDAY  \\\n",
       "Date                                                                      \n",
       "2021-06-02  646341383.0          1212.5         -16590.0       233352.0   \n",
       "2021-06-03  646592644.0           775.0           9550.0       251261.0   \n",
       "2021-06-04  646848409.0           787.5          21270.0       255765.0   \n",
       "\n",
       "            PRICE_UP  \n",
       "Date                  \n",
       "2021-06-02         1  \n",
       "2021-06-03         1  \n",
       "2021-06-04         0  "
      ]
     },
     "execution_count": 24,
     "metadata": {},
     "output_type": "execute_result"
    }
   ],
   "source": [
    "left_off_X[:3]"
   ]
  },
  {
   "cell_type": "code",
   "execution_count": 25,
   "metadata": {},
   "outputs": [
    {
     "data": {
      "text/plain": [
       "High               3.327250e+04\n",
       "Low                2.890180e+04\n",
       "Vol                3.096500e+05\n",
       "TOUTV              1.936917e+06\n",
       "TRFEE              4.779617e+01\n",
       "AVBLS              1.392933e+00\n",
       "NTRAT              6.507957e+08\n",
       "BTC_MINED_PDAY     4.375000e+02\n",
       "VOL_CHANGE_PDAY    5.278000e+04\n",
       "NTRAT_CH_PDAY      2.075770e+05\n",
       "PRICE_UP           1.000000e+00\n",
       "Name: 2021-06-22 00:00:00, dtype: float64"
      ]
     },
     "execution_count": 25,
     "metadata": {},
     "output_type": "execute_result"
    }
   ],
   "source": [
    "left_off_X.iloc[-1]"
   ]
  },
  {
   "cell_type": "code",
   "execution_count": 26,
   "metadata": {
    "scrolled": true
   },
   "outputs": [
    {
     "name": "stdout",
     "output_type": "stream",
     "text": [
      ">>> Method called with outer X and y. Returning X, y unrolled...\n"
     ]
    },
    {
     "data": {
      "text/plain": [
       "(array([[[ 3.53257027,  3.53194838, -0.05295971, -0.36377011,\n",
       "          -0.2675929 ,  0.6091328 ,  1.07806046, -0.5940902 ,\n",
       "           0.07901102, -0.287772  , -1.        ],\n",
       "         [ 3.50315141,  3.3589278 ,  0.02571206, -0.19196397,\n",
       "          -0.29054013,  0.80492219,  1.07863973, -0.5940902 ,\n",
       "           0.53050255, -0.45568323,  0.        ],\n",
       "         [ 3.45897777,  3.11205367,  0.31904817,  0.21627495,\n",
       "          -0.07995738,  1.04305026,  1.07915358, -0.5940902 ,\n",
       "           1.87223097, -0.55394968, -1.        ]]]),\n",
       " 18)"
      ]
     },
     "execution_count": 26,
     "metadata": {},
     "output_type": "execute_result"
    }
   ],
   "source": [
    "left_off_X_unrolled, left_off_y_unrolled = nn_manager_cut.unroll_train_test_to_sequences(\n",
    "    X=nn_manager_cut.scaler.transform(left_off_X), \n",
    "    y =left_off_y.values\n",
    ")\n",
    "\n",
    "left_off_X_unrolled[-1:], left_off_X_unrolled.shape[0]"
   ]
  },
  {
   "cell_type": "code",
   "execution_count": 27,
   "metadata": {},
   "outputs": [
    {
     "data": {
      "text/plain": [
       "DatetimeIndex(['2021-06-05', '2021-06-06', '2021-06-07', '2021-06-08',\n",
       "               '2021-06-09', '2021-06-10', '2021-06-11', '2021-06-12',\n",
       "               '2021-06-13', '2021-06-14', '2021-06-15', '2021-06-16',\n",
       "               '2021-06-17', '2021-06-18', '2021-06-19', '2021-06-20',\n",
       "               '2021-06-21', '2021-06-22'],\n",
       "              dtype='datetime64[ns]', name='Date', freq=None)"
      ]
     },
     "execution_count": 27,
     "metadata": {},
     "output_type": "execute_result"
    }
   ],
   "source": [
    "left_off_date_index = left_off_y.index[nn_manager_cut.training_seq_params['seq_len']:]\n",
    "left_off_date_index"
   ]
  },
  {
   "cell_type": "code",
   "execution_count": 41,
   "metadata": {},
   "outputs": [
    {
     "data": {
      "text/plain": [
       "[37832.902,\n",
       " 36377.062,\n",
       " 36691.18,\n",
       " 36236.63,\n",
       " 34444.883,\n",
       " 34966.297,\n",
       " 35905.766,\n",
       " 37440.2,\n",
       " 36086.11,\n",
       " 36975.227,\n",
       " 39830.594,\n",
       " 40258.477,\n",
       " 39287.39,\n",
       " 37943.973,\n",
       " 36759.332,\n",
       " 35714.645,\n",
       " 35836.035,\n",
       " 34378.6]"
      ]
     },
     "execution_count": 41,
     "metadata": {},
     "output_type": "execute_result"
    }
   ],
   "source": [
    "left_off_pred = [nn_manager_cut.model_predict(seq.reshape(1,\n",
    "                                                   nn_manager_cut.training_seq_params['seq_len'],\n",
    "                                                   nn_manager_cut.training_seq_params['n_features']))[0][0] \n",
    "                 for seq in left_off_X_unrolled]\n",
    "left_off_pred"
   ]
  },
  {
   "cell_type": "code",
   "execution_count": 29,
   "metadata": {},
   "outputs": [
    {
     "data": {
      "text/plain": [
       "<AxesSubplot:xlabel='Date'>"
      ]
     },
     "execution_count": 29,
     "metadata": {},
     "output_type": "execute_result"
    },
    {
     "data": {
      "image/png": "[encoded data removed]",
      "text/plain": [
       "<Figure size 1080x360 with 1 Axes>"
      ]
     },
     "metadata": {
      "needs_background": "light"
     },
     "output_type": "display_data"
    }
   ],
   "source": [
    "fig, ax = plt.subplots(1, figsize=(15,5))\n",
    "\n",
    "pd.DataFrame(data=left_off_y_unrolled, index=left_off_date_index, columns=[\"left_off_price\"]).plot(ax=ax)\n",
    "pd.DataFrame(data=left_off_pred, index=left_off_date_index, columns=[\"left_off_pred\"]).plot(ax=ax)"
   ]
  },
  {
   "cell_type": "code",
   "execution_count": 30,
   "metadata": {
    "scrolled": false
   },
   "outputs": [
    {
     "name": "stdout",
     "output_type": "stream",
     "text": [
      ">>>Calculating predictions... done.\n"
     ]
    },
    {
     "data": {
      "image/png": "[encoded data removed]",
      "text/plain": [
       "<Figure size 1080x360 with 1 Axes>"
      ]
     },
     "metadata": {
      "needs_background": "light"
     },
     "output_type": "display_data"
    }
   ],
   "source": [
    "# nn_manager_cut.plot_predicted_vs_test_price(filters=[\"Date>='2021.02.01'\"]) \n",
    "# nn_manager_cut.plot_predicted_vs_test_price(filters=[\"Date>='2020.11.10'\", \"Date<='2021.04.10'\"], legend_loc='upper left') \n",
    "# nn_manager_cut.plot_predicted_vs_test_price(filters=[\"Date>='2018.06.01'\", \"Date<='2018.06.15'\"]) \n",
    "\n",
    "nn_manager_cut.plot_predicted_vs_test_price(filters=[\"Date>='2014-11-01'\", \"Date<='2014-12-01'\"]) \n",
    "\n",
    "\n",
    "# nn_manager_cut.plot_predicted_vs_test_price(filters=[\"Date>='2021.06.09'\", \"Date<='2021.06.17'\"]) "
   ]
  },
  {
   "cell_type": "code",
   "execution_count": 31,
   "metadata": {},
   "outputs": [],
   "source": [
    "# X = nn_manager_cut.X_test['2021-06-10':'2021-06-11']\n",
    "# X = nn_manager_cut.scaler.transform(X)\n",
    "# nn_manager_cut.model_predict(X.reshape(1, nn_manager_cut.training_seq_params['seq_len'],\n",
    "#                                                    nn_manager_cut.training_seq_params['n_features']))[0][0] "
   ]
  },
  {
   "cell_type": "code",
   "execution_count": 32,
   "metadata": {},
   "outputs": [],
   "source": [
    "# nn_manager_cut.y_test.loc['2021-06-12']"
   ]
  },
  {
   "cell_type": "code",
   "execution_count": 33,
   "metadata": {},
   "outputs": [],
   "source": [
    "# data_for_pred = nn_manager_cut.scaler.transform(nn_manager_cut.X_test.loc['2018.06.07':'2018.06.09'])\n",
    "# nn_manager_cut.model_predict(data_for_pred.reshape(1,\n",
    "#                                                   nn_manager_cut.training_seq_params['seq_len'],\n",
    "#                                                    nn_manager_cut.training_seq_params['n_features']))[0][0]\n"
   ]
  },
  {
   "cell_type": "code",
   "execution_count": 34,
   "metadata": {},
   "outputs": [],
   "source": [
    "# nn_manager_cut.y_test.loc['2018.06.09']"
   ]
  },
  {
   "cell_type": "code",
   "execution_count": 35,
   "metadata": {},
   "outputs": [],
   "source": [
    "# nn_manager_cut.y_test_unrolled[:3]"
   ]
  },
  {
   "cell_type": "code",
   "execution_count": 36,
   "metadata": {
    "scrolled": false
   },
   "outputs": [],
   "source": [
    "# nn_manager_cut.y_pred[:3]"
   ]
  },
  {
   "cell_type": "code",
   "execution_count": 37,
   "metadata": {},
   "outputs": [],
   "source": [
    "# nn_manager_cut.y_test[nn_manager_cut.training_seq_params['seq_len']:][:3]"
   ]
  },
  {
   "cell_type": "markdown",
   "metadata": {},
   "source": [
    "# Conclusion on LSTM Model:"
   ]
  }
 ],
 "metadata": {
  "kernelspec": {
   "display_name": "Python 3",
   "language": "python",
   "name": "python3"
  },
  "language_info": {
   "codemirror_mode": {
    "name": "ipython",
    "version": 3
   },
   "file_extension": ".py",
   "mimetype": "text/x-python",
   "name": "python",
   "nbconvert_exporter": "python",
   "pygments_lexer": "ipython3",
   "version": "3.6.9"
  }
 },
 "nbformat": 4,
 "nbformat_minor": 2
}
