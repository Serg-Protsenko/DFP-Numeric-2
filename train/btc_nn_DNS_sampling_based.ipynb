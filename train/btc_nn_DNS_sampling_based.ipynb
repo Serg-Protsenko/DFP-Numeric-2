{
 "cells": [
  {
   "cell_type": "markdown",
   "metadata": {},
   "source": [
    "# Import, Init"
   ]
  },
  {
   "cell_type": "code",
   "execution_count": 171,
   "metadata": {},
   "outputs": [],
   "source": [
    "import tensorflow as tf \n",
    "\n",
    "gpus = tf.config.list_physical_devices('GPU')\n",
    "if gpus:\n",
    "    try:\n",
    "        # Currently, memory growth needs to be the same across GPUs\n",
    "        for gpu in gpus:\n",
    "            tf.config.experimental.set_memory_growth(gpu, True)\n",
    "        logical_gpus = tf.config.experimental.list_logical_devices('GPU')\n",
    "        print(len(gpus), \"Physical GPUs,\", len(logical_gpus), \"Logical GPUs\")\n",
    "    except RuntimeError as e:\n",
    "        # Memory growth must be set before GPUs have been initialized\n",
    "        print('Error')\n",
    "        print(e)"
   ]
  },
  {
   "cell_type": "code",
   "execution_count": 172,
   "metadata": {},
   "outputs": [
    {
     "data": {
      "text/plain": [
       "<module 'cls_nnetwork' from './classes/cls_nnetwork.py'>"
      ]
     },
     "execution_count": 172,
     "metadata": {},
     "output_type": "execute_result"
    }
   ],
   "source": [
    "import os, sys\n",
    "import pandas as pd\n",
    "import seaborn as sns\n",
    "import matplotlib.pyplot as plt\n",
    "\n",
    "sys.path.insert(0, \"./classes/\")\n",
    "import cls_nnetwork\n",
    "\n",
    "# reloading functions without runtime.restart\n",
    "import importlib\n",
    "importlib.reload(cls_nnetwork)"
   ]
  },
  {
   "cell_type": "code",
   "execution_count": 173,
   "metadata": {},
   "outputs": [
    {
     "name": "stdout",
     "output_type": "stream",
     "text": [
      "NULLS in data -->  0\n",
      ">>> train-test inited:  \n",
      " \tX_train len -->  903 y_train len -->  903 \n",
      " \tX_test len -->  1342 y_test len -->  1342 \n",
      " \tNULLS in data -->  0\n"
     ]
    }
   ],
   "source": [
    "# cut -- train test data with trimmed columns, so that it's more easy to train\n",
    "\n",
    "nn_manager_cut = cls_nnetwork.NeuralManager(dir_path='../data/csv_to_train/train_test_cut/')"
   ]
  },
  {
   "cell_type": "markdown",
   "metadata": {},
   "source": [
    "# Preprocessing"
   ]
  },
  {
   "cell_type": "markdown",
   "metadata": {},
   "source": [
    "## Keeping Holdout Samples Aside"
   ]
  },
  {
   "cell_type": "code",
   "execution_count": 174,
   "metadata": {},
   "outputs": [
    {
     "data": {
      "text/plain": [
       "(Index(['High', 'Low', 'Vol', 'TOUTV', 'TRFEE', 'AVBLS', 'NTRAT',\n",
       "        'BTC_MINED_PDAY', 'VOL_CHANGE_PDAY', 'NTRAT_CH_PDAY', 'Next_day_Price'],\n",
       "       dtype='object'),\n",
       " (903, 11))"
      ]
     },
     "execution_count": 174,
     "metadata": {},
     "output_type": "execute_result"
    }
   ],
   "source": [
    "## SR: MWNUS_CH_PDAY is not refreshed in the source DS => supplies nulls for last week\n",
    "\n",
    "nn_manager_cut.X_test.drop(columns=[ 'MWNUS_CH_PDAY', 'Open'], inplace=True, errors='ignore')\n",
    "nn_manager_cut.X_train.drop(columns=[ 'MWNUS_CH_PDAY', 'Open'], inplace=True, errors='ignore')\n",
    "\n",
    "nn_manager_cut.X_train.columns, nn_manager_cut.X_train.shape"
   ]
  },
  {
   "cell_type": "code",
   "execution_count": 175,
   "metadata": {},
   "outputs": [
    {
     "name": "stdout",
     "output_type": "stream",
     "text": [
      "X_train, X_test -->  872 1342\n",
      "Holdout period -->  2021-05-23 00:00:00 --> 2021-06-22 00:00:00\n"
     ]
    }
   ],
   "source": [
    "hould_out_days = 31\n",
    "hold_out_X = nn_manager_cut.X_train[-hould_out_days:].copy()\n",
    "nn_manager_cut.X_train = nn_manager_cut.X_train[:-hould_out_days]\n",
    "\n",
    "hold_out_y = nn_manager_cut.y_train[-hould_out_days:].copy()\n",
    "nn_manager_cut.y_train = nn_manager_cut.y_train[:-hould_out_days]\n",
    "\n",
    "print(\"X_train, X_test --> \", nn_manager_cut.X_train.shape[0], nn_manager_cut.X_test.shape[0])\n",
    "print(\"Holdout period --> \", hold_out_X.index.min(), \"-->\", hold_out_X.index.max())"
   ]
  },
  {
   "cell_type": "markdown",
   "metadata": {},
   "source": [
    "## Sampling"
   ]
  },
  {
   "cell_type": "code",
   "execution_count": 177,
   "metadata": {},
   "outputs": [],
   "source": [
    "nn_manager_cut.X_train = nn_manager_cut.X_train.sample(int(100e3), replace=True)"
   ]
  },
  {
   "cell_type": "code",
   "execution_count": 178,
   "metadata": {},
   "outputs": [
    {
     "name": "stdout",
     "output_type": "stream",
     "text": [
      "NULLS in data -->  0\n"
     ]
    }
   ],
   "source": [
    "nn_manager_cut.count_nulls_in_data()"
   ]
  },
  {
   "cell_type": "markdown",
   "metadata": {},
   "source": [
    "#### Popping Taret from Train and Test"
   ]
  },
  {
   "cell_type": "code",
   "execution_count": 179,
   "metadata": {},
   "outputs": [],
   "source": [
    "nn_manager_cut.y_train = nn_manager_cut.X_train.pop(\"Next_day_Price\")\n",
    "nn_manager_cut.y_test = nn_manager_cut.X_test.pop(\"Next_day_Price\")\n",
    "\n",
    "hold_out_y = hold_out_X.pop(\"Next_day_Price\")"
   ]
  },
  {
   "cell_type": "markdown",
   "metadata": {},
   "source": [
    "# Preparing data for model"
   ]
  },
  {
   "cell_type": "markdown",
   "metadata": {},
   "source": [
    "## Normalizing"
   ]
  },
  {
   "cell_type": "code",
   "execution_count": 180,
   "metadata": {},
   "outputs": [
    {
     "data": {
      "text/plain": [
       "(array([[-0.03101232, -0.03382784,  0.35196678,  0.13912643, -0.51141513,\n",
       "         -0.84389532, -0.10100137,  0.83908046,  0.13509768,  0.49432325],\n",
       "        [-1.12538569, -1.24047527,  3.61015974,  0.11658544, -0.38629573,\n",
       "         -0.63218716, -0.86145373,  0.33333333,  5.44574974, -1.79654935]]),)"
      ]
     },
     "execution_count": 180,
     "metadata": {},
     "output_type": "execute_result"
    }
   ],
   "source": [
    "from sklearn.preprocessing import RobustScaler, QuantileTransformer\n",
    "\n",
    "nn_manager_cut.normalize_X(scaler=RobustScaler)\n",
    "# nn_manager_cut.transform_X(transformer=QuantileTransformer)\n",
    "\n",
    "# ### tmp ### \n",
    "# nn_manager_cut.X_train_normalized = nn_manager_cut.X_train.values \n",
    "# nn_manager_cut.X_test_normalized = nn_manager_cut.X_test.values \n",
    "\n",
    "(\n",
    "    nn_manager_cut.X_train_normalized[:2], \n",
    "#     nn_manager_cut.X_train_transformed\n",
    ")"
   ]
  },
  {
   "cell_type": "markdown",
   "metadata": {},
   "source": [
    "## In this scenario we use only sequence =1\n",
    "[[to #Model-fit]](#Model-fit)"
   ]
  },
  {
   "cell_type": "markdown",
   "metadata": {},
   "source": [
    "#### Setting sequence len"
   ]
  },
  {
   "cell_type": "code",
   "execution_count": 181,
   "metadata": {
    "scrolled": false
   },
   "outputs": [
    {
     "name": "stdout",
     "output_type": "stream",
     "text": [
      "self.training_seq_params -->  {'seq_len': 1, 'n_features': 10}\n",
      "self.X_train_shape -->  [1, 10]\n",
      "self.X_test_shape -->  [1, 10]\n"
     ]
    },
    {
     "data": {
      "text/plain": [
       "True"
      ]
     },
     "execution_count": 181,
     "metadata": {},
     "output_type": "execute_result"
    }
   ],
   "source": [
    "nn_manager_cut.set_train_test_data_shapes(shape_kwargs=dict(seq_len=1))"
   ]
  },
  {
   "cell_type": "markdown",
   "metadata": {},
   "source": [
    "# Model"
   ]
  },
  {
   "cell_type": "markdown",
   "metadata": {},
   "source": [
    "## Model Assembling"
   ]
  },
  {
   "cell_type": "markdown",
   "metadata": {},
   "source": [
    "[n_seq-n_steps in MLM example elaboration](z_MlMastery%20LSTM%20for%20TS%20.ipynb#n_seq-n_steps)<br>\n",
    "(We can parameterize this and define the number of subsequences as n_seq and the number of time steps per subsequence as n_steps. [[source]](https://machinelearningmastery.com/how-to-develop-lstm-models-for-time-series-forecasting/#:~:text=We%20can%20parameterize%20this%20and))"
   ]
  },
  {
   "cell_type": "markdown",
   "metadata": {},
   "source": [
    "### Architectures"
   ]
  },
  {
   "cell_type": "markdown",
   "metadata": {},
   "source": [
    "#### Keras imports"
   ]
  },
  {
   "cell_type": "code",
   "execution_count": 182,
   "metadata": {},
   "outputs": [],
   "source": [
    "from tensorflow.keras.layers import (\n",
    "    LeakyReLU,\n",
    "    TimeDistributed, \n",
    "    Conv1D, \n",
    "    MaxPooling1D, \n",
    "    Flatten, \n",
    "    LSTM, \n",
    "    Bidirectional,\n",
    "    Dense, \n",
    "    Dropout, \n",
    "    BatchNormalization)\n",
    "from tensorflow.keras.initializers import GlorotUniform, GlorotNormal\n",
    "from tensorflow.keras import regularizers"
   ]
  },
  {
   "cell_type": "markdown",
   "metadata": {},
   "source": [
    "#### DenseNN-based\n",
    "[[Unrolling Seq Len]](#Unrolling-data-to-sequences)<br>\n",
    "[[to #Model-fit]](#Model-fit)"
   ]
  },
  {
   "cell_type": "code",
   "execution_count": 183,
   "metadata": {},
   "outputs": [
    {
     "data": {
      "text/plain": [
       "(1, 10)"
      ]
     },
     "execution_count": 183,
     "metadata": {},
     "output_type": "execute_result"
    }
   ],
   "source": [
    "input_model_shape=(nn_manager_cut.training_seq_params['seq_len'], nn_manager_cut.training_seq_params['n_features'])\n",
    "input_model_shape"
   ]
  },
  {
   "cell_type": "code",
   "execution_count": 184,
   "metadata": {},
   "outputs": [
    {
     "data": {
      "text/plain": [
       "(100000, 10)"
      ]
     },
     "execution_count": 184,
     "metadata": {},
     "output_type": "execute_result"
    }
   ],
   "source": [
    "nn_manager_cut.X_train.shape"
   ]
  },
  {
   "cell_type": "code",
   "execution_count": 185,
   "metadata": {},
   "outputs": [],
   "source": [
    "# Architecture \n",
    "\n",
    "weights_init = GlorotNormal()\n",
    "\n",
    "template_DNS = [\n",
    "    Flatten(input_shape=(nn_manager_cut.training_seq_params['n_features'],)),\n",
    "    Dense(150, \n",
    "          activation=LeakyReLU(alpha=0.3),          \n",
    "          kernel_initializer=weights_init\n",
    "         ),\n",
    "    Dense(450, \n",
    "          activation=LeakyReLU(alpha=0.3),\n",
    "          kernel_initializer=weights_init\n",
    "         ),\n",
    "    Dense(250, \n",
    "      activation=LeakyReLU(alpha=0.3),\n",
    "      kernel_initializer=weights_init\n",
    "     ),\n",
    "    Dense(50, \n",
    "      activation=LeakyReLU(alpha=0.3),\n",
    "      kernel_initializer=weights_init\n",
    "     ),\n",
    "    Dense(1, kernel_initializer=weights_init)\n",
    "]"
   ]
  },
  {
   "cell_type": "markdown",
   "metadata": {},
   "source": [
    "### Compiling Model with the chosen Architecture"
   ]
  },
  {
   "cell_type": "code",
   "execution_count": 186,
   "metadata": {
    "scrolled": false
   },
   "outputs": [
    {
     "name": "stdout",
     "output_type": "stream",
     "text": [
      ">>> model compiled\n",
      "Model: \"sequential_5\"\n",
      "_________________________________________________________________\n",
      "Layer (type)                 Output Shape              Param #   \n",
      "=================================================================\n",
      "flatten_6 (Flatten)          (None, 10)                0         \n",
      "_________________________________________________________________\n",
      "dense_25 (Dense)             (None, 150)               1650      \n",
      "_________________________________________________________________\n",
      "dense_26 (Dense)             (None, 450)               67950     \n",
      "_________________________________________________________________\n",
      "dense_27 (Dense)             (None, 250)               112750    \n",
      "_________________________________________________________________\n",
      "dense_28 (Dense)             (None, 50)                12550     \n",
      "_________________________________________________________________\n",
      "dense_29 (Dense)             (None, 1)                 51        \n",
      "=================================================================\n",
      "Total params: 194,951\n",
      "Trainable params: 194,951\n",
      "Non-trainable params: 0\n",
      "_________________________________________________________________\n"
     ]
    },
    {
     "data": {
      "text/plain": [
       "True"
      ]
     },
     "execution_count": 186,
     "metadata": {},
     "output_type": "execute_result"
    }
   ],
   "source": [
    "# Assembling and compiling model\n",
    "\n",
    "from tensorflow import keras\n",
    "\n",
    "opt_adam = keras.optimizers.Adam(\n",
    "    learning_rate=5e-5, #wo BatchNorm\n",
    "    beta_1=0.9,\n",
    "    beta_2=0.999,\n",
    "    epsilon=1e-07,\n",
    "    amsgrad=False, \n",
    ")\n",
    "\n",
    "compile_dict = dict(optimizer=opt_adam, loss=keras.losses.Huber(delta=.5), metrics=['mae']) # huber loss as per outliers\n",
    "\n",
    "\n",
    "nn_manager_cut.model_combine(template=template_DNS, compile_dict=compile_dict)"
   ]
  },
  {
   "cell_type": "markdown",
   "metadata": {},
   "source": [
    "## Model Training"
   ]
  },
  {
   "cell_type": "markdown",
   "metadata": {},
   "source": [
    "#### Model fit"
   ]
  },
  {
   "cell_type": "code",
   "execution_count": 191,
   "metadata": {},
   "outputs": [
    {
     "data": {
      "text/plain": [
       "((100000, 10), (100000,))"
      ]
     },
     "execution_count": 191,
     "metadata": {},
     "output_type": "execute_result"
    }
   ],
   "source": [
    "nn_manager_cut.X_train.shape, nn_manager_cut.y_train.shape"
   ]
  },
  {
   "cell_type": "code",
   "execution_count": 194,
   "metadata": {},
   "outputs": [
    {
     "data": {
      "text/html": [
       "<div>\n",
       "<style scoped>\n",
       "    .dataframe tbody tr th:only-of-type {\n",
       "        vertical-align: middle;\n",
       "    }\n",
       "\n",
       "    .dataframe tbody tr th {\n",
       "        vertical-align: top;\n",
       "    }\n",
       "\n",
       "    .dataframe thead th {\n",
       "        text-align: right;\n",
       "    }\n",
       "</style>\n",
       "<table border=\"1\" class=\"dataframe\">\n",
       "  <thead>\n",
       "    <tr style=\"text-align: right;\">\n",
       "      <th></th>\n",
       "      <th>High</th>\n",
       "      <th>Low</th>\n",
       "      <th>Vol</th>\n",
       "      <th>TOUTV</th>\n",
       "      <th>TRFEE</th>\n",
       "      <th>AVBLS</th>\n",
       "      <th>NTRAT</th>\n",
       "      <th>BTC_MINED_PDAY</th>\n",
       "      <th>VOL_CHANGE_PDAY</th>\n",
       "      <th>NTRAT_CH_PDAY</th>\n",
       "    </tr>\n",
       "  </thead>\n",
       "  <tbody>\n",
       "    <tr>\n",
       "      <th>393</th>\n",
       "      <td>9569.0</td>\n",
       "      <td>9209.2</td>\n",
       "      <td>765210.0</td>\n",
       "      <td>1.455372e+06</td>\n",
       "      <td>19.645809</td>\n",
       "      <td>1.007421</td>\n",
       "      <td>497970930.0</td>\n",
       "      <td>2025.0</td>\n",
       "      <td>15330.0</td>\n",
       "      <td>340144.0</td>\n",
       "    </tr>\n",
       "    <tr>\n",
       "      <th>82</th>\n",
       "      <td>4000.5</td>\n",
       "      <td>3897.9</td>\n",
       "      <td>2860000.0</td>\n",
       "      <td>1.432877e+06</td>\n",
       "      <td>29.200962</td>\n",
       "      <td>1.056968</td>\n",
       "      <td>394595728.0</td>\n",
       "      <td>1475.0</td>\n",
       "      <td>820000.0</td>\n",
       "      <td>227149.0</td>\n",
       "    </tr>\n",
       "  </tbody>\n",
       "</table>\n",
       "</div>"
      ],
      "text/plain": [
       "       High     Low        Vol         TOUTV      TRFEE     AVBLS  \\\n",
       "393  9569.0  9209.2   765210.0  1.455372e+06  19.645809  1.007421   \n",
       "82   4000.5  3897.9  2860000.0  1.432877e+06  29.200962  1.056968   \n",
       "\n",
       "           NTRAT  BTC_MINED_PDAY  VOL_CHANGE_PDAY  NTRAT_CH_PDAY  \n",
       "393  497970930.0          2025.0          15330.0       340144.0  \n",
       "82   394595728.0          1475.0         820000.0       227149.0  "
      ]
     },
     "execution_count": 194,
     "metadata": {},
     "output_type": "execute_result"
    }
   ],
   "source": [
    "nn_manager_cut.X_train.iloc[:2]"
   ]
  },
  {
   "cell_type": "code",
   "execution_count": 195,
   "metadata": {},
   "outputs": [
    {
     "data": {
      "text/plain": [
       "393    9349.1\n",
       "82     3942.8\n",
       "Name: Next_day_Price, dtype: float64"
      ]
     },
     "execution_count": 195,
     "metadata": {},
     "output_type": "execute_result"
    }
   ],
   "source": [
    "nn_manager_cut.y_train[:2]"
   ]
  },
  {
   "cell_type": "code",
   "execution_count": 187,
   "metadata": {},
   "outputs": [
    {
     "data": {
      "text/plain": [
       "([1, 10], [1, 10])"
      ]
     },
     "execution_count": 187,
     "metadata": {},
     "output_type": "execute_result"
    }
   ],
   "source": [
    "nn_manager_cut.X_train_shape, nn_manager_cut.X_test_shape, "
   ]
  },
  {
   "cell_type": "code",
   "execution_count": 140,
   "metadata": {
    "scrolled": false
   },
   "outputs": [
    {
     "name": "stdout",
     "output_type": "stream",
     "text": [
      "CPU times: user 28min 34s, sys: 4min 22s, total: 32min 57s\n",
      "Wall time: 8min 9s\n"
     ]
    }
   ],
   "source": [
    "%%time\n",
    "res = nn_manager_cut.model.fit(\n",
    "    x=nn_manager_cut.X_train,\n",
    "    y=nn_manager_cut.y_train,\n",
    "    batch_size=32,\n",
    "    epochs=200,\n",
    "    verbose=0,\n",
    "    validation_data=(nn_manager_cut.X_test, nn_manager_cut.y_test),\n",
    "    shuffle=True,\n",
    "    workers=3\n",
    ")"
   ]
  },
  {
   "cell_type": "code",
   "execution_count": 141,
   "metadata": {},
   "outputs": [
    {
     "name": "stdout",
     "output_type": "stream",
     "text": [
      "last loss:  619.798583984375\n",
      "last val_loss:  308.4804382324219\n"
     ]
    },
    {
     "data": {
      "image/png": "[encoded data removed]",
      "text/plain": [
       "<Figure size 1080x360 with 1 Axes>"
      ]
     },
     "metadata": {
      "needs_background": "light"
     },
     "output_type": "display_data"
    }
   ],
   "source": [
    "res_df = pd.DataFrame(data=dict(loss=res.history['loss'], val_loss=res.history['val_loss']))\n",
    "res_df.plot(figsize=(15,5))\n",
    "\n",
    "\n",
    "print(\"last loss: \", res_df['loss'].values[-1])\n",
    "print(\"last val_loss: \", res_df['val_loss'].values[-1])"
   ]
  },
  {
   "cell_type": "code",
   "execution_count": 142,
   "metadata": {},
   "outputs": [
    {
     "data": {
      "text/plain": [
       "<tensorflow.python.keras.engine.sequential.Sequential at 0x7f5e5c2146a0>"
      ]
     },
     "execution_count": 142,
     "metadata": {},
     "output_type": "execute_result"
    }
   ],
   "source": [
    "nn_manager_cut.model"
   ]
  },
  {
   "cell_type": "markdown",
   "metadata": {},
   "source": [
    "Architectures: <br>\n",
    "[[#DenseNN-based]](#DenseNN-based)\n",
    "\n",
    "Model Compiling setup [[go]](#Compiling-Model-with-the-chosen-Architecture)<br>\n",
    "Unrolling Seq Len [[go]](#Unrolling-data-to-sequences)<br>\n",
    "\n",
    "Train-Test split after swapping data [[go]](#Swapping-(the-trial-issue)) <br>\n",
    "holdout data [[go]](#Keeping-Holdout-Samples-Aside)"
   ]
  },
  {
   "cell_type": "markdown",
   "metadata": {},
   "source": [
    "# Saving Model"
   ]
  },
  {
   "cell_type": "code",
   "execution_count": 143,
   "metadata": {
    "scrolled": true
   },
   "outputs": [],
   "source": [
    "from datetime import datetime\n",
    "\n",
    "# nn_manager_cut.model.save(f'./saved_models/{datetime.now().strftime(\"%Y%m%d_%HH%MM%SS\")}_DNSe_working')"
   ]
  },
  {
   "cell_type": "code",
   "execution_count": 144,
   "metadata": {
    "scrolled": false
   },
   "outputs": [],
   "source": [
    "# whenloading, pay attention to sequence of days that was used to predict value\n",
    "\n",
    "# nn_manager_cut.model = keras.models.load_model('./saved_models/20210623_20H39M34S_192_Bidi_2d/')"
   ]
  },
  {
   "cell_type": "markdown",
   "metadata": {},
   "source": [
    "### Plotting "
   ]
  },
  {
   "cell_type": "code",
   "execution_count": 145,
   "metadata": {
    "scrolled": true
   },
   "outputs": [
    {
     "data": {
      "text/html": [
       "<div>\n",
       "<style scoped>\n",
       "    .dataframe tbody tr th:only-of-type {\n",
       "        vertical-align: middle;\n",
       "    }\n",
       "\n",
       "    .dataframe tbody tr th {\n",
       "        vertical-align: top;\n",
       "    }\n",
       "\n",
       "    .dataframe thead th {\n",
       "        text-align: right;\n",
       "    }\n",
       "</style>\n",
       "<table border=\"1\" class=\"dataframe\">\n",
       "  <thead>\n",
       "    <tr style=\"text-align: right;\">\n",
       "      <th></th>\n",
       "      <th>High</th>\n",
       "      <th>Low</th>\n",
       "      <th>Vol</th>\n",
       "      <th>TOUTV</th>\n",
       "      <th>TRFEE</th>\n",
       "      <th>AVBLS</th>\n",
       "      <th>NTRAT</th>\n",
       "      <th>BTC_MINED_PDAY</th>\n",
       "      <th>VOL_CHANGE_PDAY</th>\n",
       "      <th>NTRAT_CH_PDAY</th>\n",
       "    </tr>\n",
       "    <tr>\n",
       "      <th>Date</th>\n",
       "      <th></th>\n",
       "      <th></th>\n",
       "      <th></th>\n",
       "      <th></th>\n",
       "      <th></th>\n",
       "      <th></th>\n",
       "      <th></th>\n",
       "      <th></th>\n",
       "      <th></th>\n",
       "      <th></th>\n",
       "    </tr>\n",
       "  </thead>\n",
       "  <tbody>\n",
       "    <tr>\n",
       "      <th>2021-05-23</th>\n",
       "      <td>38248.7</td>\n",
       "      <td>31192.4</td>\n",
       "      <td>325730.0</td>\n",
       "      <td>2.230243e+06</td>\n",
       "      <td>81.406769</td>\n",
       "      <td>1.379972</td>\n",
       "      <td>644175796.0</td>\n",
       "      <td>843.75</td>\n",
       "      <td>139900.0</td>\n",
       "      <td>222357.0</td>\n",
       "    </tr>\n",
       "    <tr>\n",
       "      <th>2021-05-24</th>\n",
       "      <td>39851.7</td>\n",
       "      <td>34474.6</td>\n",
       "      <td>244880.0</td>\n",
       "      <td>2.610429e+06</td>\n",
       "      <td>96.801943</td>\n",
       "      <td>1.345943</td>\n",
       "      <td>644370643.0</td>\n",
       "      <td>600.00</td>\n",
       "      <td>-80850.0</td>\n",
       "      <td>194847.0</td>\n",
       "    </tr>\n",
       "    <tr>\n",
       "      <th>2021-05-25</th>\n",
       "      <td>39740.8</td>\n",
       "      <td>36540.7</td>\n",
       "      <td>163010.0</td>\n",
       "      <td>2.289845e+06</td>\n",
       "      <td>85.818131</td>\n",
       "      <td>1.359463</td>\n",
       "      <td>644605027.0</td>\n",
       "      <td>787.50</td>\n",
       "      <td>-81870.0</td>\n",
       "      <td>234384.0</td>\n",
       "    </tr>\n",
       "  </tbody>\n",
       "</table>\n",
       "</div>"
      ],
      "text/plain": [
       "               High      Low       Vol         TOUTV      TRFEE     AVBLS  \\\n",
       "Date                                                                        \n",
       "2021-05-23  38248.7  31192.4  325730.0  2.230243e+06  81.406769  1.379972   \n",
       "2021-05-24  39851.7  34474.6  244880.0  2.610429e+06  96.801943  1.345943   \n",
       "2021-05-25  39740.8  36540.7  163010.0  2.289845e+06  85.818131  1.359463   \n",
       "\n",
       "                  NTRAT  BTC_MINED_PDAY  VOL_CHANGE_PDAY  NTRAT_CH_PDAY  \n",
       "Date                                                                     \n",
       "2021-05-23  644175796.0          843.75         139900.0       222357.0  \n",
       "2021-05-24  644370643.0          600.00         -80850.0       194847.0  \n",
       "2021-05-25  644605027.0          787.50         -81870.0       234384.0  "
      ]
     },
     "execution_count": 145,
     "metadata": {},
     "output_type": "execute_result"
    }
   ],
   "source": [
    "hold_out_X[:3]"
   ]
  },
  {
   "cell_type": "code",
   "execution_count": 146,
   "metadata": {
    "scrolled": true
   },
   "outputs": [
    {
     "data": {
      "text/plain": [
       "(array([[ 4.62687418,  4.40870958, -0.35261691,  0.63529705, -0.14814591,\n",
       "          0.79633976,  1.01585442, -0.49418605,  0.38353823, -2.19959743]]),\n",
       " 31)"
      ]
     },
     "execution_count": 146,
     "metadata": {},
     "output_type": "execute_result"
    }
   ],
   "source": [
    "hold_out_X_norm = nn_manager_cut.scaler.transform(hold_out_X)\n",
    "\n",
    "hold_out_X_norm[-1:], hold_out_X_norm.shape[0]"
   ]
  },
  {
   "cell_type": "code",
   "execution_count": 165,
   "metadata": {
    "scrolled": true
   },
   "outputs": [
    {
     "data": {
      "text/plain": [
       "DatetimeIndex(['2021-05-24', '2021-05-25', '2021-05-26', '2021-05-27',\n",
       "               '2021-05-28', '2021-05-29', '2021-05-30', '2021-05-31',\n",
       "               '2021-06-01', '2021-06-02', '2021-06-03', '2021-06-04',\n",
       "               '2021-06-05', '2021-06-06', '2021-06-07', '2021-06-08',\n",
       "               '2021-06-09', '2021-06-10', '2021-06-11', '2021-06-12',\n",
       "               '2021-06-13', '2021-06-14', '2021-06-15', '2021-06-16',\n",
       "               '2021-06-17', '2021-06-18', '2021-06-19', '2021-06-20',\n",
       "               '2021-06-21', '2021-06-22'],\n",
       "              dtype='datetime64[ns]', name='Date', freq=None)"
      ]
     },
     "execution_count": 165,
     "metadata": {},
     "output_type": "execute_result"
    }
   ],
   "source": [
    "left_off_date_index = hold_out_y.index[nn_manager_cut.training_seq_params['seq_len']:]\n",
    "left_off_date_index"
   ]
  },
  {
   "cell_type": "code",
   "execution_count": 152,
   "metadata": {},
   "outputs": [
    {
     "data": {
      "text/plain": [
       "(10,)"
      ]
     },
     "execution_count": 152,
     "metadata": {},
     "output_type": "execute_result"
    }
   ],
   "source": [
    "hold_out_X_norm[0].shape"
   ]
  },
  {
   "cell_type": "code",
   "execution_count": 160,
   "metadata": {},
   "outputs": [
    {
     "data": {
      "text/plain": [
       "[20.627104, 23.083088]"
      ]
     },
     "execution_count": 160,
     "metadata": {},
     "output_type": "execute_result"
    }
   ],
   "source": [
    "left_off_pred = [nn_manager_cut.model.predict(seq.reshape(-1, nn_manager_cut.training_seq_params['n_features']))[0][0]\n",
    "                 for seq in hold_out_X_norm]\n",
    "left_off_pred[:2]"
   ]
  },
  {
   "cell_type": "code",
   "execution_count": 202,
   "metadata": {},
   "outputs": [
    {
     "data": {
      "text/plain": [
       "array([[0.31390923]], dtype=float32)"
      ]
     },
     "execution_count": 202,
     "metadata": {},
     "output_type": "execute_result"
    }
   ],
   "source": [
    "## one date test prediction\n",
    "nn_manager_cut.model_predict(\n",
    "    nn_manager_cut.scaler\n",
    "        .transform(hold_out_X.loc['2021-05-24'].values.reshape(1, -1))\n",
    "        .reshape(-1, nn_manager_cut.training_seq_params['n_features'])\n",
    ")"
   ]
  },
  {
   "cell_type": "code",
   "execution_count": 161,
   "metadata": {},
   "outputs": [
    {
     "data": {
      "text/plain": [
       "38378.3"
      ]
     },
     "execution_count": 161,
     "metadata": {},
     "output_type": "execute_result"
    }
   ],
   "source": [
    "hold_out_y.loc['2021-05-24']"
   ]
  },
  {
   "cell_type": "code",
   "execution_count": 167,
   "metadata": {},
   "outputs": [],
   "source": [
    "hold_out_y_df = pd.DataFrame(data=hold_out_y_unrolled, )\n",
    "hold_out_pred_df = pd.DataFrame(data=left_off_pred, )"
   ]
  },
  {
   "cell_type": "code",
   "execution_count": 168,
   "metadata": {
    "scrolled": true
   },
   "outputs": [
    {
     "data": {
      "text/plain": [
       "Date\n",
       "2021-05-23    38750.6\n",
       "2021-05-24    38378.3\n",
       "2021-05-25    39249.2\n",
       "2021-05-26    38417.3\n",
       "2021-05-27    35662.5\n",
       "2021-05-28    34584.6\n",
       "Name: Next_day_Price, dtype: float64"
      ]
     },
     "execution_count": 168,
     "metadata": {},
     "output_type": "execute_result"
    }
   ],
   "source": [
    "hold_out_y[:6]"
   ]
  },
  {
   "cell_type": "code",
   "execution_count": 169,
   "metadata": {},
   "outputs": [
    {
     "data": {
      "text/html": [
       "<div>\n",
       "<style scoped>\n",
       "    .dataframe tbody tr th:only-of-type {\n",
       "        vertical-align: middle;\n",
       "    }\n",
       "\n",
       "    .dataframe tbody tr th {\n",
       "        vertical-align: top;\n",
       "    }\n",
       "\n",
       "    .dataframe thead th {\n",
       "        text-align: right;\n",
       "    }\n",
       "</style>\n",
       "<table border=\"1\" class=\"dataframe\">\n",
       "  <thead>\n",
       "    <tr style=\"text-align: right;\">\n",
       "      <th></th>\n",
       "      <th>0</th>\n",
       "    </tr>\n",
       "  </thead>\n",
       "  <tbody>\n",
       "    <tr>\n",
       "      <th>0</th>\n",
       "      <td>20.627104</td>\n",
       "    </tr>\n",
       "    <tr>\n",
       "      <th>1</th>\n",
       "      <td>23.083088</td>\n",
       "    </tr>\n",
       "    <tr>\n",
       "      <th>2</th>\n",
       "      <td>23.772659</td>\n",
       "    </tr>\n",
       "    <tr>\n",
       "      <th>3</th>\n",
       "      <td>24.700371</td>\n",
       "    </tr>\n",
       "    <tr>\n",
       "      <th>4</th>\n",
       "      <td>24.026093</td>\n",
       "    </tr>\n",
       "  </tbody>\n",
       "</table>\n",
       "</div>"
      ],
      "text/plain": [
       "           0\n",
       "0  20.627104\n",
       "1  23.083088\n",
       "2  23.772659\n",
       "3  24.700371\n",
       "4  24.026093"
      ]
     },
     "execution_count": 169,
     "metadata": {},
     "output_type": "execute_result"
    }
   ],
   "source": [
    "hold_out_pred_df[:5]"
   ]
  },
  {
   "cell_type": "code",
   "execution_count": 170,
   "metadata": {},
   "outputs": [
    {
     "data": {
      "text/plain": [
       "<AxesSubplot:>"
      ]
     },
     "execution_count": 170,
     "metadata": {},
     "output_type": "execute_result"
    },
    {
     "data": {
      "image/png": "[encoded data removed]",
      "text/plain": [
       "<Figure size 1080x360 with 1 Axes>"
      ]
     },
     "metadata": {
      "needs_background": "light"
     },
     "output_type": "display_data"
    }
   ],
   "source": [
    "fig, ax = plt.subplots(1, figsize=(15,5))\n",
    "\n",
    "hold_out_y_df.plot(ax=ax)\n",
    "hold_out_pred_df.plot(ax=ax)"
   ]
  },
  {
   "cell_type": "markdown",
   "metadata": {},
   "source": [
    "## think about this tomorrow\n",
    "https://monosnap.com/file/bLcjLWpyUcocdmuraTyJNIWkKZLhOh"
   ]
  },
  {
   "cell_type": "code",
   "execution_count": null,
   "metadata": {
    "scrolled": false
   },
   "outputs": [],
   "source": [
    "# nn_manager_cut.plot_predicted_vs_test_price(filters=[\"Date>='2021.02.01'\"]) \n",
    "# nn_manager_cut.plot_predicted_vs_test_price(filters=[\"Date>='2020.11.10'\", \"Date<='2021.04.10'\"], legend_loc='upper left') \n",
    "# nn_manager_cut.plot_predicted_vs_test_price(filters=[\"Date>='2018.06.01'\", \"Date<='2018.06.15'\"]) \n",
    "\n",
    "# nn_manager_cut.plot_predicted_vs_test_price(filters=[\"Date>='2014-11-01'\", \"Date<='2014-12-01'\"]) \n",
    "\n",
    "\n",
    "# nn_manager_cut.plot_predicted_vs_test_price(filters=[\"Date>='2021.06.09'\", \"Date<='2021.06.17'\"]) "
   ]
  },
  {
   "cell_type": "code",
   "execution_count": null,
   "metadata": {},
   "outputs": [],
   "source": [
    "# X = nn_manager_cut.X_test['2021-06-10':'2021-06-11']\n",
    "# X = nn_manager_cut.scaler.transform(X)\n",
    "# nn_manager_cut.model_predict(X.reshape(1, nn_manager_cut.training_seq_params['seq_len'],\n",
    "#                                                    nn_manager_cut.training_seq_params['n_features']))[0][0] "
   ]
  },
  {
   "cell_type": "code",
   "execution_count": null,
   "metadata": {},
   "outputs": [],
   "source": [
    "# nn_manager_cut.y_test.loc['2021-06-12']"
   ]
  },
  {
   "cell_type": "code",
   "execution_count": null,
   "metadata": {},
   "outputs": [],
   "source": [
    "# data_for_pred = nn_manager_cut.scaler.transform(nn_manager_cut.X_test.loc['2018.06.07':'2018.06.09'])\n",
    "# nn_manager_cut.model_predict(data_for_pred.reshape(1,\n",
    "#                                                   nn_manager_cut.training_seq_params['seq_len'],\n",
    "#                                                    nn_manager_cut.training_seq_params['n_features']))[0][0]\n"
   ]
  },
  {
   "cell_type": "code",
   "execution_count": null,
   "metadata": {},
   "outputs": [],
   "source": [
    "# nn_manager_cut.y_test.loc['2018.06.09']"
   ]
  },
  {
   "cell_type": "code",
   "execution_count": null,
   "metadata": {},
   "outputs": [],
   "source": [
    "# nn_manager_cut.y_test_unrolled[:3]"
   ]
  },
  {
   "cell_type": "code",
   "execution_count": null,
   "metadata": {
    "scrolled": false
   },
   "outputs": [],
   "source": [
    "# nn_manager_cut.y_pred[:3]"
   ]
  },
  {
   "cell_type": "code",
   "execution_count": null,
   "metadata": {},
   "outputs": [],
   "source": [
    "# nn_manager_cut.y_test[nn_manager_cut.training_seq_params['seq_len']:][:3]"
   ]
  }
 ],
 "metadata": {
  "kernelspec": {
   "display_name": "Python 3",
   "language": "python",
   "name": "python3"
  },
  "language_info": {
   "codemirror_mode": {
    "name": "ipython",
    "version": 3
   },
   "file_extension": ".py",
   "mimetype": "text/x-python",
   "name": "python",
   "nbconvert_exporter": "python",
   "pygments_lexer": "ipython3",
   "version": "3.6.9"
  }
 },
 "nbformat": 4,
 "nbformat_minor": 2
}
