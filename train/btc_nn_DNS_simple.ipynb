{
 "cells": [
  {
   "cell_type": "markdown",
   "metadata": {},
   "source": [
    "# Import, Init"
   ]
  },
  {
   "cell_type": "code",
   "execution_count": 1,
   "metadata": {},
   "outputs": [],
   "source": [
    "import tensorflow as tf \n",
    "\n",
    "gpus = tf.config.list_physical_devices('GPU')\n",
    "if gpus:\n",
    "    try:\n",
    "        # Currently, memory growth needs to be the same across GPUs\n",
    "        for gpu in gpus:\n",
    "            tf.config.experimental.set_memory_growth(gpu, True)\n",
    "        logical_gpus = tf.config.experimental.list_logical_devices('GPU')\n",
    "        print(len(gpus), \"Physical GPUs,\", len(logical_gpus), \"Logical GPUs\")\n",
    "    except RuntimeError as e:\n",
    "        # Memory growth must be set before GPUs have been initialized\n",
    "        print('Error')\n",
    "        print(e)"
   ]
  },
  {
   "cell_type": "code",
   "execution_count": 2,
   "metadata": {},
   "outputs": [
    {
     "name": "stderr",
     "output_type": "stream",
     "text": [
      "Matplotlib created a temporary config/cache directory at /tmp/matplotlib-8zyhd9wr because the default path (/.config/matplotlib) is not a writable directory; it is highly recommended to set the MPLCONFIGDIR environment variable to a writable directory, in particular to speed up the import of Matplotlib and to better support multiprocessing.\n"
     ]
    },
    {
     "data": {
      "text/plain": [
       "<module 'cls_nnetwork' from './classes/cls_nnetwork.py'>"
      ]
     },
     "execution_count": 2,
     "metadata": {},
     "output_type": "execute_result"
    }
   ],
   "source": [
    "import os, sys\n",
    "import pandas as pd\n",
    "import seaborn as sns\n",
    "import matplotlib.pyplot as plt\n",
    "\n",
    "sys.path.insert(0, \"./classes/\")\n",
    "import cls_nnetwork\n",
    "\n",
    "# reloading functions without runtime.restart\n",
    "import importlib\n",
    "importlib.reload(cls_nnetwork)"
   ]
  },
  {
   "cell_type": "code",
   "execution_count": 3,
   "metadata": {},
   "outputs": [
    {
     "name": "stdout",
     "output_type": "stream",
     "text": [
      "NULLS in data -->  0\n",
      ">>> train-test inited:  \n",
      " \tX_train len -->  1994 y_train len -->  1994 \n",
      " \tX_test len -->  1992 y_test len -->  1992 \n",
      " \tNULLS in data -->  0\n"
     ]
    }
   ],
   "source": [
    "# cut -- train test data with trimmed columns, so that it's more easy to train\n",
    "\n",
    "nn_manager_cut = cls_nnetwork.NeuralManager(dir_path='../data/csv_to_train/train_test_cut/')"
   ]
  },
  {
   "cell_type": "code",
   "execution_count": 4,
   "metadata": {},
   "outputs": [
    {
     "data": {
      "text/plain": [
       "Index(['Open', 'High', 'Low', 'Vol', 'TOUTV', 'TRFEE', 'AVBLS', 'NTRAT',\n",
       "       'BTC_MINED_PDAY', 'VOL_CHANGE_PDAY', 'MWNUS_CH_PDAY', 'NTRAT_CH_PDAY'],\n",
       "      dtype='object')"
      ]
     },
     "execution_count": 4,
     "metadata": {},
     "output_type": "execute_result"
    }
   ],
   "source": [
    "# loaded\n",
    "\n",
    "nn_manager_cut.y_train = nn_manager_cut.X_train.pop('Next_day_Price')\n",
    "nn_manager_cut.y_test = nn_manager_cut.X_test.pop('Next_day_Price')\n",
    "\n",
    "nn_manager_cut.X_train.columns"
   ]
  },
  {
   "cell_type": "code",
   "execution_count": 5,
   "metadata": {},
   "outputs": [
    {
     "data": {
      "text/plain": [
       "Index(['High', 'Low', 'Vol', 'TOUTV', 'TRFEE', 'AVBLS', 'NTRAT',\n",
       "       'BTC_MINED_PDAY', 'VOL_CHANGE_PDAY', 'NTRAT_CH_PDAY'],\n",
       "      dtype='object')"
      ]
     },
     "execution_count": 5,
     "metadata": {},
     "output_type": "execute_result"
    }
   ],
   "source": [
    "# nn_manager_cut.X_test.drop(columns=['VOL_CHANGE_PDAY', 'MWNUS_CH_PDAY', 'NTRAT_CH_PDAY', 'Open', 'TOUTV', 'TRFEE', 'AVBLS', 'NTRAT',\n",
    "#        'BTC_MINED_PDAY'], inplace=True, errors='ignore')\n",
    "# nn_manager_cut.X_train.drop(columns=['VOL_CHANGE_PDAY', 'MWNUS_CH_PDAY', 'NTRAT_CH_PDAY', 'Open','TOUTV', 'TRFEE', 'AVBLS', 'NTRAT',\n",
    "#        'BTC_MINED_PDAY'], inplace=True, errors='ignore')\n",
    "\n",
    "## SR: MWNUS_CH_PDAY is not refreshed in the source DS => supplies nulls for last week\n",
    "nn_manager_cut.X_test.drop(columns=[ 'MWNUS_CH_PDAY', 'Open'], inplace=True, errors='ignore')\n",
    "nn_manager_cut.X_train.drop(columns=[ 'MWNUS_CH_PDAY', 'Open'], inplace=True, errors='ignore')\n",
    "\n",
    "nn_manager_cut.X_train.columns"
   ]
  },
  {
   "cell_type": "code",
   "execution_count": 6,
   "metadata": {
    "scrolled": true
   },
   "outputs": [
    {
     "name": "stdout",
     "output_type": "stream",
     "text": [
      "NULLS in data -->  0\n"
     ]
    }
   ],
   "source": [
    "nn_manager_cut.count_nulls_in_data()"
   ]
  },
  {
   "cell_type": "code",
   "execution_count": 78,
   "metadata": {},
   "outputs": [
    {
     "data": {
      "text/plain": [
       "Date\n",
       "2016-01-02      430.7\n",
       "2016-01-03      433.3\n",
       "2016-01-04      431.2\n",
       "2016-01-05      430.8\n",
       "2016-01-06      457.0\n",
       "               ...   \n",
       "2021-06-11    35467.5\n",
       "2021-06-12    39022.9\n",
       "2021-06-13    40529.4\n",
       "2021-06-14    40156.1\n",
       "2021-06-15    38336.0\n",
       "Name: Next_day_Price, Length: 1992, dtype: float64"
      ]
     },
     "execution_count": 78,
     "metadata": {},
     "output_type": "execute_result"
    }
   ],
   "source": [
    "nn_manager_cut.y_test"
   ]
  },
  {
   "cell_type": "markdown",
   "metadata": {},
   "source": [
    "## Trial"
   ]
  },
  {
   "cell_type": "markdown",
   "metadata": {},
   "source": [
    "#### Adding Price as a column (we predict price for the next day, therefore price for current day is eligible)"
   ]
  },
  {
   "cell_type": "code",
   "execution_count": 7,
   "metadata": {},
   "outputs": [],
   "source": [
    "# nn_manager_cut.X_train = nn_manager_cut.X_train.merge(nn_manager_cut.y_train, right_index=True, left_index=True, how='left')\n",
    "# nn_manager_cut.X_test = nn_manager_cut.X_test.merge(nn_manager_cut.y_test, right_index=True, left_index=True, how='left')\n",
    "\n",
    "# nn_manager_cut.X_train[:2]"
   ]
  },
  {
   "cell_type": "markdown",
   "metadata": {},
   "source": [
    "# Preparing data"
   ]
  },
  {
   "cell_type": "markdown",
   "metadata": {},
   "source": [
    "#### Swapping (the trial issue)\n",
    "[[to #Model-fit]](#Model-fit)"
   ]
  },
  {
   "cell_type": "code",
   "execution_count": 8,
   "metadata": {},
   "outputs": [
    {
     "name": "stdout",
     "output_type": "stream",
     "text": [
      "X_train =>  1992\n",
      "X_test =>  1994\n",
      "\ttrain data period =>  2016-01-02 00:00:00 --> 2021-06-15 00:00:00\n",
      "\ttest data period =>  2010-07-18 00:00:00 --> 2016-01-01 00:00:00\n"
     ]
    }
   ],
   "source": [
    "tmp = nn_manager_cut.X_test.copy()\n",
    "nn_manager_cut.X_test = nn_manager_cut.X_train.copy()\n",
    "nn_manager_cut.X_train = tmp.copy()\n",
    "\n",
    "tmp = nn_manager_cut.y_test.copy()\n",
    "nn_manager_cut.y_test = nn_manager_cut.y_train.copy()\n",
    "nn_manager_cut.y_train = tmp.copy()\n",
    "\n",
    "print(\"X_train => \", nn_manager_cut.X_train.shape[0])\n",
    "print(\"X_test => \", nn_manager_cut.X_test.shape[0])\n",
    "print(\"\\ttrain data period => \", nn_manager_cut.X_train.index.min(), \"-->\", nn_manager_cut.X_train.index.max())\n",
    "print(\"\\ttest data period => \", nn_manager_cut.X_test.index.min(), \"-->\", nn_manager_cut.X_test.index.max())"
   ]
  },
  {
   "cell_type": "markdown",
   "metadata": {},
   "source": [
    "#### Keeping some Samples Aside"
   ]
  },
  {
   "cell_type": "code",
   "execution_count": 9,
   "metadata": {},
   "outputs": [
    {
     "name": "stdout",
     "output_type": "stream",
     "text": [
      "X_train, X_test =>  1971 1994\n",
      "\ttrain data period =>  2016-01-02 00:00:00 --> 2021-05-25 00:00:00\n",
      "\ttest data period =>  2010-07-18 00:00:00 --> 2016-01-01 00:00:00\n"
     ]
    }
   ],
   "source": [
    "left_off_days = 21\n",
    "left_off_X = nn_manager_cut.X_train[-left_off_days:].copy()\n",
    "nn_manager_cut.X_train = nn_manager_cut.X_train[:-left_off_days]\n",
    "\n",
    "left_off_y = nn_manager_cut.y_train[-left_off_days:].copy()\n",
    "nn_manager_cut.y_train = nn_manager_cut.y_train[:-left_off_days]\n",
    "\n",
    "print(\"X_train, X_test => \", nn_manager_cut.X_train.shape[0], nn_manager_cut.X_test.shape[0])\n",
    "print(\"\\ttrain data period => \", nn_manager_cut.X_train.index.min(), \"-->\", nn_manager_cut.X_train.index.max())\n",
    "print(\"\\ttest data period => \", nn_manager_cut.X_test.index.min(), \"-->\", nn_manager_cut.X_test.index.max())"
   ]
  },
  {
   "cell_type": "markdown",
   "metadata": {},
   "source": [
    "## Normalizing"
   ]
  },
  {
   "cell_type": "code",
   "execution_count": 10,
   "metadata": {},
   "outputs": [
    {
     "data": {
      "text/plain": [
       "(array([[-0.82604885, -0.82352348, -0.33692929, -1.2892465 , -0.6648523 ,\n",
       "         -2.99792455, -1.24649385, 13.09502262,  0.03948667, -2.22389752],\n",
       "        [-0.82604885, -0.82352348, -0.33590187, -1.29460087, -0.66814668,\n",
       "         -2.99746938, -1.24649156, 13.09502262,  0.03948667, -2.22389752]]),)"
      ]
     },
     "execution_count": 10,
     "metadata": {},
     "output_type": "execute_result"
    }
   ],
   "source": [
    "from sklearn.preprocessing import RobustScaler, QuantileTransformer\n",
    "\n",
    "nn_manager_cut.normalize_X(scaler=RobustScaler)\n",
    "# nn_manager_cut.transform_X(transformer=QuantileTransformer)\n",
    "\n",
    "(\n",
    "    nn_manager_cut.X_test_normalized[:2], \n",
    "#     nn_manager_cut.X_test_transformed\n",
    ")"
   ]
  },
  {
   "cell_type": "markdown",
   "metadata": {},
   "source": [
    "### Setting sequence len"
   ]
  },
  {
   "cell_type": "markdown",
   "metadata": {},
   "source": [
    "## Unrolling data to sequences\n",
    "[[to #Model-fit]](#Model-fit)"
   ]
  },
  {
   "cell_type": "code",
   "execution_count": 11,
   "metadata": {},
   "outputs": [
    {
     "name": "stdout",
     "output_type": "stream",
     "text": [
      "self.training_seq_params -->  {'seq_len': 1, 'n_features': 10}\n",
      "self.X_train_shape -->  [1, 10]\n",
      "self.X_test_shape -->  [1, 10]\n"
     ]
    },
    {
     "data": {
      "text/plain": [
       "True"
      ]
     },
     "execution_count": 11,
     "metadata": {},
     "output_type": "execute_result"
    }
   ],
   "source": [
    "nn_manager_cut.set_train_test_data_shapes(shape_kwargs=dict(seq_len=1))"
   ]
  },
  {
   "cell_type": "code",
   "execution_count": null,
   "metadata": {},
   "outputs": [],
   "source": []
  },
  {
   "cell_type": "markdown",
   "metadata": {},
   "source": [
    "# Model"
   ]
  },
  {
   "cell_type": "code",
   "execution_count": 12,
   "metadata": {
    "scrolled": true
   },
   "outputs": [
    {
     "data": {
      "text/plain": [
       "True"
      ]
     },
     "execution_count": 12,
     "metadata": {},
     "output_type": "execute_result"
    }
   ],
   "source": [
    "nn_manager_cut.unroll_train_test_to_sequences()"
   ]
  },
  {
   "cell_type": "code",
   "execution_count": 13,
   "metadata": {
    "scrolled": false
   },
   "outputs": [
    {
     "data": {
      "text/plain": [
       "array([[-0.77476152, -0.77833493, -0.2433157 , -1.        , -0.7804252 ]])"
      ]
     },
     "execution_count": 13,
     "metadata": {},
     "output_type": "execute_result"
    }
   ],
   "source": [
    "nn_manager_cut.X_train_unrolled[0]"
   ]
  },
  {
   "cell_type": "code",
   "execution_count": 14,
   "metadata": {
    "scrolled": false
   },
   "outputs": [
    {
     "data": {
      "text/plain": [
       "array([[-0.77514743, -0.77882939, -0.24668019, -1.        , -0.7804748 ]])"
      ]
     },
     "execution_count": 14,
     "metadata": {},
     "output_type": "execute_result"
    }
   ],
   "source": [
    "# goes up by one sequence -- compare this cell result vs previous\n",
    "nn_manager_cut.X_train_unrolled[1]"
   ]
  },
  {
   "cell_type": "code",
   "execution_count": 15,
   "metadata": {
    "scrolled": true
   },
   "outputs": [
    {
     "data": {
      "text/plain": [
       "(            Price\n",
       " Date             \n",
       " 2016-01-05  431.2\n",
       " 2016-01-06  430.8\n",
       " 2016-01-07  457.0\n",
       " 2016-01-08  452.9\n",
       " 2016-01-09  448.3\n",
       " 2016-01-10  446.2,\n",
       " array([[430.8],\n",
       "        [457. ],\n",
       "        [452.9],\n",
       "        [448.3],\n",
       "        [446.2],\n",
       "        [447.7]]))"
      ]
     },
     "execution_count": 15,
     "metadata": {},
     "output_type": "execute_result"
    }
   ],
   "source": [
    "# watching if shift is present\n",
    "nn_manager_cut.y_train.iloc[:6], nn_manager_cut.y_train_unrolled[:6]"
   ]
  },
  {
   "cell_type": "code",
   "execution_count": 16,
   "metadata": {},
   "outputs": [
    {
     "data": {
      "text/html": [
       "<div>\n",
       "<style scoped>\n",
       "    .dataframe tbody tr th:only-of-type {\n",
       "        vertical-align: middle;\n",
       "    }\n",
       "\n",
       "    .dataframe tbody tr th {\n",
       "        vertical-align: top;\n",
       "    }\n",
       "\n",
       "    .dataframe thead th {\n",
       "        text-align: right;\n",
       "    }\n",
       "</style>\n",
       "<table border=\"1\" class=\"dataframe\">\n",
       "  <thead>\n",
       "    <tr style=\"text-align: right;\">\n",
       "      <th></th>\n",
       "      <th>High</th>\n",
       "      <th>Low</th>\n",
       "      <th>Vol</th>\n",
       "      <th>PRICE_UP</th>\n",
       "      <th>Price</th>\n",
       "    </tr>\n",
       "    <tr>\n",
       "      <th>Date</th>\n",
       "      <th></th>\n",
       "      <th></th>\n",
       "      <th></th>\n",
       "      <th></th>\n",
       "      <th></th>\n",
       "    </tr>\n",
       "  </thead>\n",
       "  <tbody>\n",
       "    <tr>\n",
       "      <th>2016-01-05</th>\n",
       "      <td>435.3</td>\n",
       "      <td>428.9</td>\n",
       "      <td>45030.0</td>\n",
       "      <td>0</td>\n",
       "      <td>431.2</td>\n",
       "    </tr>\n",
       "    <tr>\n",
       "      <th>2016-01-06</th>\n",
       "      <td>432.1</td>\n",
       "      <td>425.0</td>\n",
       "      <td>43430.0</td>\n",
       "      <td>0</td>\n",
       "      <td>430.8</td>\n",
       "    </tr>\n",
       "  </tbody>\n",
       "</table>\n",
       "</div>"
      ],
      "text/plain": [
       "             High    Low      Vol  PRICE_UP  Price\n",
       "Date                                              \n",
       "2016-01-05  435.3  428.9  45030.0         0  431.2\n",
       "2016-01-06  432.1  425.0  43430.0         0  430.8"
      ]
     },
     "execution_count": 16,
     "metadata": {},
     "output_type": "execute_result"
    }
   ],
   "source": [
    "X, _ = nn_manager_cut._unroll_XY_to_sequence(X=nn_manager_cut.X_train, y=nn_manager_cut.y_train, asarray=False, dataframe=True)\n",
    "pd.concat(X)[:2]"
   ]
  },
  {
   "cell_type": "markdown",
   "metadata": {},
   "source": [
    "## Model Assembling"
   ]
  },
  {
   "cell_type": "markdown",
   "metadata": {},
   "source": [
    "[n_seq-n_steps in MLM example elaboration](z_MlMastery%20LSTM%20for%20TS%20.ipynb#n_seq-n_steps)<br>\n",
    "(We can parameterize this and define the number of subsequences as n_seq and the number of time steps per subsequence as n_steps. [[source]](https://machinelearningmastery.com/how-to-develop-lstm-models-for-time-series-forecasting/#:~:text=We%20can%20parameterize%20this%20and))"
   ]
  },
  {
   "cell_type": "code",
   "execution_count": 92,
   "metadata": {
    "scrolled": true
   },
   "outputs": [
    {
     "ename": "KeyError",
     "evalue": "'seq_len'",
     "output_type": "error",
     "traceback": [
      "\u001b[0;31m---------------------------------------------------------------------------\u001b[0m",
      "\u001b[0;31mKeyError\u001b[0m                                  Traceback (most recent call last)",
      "\u001b[0;32m<ipython-input-92-6152cb6659fd>\u001b[0m in \u001b[0;36m<module>\u001b[0;34m\u001b[0m\n\u001b[0;32m----> 1\u001b[0;31m \u001b[0mx_train_try\u001b[0m\u001b[0;34m,\u001b[0m \u001b[0m_\u001b[0m \u001b[0;34m=\u001b[0m \u001b[0mnn_manager_cut\u001b[0m\u001b[0;34m.\u001b[0m\u001b[0m_unroll_XY_to_sequence\u001b[0m\u001b[0;34m(\u001b[0m\u001b[0mX\u001b[0m\u001b[0;34m=\u001b[0m\u001b[0mnn_manager_cut\u001b[0m\u001b[0;34m.\u001b[0m\u001b[0mX_train\u001b[0m\u001b[0;34m,\u001b[0m \u001b[0my\u001b[0m\u001b[0;34m=\u001b[0m\u001b[0mnn_manager_cut\u001b[0m\u001b[0;34m.\u001b[0m\u001b[0my_train\u001b[0m\u001b[0;34m,\u001b[0m \u001b[0masarray\u001b[0m\u001b[0;34m=\u001b[0m\u001b[0;32mFalse\u001b[0m\u001b[0;34m,\u001b[0m \u001b[0mdataframe\u001b[0m\u001b[0;34m=\u001b[0m\u001b[0;32mTrue\u001b[0m\u001b[0;34m)\u001b[0m\u001b[0;34m\u001b[0m\u001b[0;34m\u001b[0m\u001b[0m\n\u001b[0m\u001b[1;32m      2\u001b[0m \u001b[0mx_train_try\u001b[0m \u001b[0;34m=\u001b[0m \u001b[0mpd\u001b[0m\u001b[0;34m.\u001b[0m\u001b[0mconcat\u001b[0m\u001b[0;34m(\u001b[0m\u001b[0mx_train_try\u001b[0m\u001b[0;34m)\u001b[0m\u001b[0;34m\u001b[0m\u001b[0;34m\u001b[0m\u001b[0m\n\u001b[1;32m      3\u001b[0m \u001b[0mx_train_try\u001b[0m\u001b[0;34m\u001b[0m\u001b[0;34m\u001b[0m\u001b[0m\n",
      "\u001b[0;32m~tf/train/classes/cls_nnetwork.py\u001b[0m in \u001b[0;36m_unroll_XY_to_sequence\u001b[0;34m(self, X, y, asarray, dataframe)\u001b[0m\n\u001b[1;32m    149\u001b[0m                 \u001b[0mlist_y\u001b[0m\u001b[0;34m.\u001b[0m\u001b[0mappend\u001b[0m\u001b[0;34m(\u001b[0m\u001b[0my\u001b[0m\u001b[0;34m[\u001b[0m\u001b[0mindex\u001b[0m \u001b[0;34m+\u001b[0m \u001b[0;34m(\u001b[0m\u001b[0mself\u001b[0m\u001b[0;34m.\u001b[0m\u001b[0mtraining_seq_params\u001b[0m\u001b[0;34m[\u001b[0m\u001b[0;34m'seq_len'\u001b[0m\u001b[0;34m]\u001b[0m\u001b[0;34m)\u001b[0m\u001b[0;34m]\u001b[0m\u001b[0;34m)\u001b[0m\u001b[0;34m\u001b[0m\u001b[0;34m\u001b[0m\u001b[0m\n\u001b[1;32m    150\u001b[0m         \u001b[0;32melse\u001b[0m\u001b[0;34m:\u001b[0m\u001b[0;34m\u001b[0m\u001b[0;34m\u001b[0m\u001b[0m\n\u001b[0;32m--> 151\u001b[0;31m             \u001b[0;32mfor\u001b[0m \u001b[0mindex\u001b[0m \u001b[0;32min\u001b[0m \u001b[0mrange\u001b[0m\u001b[0;34m(\u001b[0m\u001b[0mlen\u001b[0m\u001b[0;34m(\u001b[0m\u001b[0mX\u001b[0m\u001b[0;34m)\u001b[0m \u001b[0;34m-\u001b[0m \u001b[0mself\u001b[0m\u001b[0;34m.\u001b[0m\u001b[0mtraining_seq_params\u001b[0m\u001b[0;34m[\u001b[0m\u001b[0;34m'seq_len'\u001b[0m\u001b[0;34m]\u001b[0m\u001b[0;34m)\u001b[0m\u001b[0;34m:\u001b[0m\u001b[0;34m\u001b[0m\u001b[0;34m\u001b[0m\u001b[0m\n\u001b[0m\u001b[1;32m    152\u001b[0m                 \u001b[0mlist_X\u001b[0m\u001b[0;34m.\u001b[0m\u001b[0mappend\u001b[0m\u001b[0;34m(\u001b[0m\u001b[0mX\u001b[0m\u001b[0;34m.\u001b[0m\u001b[0miloc\u001b[0m\u001b[0;34m[\u001b[0m\u001b[0mindex\u001b[0m\u001b[0;34m:\u001b[0m \u001b[0mindex\u001b[0m \u001b[0;34m+\u001b[0m \u001b[0mself\u001b[0m\u001b[0;34m.\u001b[0m\u001b[0mtraining_seq_params\u001b[0m\u001b[0;34m[\u001b[0m\u001b[0;34m'seq_len'\u001b[0m\u001b[0;34m]\u001b[0m\u001b[0;34m]\u001b[0m\u001b[0;34m)\u001b[0m\u001b[0;34m\u001b[0m\u001b[0;34m\u001b[0m\u001b[0m\n\u001b[1;32m    153\u001b[0m                 \u001b[0mlist_y\u001b[0m\u001b[0;34m.\u001b[0m\u001b[0mappend\u001b[0m\u001b[0;34m(\u001b[0m\u001b[0my\u001b[0m\u001b[0;34m.\u001b[0m\u001b[0miloc\u001b[0m\u001b[0;34m[\u001b[0m\u001b[0mindex\u001b[0m \u001b[0;34m+\u001b[0m \u001b[0;34m(\u001b[0m\u001b[0mself\u001b[0m\u001b[0;34m.\u001b[0m\u001b[0mtraining_seq_params\u001b[0m\u001b[0;34m[\u001b[0m\u001b[0;34m'seq_len'\u001b[0m\u001b[0;34m]\u001b[0m\u001b[0;34m)\u001b[0m\u001b[0;34m]\u001b[0m\u001b[0;34m)\u001b[0m\u001b[0;34m\u001b[0m\u001b[0;34m\u001b[0m\u001b[0m\n",
      "\u001b[0;31mKeyError\u001b[0m: 'seq_len'"
     ]
    }
   ],
   "source": [
    "x_train_try, _ = nn_manager_cut._unroll_XY_to_sequence(X=nn_manager_cut.X_train, y=nn_manager_cut.y_train, asarray=False, dataframe=True)\n",
    "x_train_try = pd.concat(x_train_try)\n",
    "x_train_try"
   ]
  },
  {
   "cell_type": "markdown",
   "metadata": {},
   "source": [
    "### Architectures"
   ]
  },
  {
   "cell_type": "code",
   "execution_count": 11,
   "metadata": {
    "scrolled": true
   },
   "outputs": [
    {
     "data": {
      "text/plain": [
       "[             High    Low      Vol         TOUTV      TRFEE     AVBLS  \\\n",
       " Date                                                                   \n",
       " 2014-12-02  384.9  375.4  25290.0  1.219368e+06  14.196577  0.391369   \n",
       " \n",
       "                  NTRAT  BTC_MINED_PDAY  VOL_CHANGE_PDAY  NTRAT_CH_PDAY  \n",
       " Date                                                                    \n",
       " 2014-12-02  52875294.0           350.0           5620.0       -72200.0  ,\n",
       "              High    Low      Vol         TOUTV      TRFEE     AVBLS  \\\n",
       " Date                                                                   \n",
       " 2014-12-03  384.7  373.6  23510.0  1.221570e+06  14.051231  0.355757   \n",
       " \n",
       "                  NTRAT  BTC_MINED_PDAY  VOL_CHANGE_PDAY  NTRAT_CH_PDAY  \n",
       " Date                                                                    \n",
       " 2014-12-03  53145619.0          6375.0          -1780.0       270325.0  ,\n",
       "              High    Low      Vol         TOUTV      TRFEE     AVBLS  \\\n",
       " Date                                                                   \n",
       " 2014-12-04  380.4  366.2  25330.0  1.282270e+06  13.716983  0.331026   \n",
       " \n",
       "                  NTRAT  BTC_MINED_PDAY  VOL_CHANGE_PDAY  NTRAT_CH_PDAY  \n",
       " Date                                                                    \n",
       " 2014-12-04  53238519.0          3750.0           1820.0        92900.0  ]"
      ]
     },
     "execution_count": 11,
     "metadata": {},
     "output_type": "execute_result"
    }
   ],
   "source": [
    "x_train_try, _ = nn_manager_cut._unroll_XY_to_sequence(X=nn_manager_cut.X_train, y=nn_manager_cut.y_train, asarray=False, dataframe=True)\n",
    "# x_train_try = pd.concat(x_train_try)\n",
    "x_train_try[:3]"
   ]
  },
  {
   "cell_type": "markdown",
   "metadata": {},
   "source": [
    "#### Keras imports"
   ]
  },
  {
   "cell_type": "code",
   "execution_count": 12,
   "metadata": {},
   "outputs": [],
   "source": [
    "from tensorflow.keras.layers import (\n",
    "    Input,\n",
    "    Flatten,\n",
    "    LeakyReLU,\n",
    "    TimeDistributed, \n",
    "    Conv1D, \n",
    "    MaxPooling1D, \n",
    "    Flatten, \n",
    "    LSTM, \n",
    "    Bidirectional,\n",
    "    Dense, \n",
    "    Dropout, \n",
    "    BatchNormalization)\n",
    "from tensorflow.keras.initializers import GlorotUniform, GlorotNormal\n",
    "from tensorflow.keras import regularizers"
   ]
  },
  {
   "cell_type": "code",
   "execution_count": null,
   "metadata": {},
   "outputs": [],
   "source": []
  },
  {
   "cell_type": "markdown",
   "metadata": {},
   "source": [
    "#### Dense Architecture-based\n",
    "[[Unrolling Seq Len]](#Unrolling-data-to-sequences)<br>\n",
    "[[to #Model-fit]](#Model-fit)"
   ]
  },
  {
   "cell_type": "code",
   "execution_count": 13,
   "metadata": {},
   "outputs": [
    {
     "data": {
      "text/plain": [
       "(1, 10)"
      ]
     },
     "execution_count": 13,
     "metadata": {},
     "output_type": "execute_result"
    }
   ],
   "source": [
    "input_model_shape=(nn_manager_cut.training_seq_params['seq_len'], nn_manager_cut.training_seq_params['n_features'])\n",
    "input_model_shape"
   ]
  },
  {
   "cell_type": "code",
   "execution_count": 14,
   "metadata": {},
   "outputs": [],
   "source": [
    "# Dense Architecture\n",
    "\n",
    "weights_init = GlorotNormal()\n",
    "\n",
    "template_DNS = [\n",
    "    Input(shape=input_model_shape),\n",
    "    Flatten(),\n",
    "    Dense(150,           \n",
    "          kernel_initializer=weights_init\n",
    "         ),\n",
    "    Dense(450, \n",
    "          kernel_initializer=weights_init\n",
    "         ),\n",
    "    Dense(250, \n",
    "          kernel_initializer=weights_init\n",
    "         ),\n",
    "    Dense(50, \n",
    "          kernel_initializer=weights_init\n",
    "         ),\n",
    "    Dense(1, kernel_initializer=weights_init)\n",
    "]"
   ]
  },
  {
   "cell_type": "code",
   "execution_count": 87,
   "metadata": {},
   "outputs": [
    {
     "ename": "AttributeError",
     "evalue": "'NoneType' object has no attribute 'shape'",
     "output_type": "error",
     "traceback": [
      "\u001b[0;31m---------------------------------------------------------------------------\u001b[0m",
      "\u001b[0;31mAttributeError\u001b[0m                            Traceback (most recent call last)",
      "\u001b[0;32m<ipython-input-87-de4d9cb62dbf>\u001b[0m in \u001b[0;36m<module>\u001b[0;34m\u001b[0m\n\u001b[0;32m----> 1\u001b[0;31m \u001b[0mnn_manager_cut\u001b[0m\u001b[0;34m.\u001b[0m\u001b[0mX_train_unrolled\u001b[0m\u001b[0;34m.\u001b[0m\u001b[0mshape\u001b[0m\u001b[0;34m\u001b[0m\u001b[0;34m\u001b[0m\u001b[0m\n\u001b[0m",
      "\u001b[0;31mAttributeError\u001b[0m: 'NoneType' object has no attribute 'shape'"
     ]
    }
   ],
   "source": [
    "nn_manager_cut.X_train_unrolled.shape"
   ]
  },
  {
   "cell_type": "markdown",
   "metadata": {},
   "source": [
    "### Compiling Model with the chosen Architecture"
   ]
  },
  {
   "cell_type": "code",
   "execution_count": 92,
   "metadata": {
    "scrolled": true
   },
   "outputs": [
    {
     "ename": "KeyError",
     "evalue": "'seq_len'",
     "output_type": "error",
     "traceback": [
      "\u001b[0;31m---------------------------------------------------------------------------\u001b[0m",
      "\u001b[0;31mKeyError\u001b[0m                                  Traceback (most recent call last)",
      "\u001b[0;32m<ipython-input-92-6152cb6659fd>\u001b[0m in \u001b[0;36m<module>\u001b[0;34m\u001b[0m\n\u001b[0;32m----> 1\u001b[0;31m \u001b[0mx_train_try\u001b[0m\u001b[0;34m,\u001b[0m \u001b[0m_\u001b[0m \u001b[0;34m=\u001b[0m \u001b[0mnn_manager_cut\u001b[0m\u001b[0;34m.\u001b[0m\u001b[0m_unroll_XY_to_sequence\u001b[0m\u001b[0;34m(\u001b[0m\u001b[0mX\u001b[0m\u001b[0;34m=\u001b[0m\u001b[0mnn_manager_cut\u001b[0m\u001b[0;34m.\u001b[0m\u001b[0mX_train\u001b[0m\u001b[0;34m,\u001b[0m \u001b[0my\u001b[0m\u001b[0;34m=\u001b[0m\u001b[0mnn_manager_cut\u001b[0m\u001b[0;34m.\u001b[0m\u001b[0my_train\u001b[0m\u001b[0;34m,\u001b[0m \u001b[0masarray\u001b[0m\u001b[0;34m=\u001b[0m\u001b[0;32mFalse\u001b[0m\u001b[0;34m,\u001b[0m \u001b[0mdataframe\u001b[0m\u001b[0;34m=\u001b[0m\u001b[0;32mTrue\u001b[0m\u001b[0;34m)\u001b[0m\u001b[0;34m\u001b[0m\u001b[0;34m\u001b[0m\u001b[0m\n\u001b[0m\u001b[1;32m      2\u001b[0m \u001b[0mx_train_try\u001b[0m \u001b[0;34m=\u001b[0m \u001b[0mpd\u001b[0m\u001b[0;34m.\u001b[0m\u001b[0mconcat\u001b[0m\u001b[0;34m(\u001b[0m\u001b[0mx_train_try\u001b[0m\u001b[0;34m)\u001b[0m\u001b[0;34m\u001b[0m\u001b[0;34m\u001b[0m\u001b[0m\n\u001b[1;32m      3\u001b[0m \u001b[0mx_train_try\u001b[0m\u001b[0;34m\u001b[0m\u001b[0;34m\u001b[0m\u001b[0m\n",
      "\u001b[0;32m~tf/train/classes/cls_nnetwork.py\u001b[0m in \u001b[0;36m_unroll_XY_to_sequence\u001b[0;34m(self, X, y, asarray, dataframe)\u001b[0m\n\u001b[1;32m    149\u001b[0m                 \u001b[0mlist_y\u001b[0m\u001b[0;34m.\u001b[0m\u001b[0mappend\u001b[0m\u001b[0;34m(\u001b[0m\u001b[0my\u001b[0m\u001b[0;34m[\u001b[0m\u001b[0mindex\u001b[0m \u001b[0;34m+\u001b[0m \u001b[0;34m(\u001b[0m\u001b[0mself\u001b[0m\u001b[0;34m.\u001b[0m\u001b[0mtraining_seq_params\u001b[0m\u001b[0;34m[\u001b[0m\u001b[0;34m'seq_len'\u001b[0m\u001b[0;34m]\u001b[0m\u001b[0;34m)\u001b[0m\u001b[0;34m]\u001b[0m\u001b[0;34m)\u001b[0m\u001b[0;34m\u001b[0m\u001b[0;34m\u001b[0m\u001b[0m\n\u001b[1;32m    150\u001b[0m         \u001b[0;32melse\u001b[0m\u001b[0;34m:\u001b[0m\u001b[0;34m\u001b[0m\u001b[0;34m\u001b[0m\u001b[0m\n\u001b[0;32m--> 151\u001b[0;31m             \u001b[0;32mfor\u001b[0m \u001b[0mindex\u001b[0m \u001b[0;32min\u001b[0m \u001b[0mrange\u001b[0m\u001b[0;34m(\u001b[0m\u001b[0mlen\u001b[0m\u001b[0;34m(\u001b[0m\u001b[0mX\u001b[0m\u001b[0;34m)\u001b[0m \u001b[0;34m-\u001b[0m \u001b[0mself\u001b[0m\u001b[0;34m.\u001b[0m\u001b[0mtraining_seq_params\u001b[0m\u001b[0;34m[\u001b[0m\u001b[0;34m'seq_len'\u001b[0m\u001b[0;34m]\u001b[0m\u001b[0;34m)\u001b[0m\u001b[0;34m:\u001b[0m\u001b[0;34m\u001b[0m\u001b[0;34m\u001b[0m\u001b[0m\n\u001b[0m\u001b[1;32m    152\u001b[0m                 \u001b[0mlist_X\u001b[0m\u001b[0;34m.\u001b[0m\u001b[0mappend\u001b[0m\u001b[0;34m(\u001b[0m\u001b[0mX\u001b[0m\u001b[0;34m.\u001b[0m\u001b[0miloc\u001b[0m\u001b[0;34m[\u001b[0m\u001b[0mindex\u001b[0m\u001b[0;34m:\u001b[0m \u001b[0mindex\u001b[0m \u001b[0;34m+\u001b[0m \u001b[0mself\u001b[0m\u001b[0;34m.\u001b[0m\u001b[0mtraining_seq_params\u001b[0m\u001b[0;34m[\u001b[0m\u001b[0;34m'seq_len'\u001b[0m\u001b[0;34m]\u001b[0m\u001b[0;34m]\u001b[0m\u001b[0;34m)\u001b[0m\u001b[0;34m\u001b[0m\u001b[0;34m\u001b[0m\u001b[0m\n\u001b[1;32m    153\u001b[0m                 \u001b[0mlist_y\u001b[0m\u001b[0;34m.\u001b[0m\u001b[0mappend\u001b[0m\u001b[0;34m(\u001b[0m\u001b[0my\u001b[0m\u001b[0;34m.\u001b[0m\u001b[0miloc\u001b[0m\u001b[0;34m[\u001b[0m\u001b[0mindex\u001b[0m \u001b[0;34m+\u001b[0m \u001b[0;34m(\u001b[0m\u001b[0mself\u001b[0m\u001b[0;34m.\u001b[0m\u001b[0mtraining_seq_params\u001b[0m\u001b[0;34m[\u001b[0m\u001b[0;34m'seq_len'\u001b[0m\u001b[0;34m]\u001b[0m\u001b[0;34m)\u001b[0m\u001b[0;34m]\u001b[0m\u001b[0;34m)\u001b[0m\u001b[0;34m\u001b[0m\u001b[0;34m\u001b[0m\u001b[0m\n",
      "\u001b[0;31mKeyError\u001b[0m: 'seq_len'"
     ]
    }
   ],
   "source": [
    "x_train_try, _ = nn_manager_cut._unroll_XY_to_sequence(X=nn_manager_cut.X_train, y=nn_manager_cut.y_train, asarray=False, dataframe=True)\n",
    "x_train_try = pd.concat(x_train_try)\n",
    "x_train_try"
   ]
  },
  {
   "cell_type": "code",
   "execution_count": 92,
   "metadata": {
    "scrolled": true
   },
   "outputs": [
    {
     "ename": "KeyError",
     "evalue": "'seq_len'",
     "output_type": "error",
     "traceback": [
      "\u001b[0;31m---------------------------------------------------------------------------\u001b[0m",
      "\u001b[0;31mKeyError\u001b[0m                                  Traceback (most recent call last)",
      "\u001b[0;32m<ipython-input-92-6152cb6659fd>\u001b[0m in \u001b[0;36m<module>\u001b[0;34m\u001b[0m\n\u001b[0;32m----> 1\u001b[0;31m \u001b[0mx_train_try\u001b[0m\u001b[0;34m,\u001b[0m \u001b[0m_\u001b[0m \u001b[0;34m=\u001b[0m \u001b[0mnn_manager_cut\u001b[0m\u001b[0;34m.\u001b[0m\u001b[0m_unroll_XY_to_sequence\u001b[0m\u001b[0;34m(\u001b[0m\u001b[0mX\u001b[0m\u001b[0;34m=\u001b[0m\u001b[0mnn_manager_cut\u001b[0m\u001b[0;34m.\u001b[0m\u001b[0mX_train\u001b[0m\u001b[0;34m,\u001b[0m \u001b[0my\u001b[0m\u001b[0;34m=\u001b[0m\u001b[0mnn_manager_cut\u001b[0m\u001b[0;34m.\u001b[0m\u001b[0my_train\u001b[0m\u001b[0;34m,\u001b[0m \u001b[0masarray\u001b[0m\u001b[0;34m=\u001b[0m\u001b[0;32mFalse\u001b[0m\u001b[0;34m,\u001b[0m \u001b[0mdataframe\u001b[0m\u001b[0;34m=\u001b[0m\u001b[0;32mTrue\u001b[0m\u001b[0;34m)\u001b[0m\u001b[0;34m\u001b[0m\u001b[0;34m\u001b[0m\u001b[0m\n\u001b[0m\u001b[1;32m      2\u001b[0m \u001b[0mx_train_try\u001b[0m \u001b[0;34m=\u001b[0m \u001b[0mpd\u001b[0m\u001b[0;34m.\u001b[0m\u001b[0mconcat\u001b[0m\u001b[0;34m(\u001b[0m\u001b[0mx_train_try\u001b[0m\u001b[0;34m)\u001b[0m\u001b[0;34m\u001b[0m\u001b[0;34m\u001b[0m\u001b[0m\n\u001b[1;32m      3\u001b[0m \u001b[0mx_train_try\u001b[0m\u001b[0;34m\u001b[0m\u001b[0;34m\u001b[0m\u001b[0m\n",
      "\u001b[0;32m~tf/train/classes/cls_nnetwork.py\u001b[0m in \u001b[0;36m_unroll_XY_to_sequence\u001b[0;34m(self, X, y, asarray, dataframe)\u001b[0m\n\u001b[1;32m    149\u001b[0m                 \u001b[0mlist_y\u001b[0m\u001b[0;34m.\u001b[0m\u001b[0mappend\u001b[0m\u001b[0;34m(\u001b[0m\u001b[0my\u001b[0m\u001b[0;34m[\u001b[0m\u001b[0mindex\u001b[0m \u001b[0;34m+\u001b[0m \u001b[0;34m(\u001b[0m\u001b[0mself\u001b[0m\u001b[0;34m.\u001b[0m\u001b[0mtraining_seq_params\u001b[0m\u001b[0;34m[\u001b[0m\u001b[0;34m'seq_len'\u001b[0m\u001b[0;34m]\u001b[0m\u001b[0;34m)\u001b[0m\u001b[0;34m]\u001b[0m\u001b[0;34m)\u001b[0m\u001b[0;34m\u001b[0m\u001b[0;34m\u001b[0m\u001b[0m\n\u001b[1;32m    150\u001b[0m         \u001b[0;32melse\u001b[0m\u001b[0;34m:\u001b[0m\u001b[0;34m\u001b[0m\u001b[0;34m\u001b[0m\u001b[0m\n\u001b[0;32m--> 151\u001b[0;31m             \u001b[0;32mfor\u001b[0m \u001b[0mindex\u001b[0m \u001b[0;32min\u001b[0m \u001b[0mrange\u001b[0m\u001b[0;34m(\u001b[0m\u001b[0mlen\u001b[0m\u001b[0;34m(\u001b[0m\u001b[0mX\u001b[0m\u001b[0;34m)\u001b[0m \u001b[0;34m-\u001b[0m \u001b[0mself\u001b[0m\u001b[0;34m.\u001b[0m\u001b[0mtraining_seq_params\u001b[0m\u001b[0;34m[\u001b[0m\u001b[0;34m'seq_len'\u001b[0m\u001b[0;34m]\u001b[0m\u001b[0;34m)\u001b[0m\u001b[0;34m:\u001b[0m\u001b[0;34m\u001b[0m\u001b[0;34m\u001b[0m\u001b[0m\n\u001b[0m\u001b[1;32m    152\u001b[0m                 \u001b[0mlist_X\u001b[0m\u001b[0;34m.\u001b[0m\u001b[0mappend\u001b[0m\u001b[0;34m(\u001b[0m\u001b[0mX\u001b[0m\u001b[0;34m.\u001b[0m\u001b[0miloc\u001b[0m\u001b[0;34m[\u001b[0m\u001b[0mindex\u001b[0m\u001b[0;34m:\u001b[0m \u001b[0mindex\u001b[0m \u001b[0;34m+\u001b[0m \u001b[0mself\u001b[0m\u001b[0;34m.\u001b[0m\u001b[0mtraining_seq_params\u001b[0m\u001b[0;34m[\u001b[0m\u001b[0;34m'seq_len'\u001b[0m\u001b[0;34m]\u001b[0m\u001b[0;34m]\u001b[0m\u001b[0;34m)\u001b[0m\u001b[0;34m\u001b[0m\u001b[0;34m\u001b[0m\u001b[0m\n\u001b[1;32m    153\u001b[0m                 \u001b[0mlist_y\u001b[0m\u001b[0;34m.\u001b[0m\u001b[0mappend\u001b[0m\u001b[0;34m(\u001b[0m\u001b[0my\u001b[0m\u001b[0;34m.\u001b[0m\u001b[0miloc\u001b[0m\u001b[0;34m[\u001b[0m\u001b[0mindex\u001b[0m \u001b[0;34m+\u001b[0m \u001b[0;34m(\u001b[0m\u001b[0mself\u001b[0m\u001b[0;34m.\u001b[0m\u001b[0mtraining_seq_params\u001b[0m\u001b[0;34m[\u001b[0m\u001b[0;34m'seq_len'\u001b[0m\u001b[0;34m]\u001b[0m\u001b[0;34m)\u001b[0m\u001b[0;34m]\u001b[0m\u001b[0;34m)\u001b[0m\u001b[0;34m\u001b[0m\u001b[0;34m\u001b[0m\u001b[0m\n",
      "\u001b[0;31mKeyError\u001b[0m: 'seq_len'"
     ]
    }
   ],
   "source": [
    "x_train_try, _ = nn_manager_cut._unroll_XY_to_sequence(X=nn_manager_cut.X_train, y=nn_manager_cut.y_train, asarray=False, dataframe=True)\n",
    "x_train_try = pd.concat(x_train_try)\n",
    "x_train_try"
   ]
  },
  {
   "cell_type": "code",
   "execution_count": 15,
   "metadata": {
    "scrolled": false
   },
   "outputs": [
    {
     "name": "stdout",
     "output_type": "stream",
     "text": [
      ">>> model compiled\n",
      "Model: \"sequential\"\n",
      "_________________________________________________________________\n",
      "Layer (type)                 Output Shape              Param #   \n",
      "=================================================================\n",
      "dense (Dense)                (None, 50)                550       \n",
      "_________________________________________________________________\n",
      "dense_1 (Dense)              (None, 150)               7650      \n",
      "_________________________________________________________________\n",
      "dense_2 (Dense)              (None, 100)               15100     \n",
      "_________________________________________________________________\n",
      "dense_3 (Dense)              (None, 50)                5050      \n",
      "_________________________________________________________________\n",
      "dense_4 (Dense)              (None, 1)                 51        \n",
      "=================================================================\n",
      "Total params: 28,401\n",
      "Trainable params: 28,401\n",
      "Non-trainable params: 0\n",
      "_________________________________________________________________\n"
     ]
    },
    {
     "data": {
      "text/plain": [
       "True"
      ]
     },
     "execution_count": 15,
     "metadata": {},
     "output_type": "execute_result"
    }
   ],
   "source": [
    "# Assembling and compiling model\n",
    "\n",
    "from tensorflow import keras\n",
    "\n",
    "opt_adam = keras.optimizers.Adam(\n",
    "    learning_rate=1e-5, #wo BatchNorm\n",
    "    beta_1=0.9,\n",
    "    beta_2=0.999,\n",
    "    epsilon=1e-07,\n",
    "    amsgrad=False, \n",
    ")\n",
    "\n",
    "compile_dict = dict(optimizer=opt_adam, loss=keras.losses.Huber(delta=.5), metrics=['mae']) # huber loss as per outliers\n",
    "\n",
    "\n",
    "nn_manager_cut.model_combine(template=template_DNS, compile_dict=compile_dict)"
   ]
  },
  {
   "cell_type": "markdown",
   "metadata": {},
   "source": [
    "## Model Training"
   ]
  },
  {
   "cell_type": "markdown",
   "metadata": {},
   "source": [
    "#### Model fit"
   ]
  },
  {
   "cell_type": "code",
   "execution_count": 16,
   "metadata": {},
   "outputs": [
    {
     "data": {
      "text/plain": [
       "([1, 10], [1, 10])"
      ]
     },
     "execution_count": 16,
     "metadata": {},
     "output_type": "execute_result"
    }
   ],
   "source": [
    "nn_manager_cut.X_train_shape, nn_manager_cut.X_test_shape, "
   ]
  },
  {
   "cell_type": "code",
   "execution_count": 12,
   "metadata": {},
   "outputs": [
    {
     "data": {
      "text/plain": [
       "[             High    Low      Vol         TOUTV      TRFEE     AVBLS  \\\n",
       " Date                                                                   \n",
       " 2014-12-02  384.9  375.4  25290.0  1.219368e+06  14.196577  0.391369   \n",
       " 2014-12-03  384.7  373.6  23510.0  1.221570e+06  14.051231  0.355757   \n",
       " 2014-12-04  380.4  366.2  25330.0  1.282270e+06  13.716983  0.331026   \n",
       " 2014-12-05  379.7  366.4  29990.0  6.805097e+05  12.382349  0.324024   \n",
       " \n",
       "                  NTRAT  BTC_MINED_PDAY  VOL_CHANGE_PDAY  NTRAT_CH_PDAY  \n",
       " Date                                                                    \n",
       " 2014-12-02  52875294.0           350.0           5620.0       -72200.0  \n",
       " 2014-12-03  53145619.0          6375.0          -1780.0       270325.0  \n",
       " 2014-12-04  53238519.0          3750.0           1820.0        92900.0  \n",
       " 2014-12-05  53171881.0          3625.0           4660.0       -66638.0  ,\n",
       "              High    Low      Vol         TOUTV      TRFEE     AVBLS  \\\n",
       " Date                                                                   \n",
       " 2014-12-03  384.7  373.6  23510.0  1.221570e+06  14.051231  0.355757   \n",
       " 2014-12-04  380.4  366.2  25330.0  1.282270e+06  13.716983  0.331026   \n",
       " 2014-12-05  379.7  366.4  29990.0  6.805097e+05  12.382349  0.324024   \n",
       " 2014-12-06  380.3  372.0  11070.0  6.170008e+05  10.895987  0.349292   \n",
       " \n",
       "                  NTRAT  BTC_MINED_PDAY  VOL_CHANGE_PDAY  NTRAT_CH_PDAY  \n",
       " Date                                                                    \n",
       " 2014-12-03  53145619.0          6375.0          -1780.0       270325.0  \n",
       " 2014-12-04  53238519.0          3750.0           1820.0        92900.0  \n",
       " 2014-12-05  53171881.0          3625.0           4660.0       -66638.0  \n",
       " 2014-12-06  53399509.0         -2000.0         -18920.0       227628.0  ]"
      ]
     },
     "execution_count": 12,
     "metadata": {},
     "output_type": "execute_result"
    }
   ],
   "source": [
    "unrolled_X, unrolled_y = nn_manager_cut._unroll_XY_to_sequence(nn_manager_cut.X_train, nn_manager_cut.y_train, dataframe=True, asarray=False)\n",
    "\n",
    "unrolled_X[:2]"
   ]
  },
  {
   "cell_type": "code",
   "execution_count": 13,
   "metadata": {},
   "outputs": [
    {
     "data": {
      "text/plain": [
       "[Price    376.3\n",
       " Name: 2014-12-06 00:00:00, dtype: float64,\n",
       " Price    376.5\n",
       " Name: 2014-12-07 00:00:00, dtype: float64]"
      ]
     },
     "execution_count": 13,
     "metadata": {},
     "output_type": "execute_result"
    }
   ],
   "source": [
    "unrolled_y[:2]"
   ]
  },
  {
   "cell_type": "code",
   "execution_count": 17,
   "metadata": {
    "scrolled": true
   },
   "outputs": [
    {
     "name": "stdout",
     "output_type": "stream",
     "text": [
      "CPU times: user 1min 29s, sys: 17.9 s, total: 1min 47s\n",
      "Wall time: 46.6 s\n"
     ]
    }
   ],
   "source": [
    "%%time\n",
    "res = nn_manager_cut.model.fit(\n",
    "    nn_manager_cut.X_train, nn_manager_cut.y_train,\n",
    "    epochs=700,\n",
    "    batch_size=32,\n",
    "     validation_data = (nn_manager_cut.X_test, nn_manager_cut.y_test),\n",
    "    verbose=0\n",
    ")"
   ]
  },
  {
   "cell_type": "code",
   "execution_count": null,
   "metadata": {},
   "outputs": [],
   "source": []
  },
  {
   "cell_type": "code",
   "execution_count": 21,
   "metadata": {
    "scrolled": true
   },
   "outputs": [
    {
     "data": {
      "image/png": "[encoded data removed]",
      "text/plain": [
       "<Figure size 1080x360 with 1 Axes>"
      ]
     },
     "metadata": {
      "needs_background": "light"
     },
     "output_type": "display_data"
    }
   ],
   "source": [
    "fig, ax = plt.subplots(1, figsize=(15,5))\n",
    "\n",
    "plt.plot(res.history['loss'])\n",
    "plt.plot(res.history['val_loss'])\n",
    "plt.ylim(0,2e3);"
   ]
  },
  {
   "cell_type": "markdown",
   "metadata": {},
   "source": [
    "Architectures: <br>\n",
    "[[#LSTM_Architecture]](#LSTM-based)\n",
    "\n",
    "Model Compiling setup [[go]](#Compiling-Model-with-the-chosen-Architecture)<br>\n",
    "Unrolling Seq Len [[go]](#Unrolling-data-to-sequences)<br>\n",
    "\n",
    "Train-Test split after swapping data [[go]](#Swapping-(the-trial-issue))"
   ]
  },
  {
   "cell_type": "markdown",
   "metadata": {},
   "source": [
    "# Saving Model"
   ]
  },
  {
   "cell_type": "code",
   "execution_count": 19,
   "metadata": {
    "scrolled": true
   },
   "outputs": [],
   "source": [
    "from datetime import datetime\n",
    "\n",
    "# nn_manager_cut.model.save(f'./saved_models/{datetime.now().strftime(\"%Y%m%d_%HH%MM%SS\")}_58_171_Bidi_Stacked_3d')"
   ]
  },
  {
   "cell_type": "code",
   "execution_count": 20,
   "metadata": {
    "scrolled": false
   },
   "outputs": [],
   "source": [
    "# whenloading, pay attention to sequence of days that was used to predict value\n",
    "\n",
    "# nn_manager_cut.model = keras.models.load_model('./saved_models/20210623_20H39M34S_192_Bidi_2d/')"
   ]
  },
  {
   "cell_type": "code",
   "execution_count": 21,
   "metadata": {},
   "outputs": [
    {
     "name": "stdout",
     "output_type": "stream",
     "text": [
      "WARNING:tensorflow:Model was constructed with shape (None, 10) for input KerasTensor(type_spec=TensorSpec(shape=(None, 10), dtype=tf.float32, name='dense_input'), name='dense_input', description=\"created by layer 'dense_input'\"), but it was called on an input with incompatible shape (None, 1, 10).\n"
     ]
    },
    {
     "data": {
      "text/plain": [
       "array([-0.08765146], dtype=float32)"
      ]
     },
     "execution_count": 21,
     "metadata": {},
     "output_type": "execute_result"
    }
   ],
   "source": [
    "# predicting for piece of train data '2014-12-02'\n",
    "\n",
    "X = nn_manager_cut.scaler.transform(nn_manager_cut.X_train.loc['2016-01-06'].values.reshape(1, -1))\n",
    "\n",
    "nn_manager_cut.model_predict(X.reshape(1,\n",
    "                                                   nn_manager_cut.training_seq_params['seq_len'],\n",
    "                                                   nn_manager_cut.training_seq_params['n_features']))[0][0]"
   ]
  },
  {
   "cell_type": "code",
   "execution_count": 22,
   "metadata": {},
   "outputs": [
    {
     "data": {
      "text/plain": [
       "Date\n",
       "2016-01-06    457.0\n",
       "2016-01-07    452.9\n",
       "2016-01-08    448.3\n",
       "Name: Next_day_Price, dtype: float64"
      ]
     },
     "execution_count": 22,
     "metadata": {},
     "output_type": "execute_result"
    }
   ],
   "source": [
    "nn_manager_cut.y_train.loc['2016-01-06':'2016-01-08']"
   ]
  },
  {
   "cell_type": "markdown",
   "metadata": {},
   "source": [
    "### Plotting "
   ]
  },
  {
   "cell_type": "code",
   "execution_count": 23,
   "metadata": {},
   "outputs": [
    {
     "data": {
      "text/html": [
       "<div>\n",
       "<style scoped>\n",
       "    .dataframe tbody tr th:only-of-type {\n",
       "        vertical-align: middle;\n",
       "    }\n",
       "\n",
       "    .dataframe tbody tr th {\n",
       "        vertical-align: top;\n",
       "    }\n",
       "\n",
       "    .dataframe thead th {\n",
       "        text-align: right;\n",
       "    }\n",
       "</style>\n",
       "<table border=\"1\" class=\"dataframe\">\n",
       "  <thead>\n",
       "    <tr style=\"text-align: right;\">\n",
       "      <th></th>\n",
       "      <th>High</th>\n",
       "      <th>Low</th>\n",
       "      <th>Vol</th>\n",
       "      <th>TOUTV</th>\n",
       "      <th>TRFEE</th>\n",
       "      <th>AVBLS</th>\n",
       "      <th>NTRAT</th>\n",
       "      <th>BTC_MINED_PDAY</th>\n",
       "      <th>VOL_CHANGE_PDAY</th>\n",
       "      <th>NTRAT_CH_PDAY</th>\n",
       "    </tr>\n",
       "    <tr>\n",
       "      <th>Date</th>\n",
       "      <th></th>\n",
       "      <th></th>\n",
       "      <th></th>\n",
       "      <th></th>\n",
       "      <th></th>\n",
       "      <th></th>\n",
       "      <th></th>\n",
       "      <th></th>\n",
       "      <th></th>\n",
       "      <th></th>\n",
       "    </tr>\n",
       "  </thead>\n",
       "  <tbody>\n",
       "    <tr>\n",
       "      <th>2021-05-26</th>\n",
       "      <td>40750.0</td>\n",
       "      <td>37847.0</td>\n",
       "      <td>153800.0</td>\n",
       "      <td>2.222384e+06</td>\n",
       "      <td>77.846658</td>\n",
       "      <td>1.300155</td>\n",
       "      <td>644838441.0</td>\n",
       "      <td>756.25</td>\n",
       "      <td>-9210.0</td>\n",
       "      <td>233414.0</td>\n",
       "    </tr>\n",
       "    <tr>\n",
       "      <th>2021-05-27</th>\n",
       "      <td>40322.2</td>\n",
       "      <td>37190.8</td>\n",
       "      <td>122930.0</td>\n",
       "      <td>1.982669e+06</td>\n",
       "      <td>66.114770</td>\n",
       "      <td>1.262394</td>\n",
       "      <td>645069798.0</td>\n",
       "      <td>718.75</td>\n",
       "      <td>-30870.0</td>\n",
       "      <td>231357.0</td>\n",
       "    </tr>\n",
       "  </tbody>\n",
       "</table>\n",
       "</div>"
      ],
      "text/plain": [
       "               High      Low       Vol         TOUTV      TRFEE     AVBLS  \\\n",
       "Date                                                                        \n",
       "2021-05-26  40750.0  37847.0  153800.0  2.222384e+06  77.846658  1.300155   \n",
       "2021-05-27  40322.2  37190.8  122930.0  1.982669e+06  66.114770  1.262394   \n",
       "\n",
       "                  NTRAT  BTC_MINED_PDAY  VOL_CHANGE_PDAY  NTRAT_CH_PDAY  \n",
       "Date                                                                     \n",
       "2021-05-26  644838441.0          756.25          -9210.0       233414.0  \n",
       "2021-05-27  645069798.0          718.75         -30870.0       231357.0  "
      ]
     },
     "execution_count": 23,
     "metadata": {},
     "output_type": "execute_result"
    }
   ],
   "source": [
    "left_off_X[:2]"
   ]
  },
  {
   "cell_type": "code",
   "execution_count": 24,
   "metadata": {},
   "outputs": [
    {
     "data": {
      "text/plain": [
       "(21, 10)"
      ]
     },
     "execution_count": 24,
     "metadata": {},
     "output_type": "execute_result"
    }
   ],
   "source": [
    "left_off_X.shape"
   ]
  },
  {
   "cell_type": "code",
   "execution_count": 25,
   "metadata": {
    "scrolled": true
   },
   "outputs": [
    {
     "name": "stdout",
     "output_type": "stream",
     "text": [
      ">>> Method called with outer X and y. Returning X, y unrolled...\n"
     ]
    },
    {
     "data": {
      "text/plain": [
       "((20, 1, 10),\n",
       " array([[[ 4.10010699,  3.9440193 , -0.01461446,  0.50154671,\n",
       "           0.15913311,  0.96332407,  1.10807338, -0.72850679,\n",
       "          -0.0881869 , -0.49828393]],\n",
       " \n",
       "        [[ 4.04839129,  3.86135833, -0.07934162,  0.3044222 ,\n",
       "           0.03445783,  0.84819505,  1.10891827, -0.75565611,\n",
       "          -0.37328068, -0.51353215]]]))"
      ]
     },
     "execution_count": 25,
     "metadata": {},
     "output_type": "execute_result"
    }
   ],
   "source": [
    "left_off_X_unrolled, _ = nn_manager_cut.unroll_train_test_to_sequences(\n",
    "    X=nn_manager_cut.scaler.transform(left_off_X), \n",
    "    y =left_off_y.values\n",
    ")\n",
    "\n",
    "left_off_X_unrolled.shape, left_off_X_unrolled[:2]"
   ]
  },
  {
   "cell_type": "code",
   "execution_count": 26,
   "metadata": {},
   "outputs": [
    {
     "data": {
      "text/html": [
       "<div>\n",
       "<style scoped>\n",
       "    .dataframe tbody tr th:only-of-type {\n",
       "        vertical-align: middle;\n",
       "    }\n",
       "\n",
       "    .dataframe tbody tr th {\n",
       "        vertical-align: top;\n",
       "    }\n",
       "\n",
       "    .dataframe thead th {\n",
       "        text-align: right;\n",
       "    }\n",
       "</style>\n",
       "<table border=\"1\" class=\"dataframe\">\n",
       "  <thead>\n",
       "    <tr style=\"text-align: right;\">\n",
       "      <th></th>\n",
       "      <th>High</th>\n",
       "      <th>Low</th>\n",
       "      <th>Vol</th>\n",
       "      <th>TOUTV</th>\n",
       "      <th>TRFEE</th>\n",
       "      <th>AVBLS</th>\n",
       "      <th>NTRAT</th>\n",
       "      <th>BTC_MINED_PDAY</th>\n",
       "      <th>VOL_CHANGE_PDAY</th>\n",
       "      <th>NTRAT_CH_PDAY</th>\n",
       "    </tr>\n",
       "    <tr>\n",
       "      <th>Date</th>\n",
       "      <th></th>\n",
       "      <th></th>\n",
       "      <th></th>\n",
       "      <th></th>\n",
       "      <th></th>\n",
       "      <th></th>\n",
       "      <th></th>\n",
       "      <th></th>\n",
       "      <th></th>\n",
       "      <th></th>\n",
       "    </tr>\n",
       "  </thead>\n",
       "  <tbody>\n",
       "    <tr>\n",
       "      <th>2021-05-26</th>\n",
       "      <td>40750.0</td>\n",
       "      <td>37847.0</td>\n",
       "      <td>153800.0</td>\n",
       "      <td>2.222384e+06</td>\n",
       "      <td>77.846658</td>\n",
       "      <td>1.300155</td>\n",
       "      <td>644838441.0</td>\n",
       "      <td>756.25</td>\n",
       "      <td>-9210.0</td>\n",
       "      <td>233414.0</td>\n",
       "    </tr>\n",
       "    <tr>\n",
       "      <th>2021-05-27</th>\n",
       "      <td>40322.2</td>\n",
       "      <td>37190.8</td>\n",
       "      <td>122930.0</td>\n",
       "      <td>1.982669e+06</td>\n",
       "      <td>66.114770</td>\n",
       "      <td>1.262394</td>\n",
       "      <td>645069798.0</td>\n",
       "      <td>718.75</td>\n",
       "      <td>-30870.0</td>\n",
       "      <td>231357.0</td>\n",
       "    </tr>\n",
       "  </tbody>\n",
       "</table>\n",
       "</div>"
      ],
      "text/plain": [
       "               High      Low       Vol         TOUTV      TRFEE     AVBLS  \\\n",
       "Date                                                                        \n",
       "2021-05-26  40750.0  37847.0  153800.0  2.222384e+06  77.846658  1.300155   \n",
       "2021-05-27  40322.2  37190.8  122930.0  1.982669e+06  66.114770  1.262394   \n",
       "\n",
       "                  NTRAT  BTC_MINED_PDAY  VOL_CHANGE_PDAY  NTRAT_CH_PDAY  \n",
       "Date                                                                     \n",
       "2021-05-26  644838441.0          756.25          -9210.0       233414.0  \n",
       "2021-05-27  645069798.0          718.75         -30870.0       231357.0  "
      ]
     },
     "execution_count": 26,
     "metadata": {},
     "output_type": "execute_result"
    }
   ],
   "source": [
    "left_off_X[:2]"
   ]
  },
  {
   "cell_type": "code",
   "execution_count": 27,
   "metadata": {},
   "outputs": [],
   "source": [
    "left_off_date_index_predicted_price = left_off_y.index[nn_manager_cut.training_seq_params['seq_len']:]"
   ]
  },
  {
   "cell_type": "code",
   "execution_count": 68,
   "metadata": {},
   "outputs": [
    {
     "data": {
      "text/html": [
       "<div>\n",
       "<style scoped>\n",
       "    .dataframe tbody tr th:only-of-type {\n",
       "        vertical-align: middle;\n",
       "    }\n",
       "\n",
       "    .dataframe tbody tr th {\n",
       "        vertical-align: top;\n",
       "    }\n",
       "\n",
       "    .dataframe thead th {\n",
       "        text-align: right;\n",
       "    }\n",
       "</style>\n",
       "<table border=\"1\" class=\"dataframe\">\n",
       "  <thead>\n",
       "    <tr style=\"text-align: right;\">\n",
       "      <th></th>\n",
       "      <th>Price</th>\n",
       "    </tr>\n",
       "    <tr>\n",
       "      <th>Date</th>\n",
       "      <th></th>\n",
       "    </tr>\n",
       "  </thead>\n",
       "  <tbody>\n",
       "    <tr>\n",
       "      <th>2014-12-02</th>\n",
       "      <td>380.6</td>\n",
       "    </tr>\n",
       "    <tr>\n",
       "      <th>2014-12-03</th>\n",
       "      <td>377.0</td>\n",
       "    </tr>\n",
       "    <tr>\n",
       "      <th>2014-12-04</th>\n",
       "      <td>369.8</td>\n",
       "    </tr>\n",
       "    <tr>\n",
       "      <th>2014-12-05</th>\n",
       "      <td>377.6</td>\n",
       "    </tr>\n",
       "    <tr>\n",
       "      <th>2014-12-06</th>\n",
       "      <td>376.3</td>\n",
       "    </tr>\n",
       "    <tr>\n",
       "      <th>2014-12-07</th>\n",
       "      <td>376.5</td>\n",
       "    </tr>\n",
       "    <tr>\n",
       "      <th>2014-12-08</th>\n",
       "      <td>365.0</td>\n",
       "    </tr>\n",
       "    <tr>\n",
       "      <th>2014-12-09</th>\n",
       "      <td>352.2</td>\n",
       "    </tr>\n",
       "    <tr>\n",
       "      <th>2014-12-10</th>\n",
       "      <td>347.9</td>\n",
       "    </tr>\n",
       "  </tbody>\n",
       "</table>\n",
       "</div>"
      ],
      "text/plain": [
       "            Price\n",
       "Date             \n",
       "2014-12-02  380.6\n",
       "2014-12-03  377.0\n",
       "2014-12-04  369.8\n",
       "2014-12-05  377.6\n",
       "2014-12-06  376.3\n",
       "2014-12-07  376.5\n",
       "2014-12-08  365.0\n",
       "2014-12-09  352.2\n",
       "2014-12-10  347.9"
      ]
     },
     "execution_count": 68,
     "metadata": {},
     "output_type": "execute_result"
    }
   ],
   "source": [
    "nn_manager_cut.y_train.loc['2014-12-02':'2014-12-10']"
   ]
  },
  {
   "cell_type": "code",
   "execution_count": 28,
   "metadata": {
    "scrolled": true
   },
   "outputs": [
    {
     "data": {
      "text/html": [
       "<div>\n",
       "<style scoped>\n",
       "    .dataframe tbody tr th:only-of-type {\n",
       "        vertical-align: middle;\n",
       "    }\n",
       "\n",
       "    .dataframe tbody tr th {\n",
       "        vertical-align: top;\n",
       "    }\n",
       "\n",
       "    .dataframe thead th {\n",
       "        text-align: right;\n",
       "    }\n",
       "</style>\n",
       "<table border=\"1\" class=\"dataframe\">\n",
       "  <thead>\n",
       "    <tr style=\"text-align: right;\">\n",
       "      <th></th>\n",
       "      <th>left_off_pred</th>\n",
       "    </tr>\n",
       "    <tr>\n",
       "      <th>Date</th>\n",
       "      <th></th>\n",
       "    </tr>\n",
       "  </thead>\n",
       "  <tbody>\n",
       "    <tr>\n",
       "      <th>2021-05-27</th>\n",
       "      <td>0.005615</td>\n",
       "    </tr>\n",
       "    <tr>\n",
       "      <th>2021-05-28</th>\n",
       "      <td>0.012151</td>\n",
       "    </tr>\n",
       "  </tbody>\n",
       "</table>\n",
       "</div>"
      ],
      "text/plain": [
       "            left_off_pred\n",
       "Date                     \n",
       "2021-05-27       0.005615\n",
       "2021-05-28       0.012151"
      ]
     },
     "execution_count": 28,
     "metadata": {},
     "output_type": "execute_result"
    }
   ],
   "source": [
    "left_off_pred = [nn_manager_cut.model_predict(seq.reshape(1,\n",
    "                                                   nn_manager_cut.training_seq_params['seq_len'],\n",
    "                                                   nn_manager_cut.training_seq_params['n_features']))[0][0]\n",
    "                 for seq in left_off_X_unrolled]\n",
    "\n",
    "left_off_pred = pd.DataFrame(data=left_off_pred, index=left_off_date_index_predicted_price, columns=[\"left_off_pred\"])\n",
    "left_off_pred[:2]"
   ]
  },
  {
   "cell_type": "code",
   "execution_count": 29,
   "metadata": {},
   "outputs": [
    {
     "data": {
      "text/plain": [
       "array([0.003781], dtype=float32)"
      ]
     },
     "execution_count": 29,
     "metadata": {},
     "output_type": "execute_result"
    }
   ],
   "source": [
    "X = nn_manager_cut.scaler.transform(left_off_X.loc['2021-06-02'].values.reshape(1, -1))\n",
    "\n",
    "nn_manager_cut.model_predict(X.reshape(1,\n",
    "                                                   nn_manager_cut.training_seq_params['seq_len'],\n",
    "                                                   nn_manager_cut.training_seq_params['n_features']))[0][0]"
   ]
  },
  {
   "cell_type": "code",
   "execution_count": 30,
   "metadata": {},
   "outputs": [
    {
     "data": {
      "text/plain": [
       "(1, 10)"
      ]
     },
     "execution_count": 30,
     "metadata": {},
     "output_type": "execute_result"
    }
   ],
   "source": [
    "left_off_X_unrolled[0].shape"
   ]
  },
  {
   "cell_type": "code",
   "execution_count": 31,
   "metadata": {
    "scrolled": false
   },
   "outputs": [
    {
     "data": {
      "text/plain": [
       "<AxesSubplot:xlabel='Date'>"
      ]
     },
     "execution_count": 31,
     "metadata": {},
     "output_type": "execute_result"
    },
    {
     "data": {
      "image/png": "[encoded data removed]",
      "text/plain": [
       "<Figure size 1080x360 with 1 Axes>"
      ]
     },
     "metadata": {
      "needs_background": "light"
     },
     "output_type": "display_data"
    }
   ],
   "source": [
    "fig, ax = plt.subplots(1, figsize=(15,5))\n",
    "\n",
    "pd.DataFrame(data=left_off_y).plot(ax=ax)\n",
    "pd.DataFrame(data=left_off_pred).plot(ax=ax)"
   ]
  },
  {
   "cell_type": "code",
   "execution_count": 32,
   "metadata": {
    "scrolled": false
   },
   "outputs": [],
   "source": [
    "# nn_manager_cut.plot_predicted_vs_test_price(filters=[\"Date>='2021.02.01'\"]) \n",
    "# nn_manager_cut.plot_predicted_vs_test_price(filters=[\"Date>='2020.11.10'\", \"Date<='2021.04.10'\"], legend_loc='upper left') \n",
    "# nn_manager_cut.plot_predicted_vs_test_price(filters=[\"Date>='2018.06.01'\", \"Date<='2018.06.15'\"]) \n",
    "\n",
    "# nn_manager_cut.plot_predicted_vs_test_price(filters=[\"Date>='2014-11-10'\", \"Date<='2014-11-17'\"]) \n",
    "\n",
    "\n",
    "# nn_manager_cut.plot_predicted_vs_test_price(filters=[\"Date>='2021.06.09'\", \"Date<='2021.06.17'\"]) "
   ]
  },
  {
   "cell_type": "code",
   "execution_count": 33,
   "metadata": {},
   "outputs": [],
   "source": [
    "# X = nn_manager_cut.X_test['2021-06-10':'2021-06-11']\n",
    "# X = nn_manager_cut.scaler.transform(X)\n",
    "# nn_manager_cut.model_predict(X.reshape(1, nn_manager_cut.training_seq_params['seq_len'],\n",
    "#                                                    nn_manager_cut.training_seq_params['n_features']))[0][0] "
   ]
  },
  {
   "cell_type": "code",
   "execution_count": 34,
   "metadata": {},
   "outputs": [],
   "source": [
    "# nn_manager_cut.y_test.loc['2021-06-12']"
   ]
  },
  {
   "cell_type": "code",
   "execution_count": 35,
   "metadata": {},
   "outputs": [],
   "source": [
    "# data_for_pred = nn_manager_cut.scaler.transform(nn_manager_cut.X_test.loc['2018.06.07':'2018.06.09'])\n",
    "# nn_manager_cut.model_predict(data_for_pred.reshape(1,\n",
    "#                                                   nn_manager_cut.training_seq_params['seq_len'],\n",
    "#                                                    nn_manager_cut.training_seq_params['n_features']))[0][0]\n"
   ]
  },
  {
   "cell_type": "code",
   "execution_count": 36,
   "metadata": {},
   "outputs": [],
   "source": [
    "# nn_manager_cut.y_test.loc['2018.06.09']"
   ]
  },
  {
   "cell_type": "code",
   "execution_count": 37,
   "metadata": {},
   "outputs": [],
   "source": [
    "# nn_manager_cut.y_test_unrolled[:3]"
   ]
  },
  {
   "cell_type": "code",
   "execution_count": 38,
   "metadata": {
    "scrolled": false
   },
   "outputs": [],
   "source": [
    "# nn_manager_cut.y_pred[:3]"
   ]
  },
  {
   "cell_type": "code",
   "execution_count": 39,
   "metadata": {},
   "outputs": [],
   "source": [
    "# nn_manager_cut.y_test[nn_manager_cut.training_seq_params['seq_len']:][:3]"
   ]
  },
  {
   "cell_type": "markdown",
   "metadata": {},
   "source": [
    "# Conclusion on LSTM Model:"
   ]
  },
  {
   "cell_type": "code",
   "execution_count": 27,
   "metadata": {},
   "outputs": [
    {
     "data": {
      "text/plain": [
       "[               High      Low      Vol         TOUTV      TRFEE     AVBLS  \\\n",
       " Date                                                                       \n",
       " 2021-06-02  38199.9  35981.1  96890.0  1.153282e+06  51.133097  1.291096   \n",
       " \n",
       "                   NTRAT  BTC_MINED_PDAY  VOL_CHANGE_PDAY  NTRAT_CH_PDAY  \n",
       " Date                                                                     \n",
       " 2021-06-02  646341383.0          1212.5         -16590.0       233352.0  ,\n",
       "                High      Low       Vol         TOUTV      TRFEE     AVBLS  \\\n",
       " Date                                                                        \n",
       " 2021-06-03  39462.3  37193.6  106440.0  1.223004e+06  49.880615  1.293654   \n",
       " \n",
       "                   NTRAT  BTC_MINED_PDAY  VOL_CHANGE_PDAY  NTRAT_CH_PDAY  \n",
       " Date                                                                     \n",
       " 2021-06-03  646592644.0           775.0           9550.0       251261.0  ]"
      ]
     },
     "execution_count": 27,
     "metadata": {},
     "output_type": "execute_result"
    }
   ],
   "source": [
    "left_off_X_unrolled_try, left_off_y_unrolled_try = nn_manager_cut._unroll_XY_to_sequence(\n",
    "    X=(left_off_X), \n",
    "    y =left_off_y,\n",
    "    asarray=False,\n",
    "    dataframe=True\n",
    ")\n",
    "left_off_X_unrolled_try[:2]"
   ]
  },
  {
   "cell_type": "code",
   "execution_count": null,
   "metadata": {},
   "outputs": [],
   "source": []
  },
  {
   "cell_type": "code",
   "execution_count": 36,
   "metadata": {},
   "outputs": [
    {
     "data": {
      "text/plain": [
       "array([[35520. ],\n",
       "       [35815.4],\n",
       "       [33578. ],\n",
       "       [33382.9],\n",
       "       [37332.2],\n",
       "       [36649.4],\n",
       "       [37314.6],\n",
       "       [35467.5],\n",
       "       [39022.9],\n",
       "       [40529.4],\n",
       "       [40156.1],\n",
       "       [38336. ],\n",
       "       [38052. ],\n",
       "       [35749.4],\n",
       "       [35513.4],\n",
       "       [35595.8],\n",
       "       [31692. ],\n",
       "       [32496.4]])"
      ]
     },
     "execution_count": 36,
     "metadata": {},
     "output_type": "execute_result"
    }
   ],
   "source": [
    "left_off_y_unrolled"
   ]
  },
  {
   "cell_type": "code",
   "execution_count": 25,
   "metadata": {},
   "outputs": [
    {
     "data": {
      "text/plain": [
       "High               3.327250e+04\n",
       "Low                2.890180e+04\n",
       "Vol                3.096500e+05\n",
       "TOUTV              1.936917e+06\n",
       "TRFEE              4.779617e+01\n",
       "AVBLS              1.392933e+00\n",
       "NTRAT              6.507957e+08\n",
       "BTC_MINED_PDAY     4.375000e+02\n",
       "VOL_CHANGE_PDAY    5.278000e+04\n",
       "NTRAT_CH_PDAY      2.075770e+05\n",
       "PRICE_UP           1.000000e+00\n",
       "Name: 2021-06-22 00:00:00, dtype: float64"
      ]
     },
     "execution_count": 25,
     "metadata": {},
     "output_type": "execute_result"
    }
   ],
   "source": [
    "left_off_X.iloc[-1]"
   ]
  }
 ],
 "metadata": {
  "kernelspec": {
   "display_name": "Python 3",
   "language": "python",
   "name": "python3"
  },
  "language_info": {
   "codemirror_mode": {
    "name": "ipython",
    "version": 3
   },
   "file_extension": ".py",
   "mimetype": "text/x-python",
   "name": "python",
   "nbconvert_exporter": "python",
   "pygments_lexer": "ipython3",
   "version": "3.6.9"
  }
 },
 "nbformat": 4,
 "nbformat_minor": 2
}
