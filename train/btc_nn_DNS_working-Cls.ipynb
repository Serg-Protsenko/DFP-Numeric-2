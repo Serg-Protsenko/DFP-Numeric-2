{
 "cells": [
  {
   "cell_type": "markdown",
   "metadata": {},
   "source": [
    "# Import, Init"
   ]
  },
  {
   "cell_type": "code",
   "execution_count": 1,
   "metadata": {},
   "outputs": [],
   "source": [
    "import tensorflow as tf \n",
    "\n",
    "gpus = tf.config.list_physical_devices('GPU')\n",
    "if gpus:\n",
    "    try:\n",
    "        # Currently, memory growth needs to be the same across GPUs\n",
    "        for gpu in gpus:\n",
    "            tf.config.experimental.set_memory_growth(gpu, True)\n",
    "        logical_gpus = tf.config.experimental.list_logical_devices('GPU')\n",
    "        print(len(gpus), \"Physical GPUs,\", len(logical_gpus), \"Logical GPUs\")\n",
    "    except RuntimeError as e:\n",
    "        # Memory growth must be set before GPUs have been initialized\n",
    "        print('Error')\n",
    "        print(e)"
   ]
  },
  {
   "cell_type": "code",
   "execution_count": 2,
   "metadata": {},
   "outputs": [
    {
     "name": "stderr",
     "output_type": "stream",
     "text": [
      "Matplotlib created a temporary config/cache directory at /tmp/matplotlib-u6yfzdmi because the default path (/.config/matplotlib) is not a writable directory; it is highly recommended to set the MPLCONFIGDIR environment variable to a writable directory, in particular to speed up the import of Matplotlib and to better support multiprocessing.\n"
     ]
    },
    {
     "data": {
      "text/plain": [
       "<module 'cls_nnetwork' from './classes/cls_nnetwork.py'>"
      ]
     },
     "execution_count": 2,
     "metadata": {},
     "output_type": "execute_result"
    }
   ],
   "source": [
    "import os, sys\n",
    "import pandas as pd\n",
    "import seaborn as sns\n",
    "import matplotlib.pyplot as plt\n",
    "\n",
    "sys.path.insert(0, \"./classes/\")\n",
    "import cls_nnetwork\n",
    "\n",
    "# reloading functions without runtime.restart\n",
    "import importlib\n",
    "importlib.reload(cls_nnetwork)"
   ]
  },
  {
   "cell_type": "code",
   "execution_count": 3,
   "metadata": {},
   "outputs": [
    {
     "name": "stdout",
     "output_type": "stream",
     "text": [
      "NULLS in data -->  0\n",
      ">>> train-test inited:  \n",
      " \tX_train len -->  903 y_train len -->  903 \n",
      " \tX_test len -->  1342 y_test len -->  1342 \n",
      " \tNULLS in data -->  0\n"
     ]
    }
   ],
   "source": [
    "# cut -- train test data with trimmed columns, so that it's more easy to train\n",
    "\n",
    "nn_manager_cut = cls_nnetwork.NeuralManager(dir_path='../data/csv_to_train/train_test_cut/')"
   ]
  },
  {
   "cell_type": "code",
   "execution_count": 4,
   "metadata": {},
   "outputs": [],
   "source": [
    "# Adding closing price of the current day\n",
    "nn_manager_cut.X_train['Price'] = nn_manager_cut.y_train\n",
    "nn_manager_cut.X_test['Price'] = nn_manager_cut.y_test"
   ]
  },
  {
   "cell_type": "code",
   "execution_count": 5,
   "metadata": {},
   "outputs": [
    {
     "name": "stdout",
     "output_type": "stream",
     "text": [
      "dates of X_train:  2019-01-02 00:00:00 --> 2021-06-22 00:00:00\n",
      "dates of X_test:  2017-05-01 00:00:00 --> 2021-01-01 00:00:00\n"
     ]
    }
   ],
   "source": [
    "print(\"dates of X_train: \", nn_manager_cut.X_train.index.min(), '-->', nn_manager_cut.X_train.index.max())\n",
    "print(\"dates of X_test: \", nn_manager_cut.X_test.index.min(), '-->', nn_manager_cut.X_test.index.max())"
   ]
  },
  {
   "cell_type": "code",
   "execution_count": 6,
   "metadata": {
    "scrolled": true
   },
   "outputs": [
    {
     "data": {
      "text/plain": [
       "Index(['Open', 'High', 'Low', 'Vol', 'TOUTV', 'TRFEE', 'AVBLS', 'NTRAT',\n",
       "       'BTC_MINED_PDAY', 'VOL_CHANGE_PDAY', 'NTRAT_CH_PDAY', 'Next_day_Price',\n",
       "       'Price'],\n",
       "      dtype='object')"
      ]
     },
     "execution_count": 6,
     "metadata": {},
     "output_type": "execute_result"
    }
   ],
   "source": [
    "nn_manager_cut.X_test.columns"
   ]
  },
  {
   "cell_type": "code",
   "execution_count": 7,
   "metadata": {},
   "outputs": [
    {
     "data": {
      "text/plain": [
       "Index(['High', 'Low', 'Vol', 'TOUTV', 'TRFEE', 'AVBLS', 'NTRAT',\n",
       "       'BTC_MINED_PDAY', 'VOL_CHANGE_PDAY', 'NTRAT_CH_PDAY', 'Price'],\n",
       "      dtype='object')"
      ]
     },
     "execution_count": 7,
     "metadata": {},
     "output_type": "execute_result"
    }
   ],
   "source": [
    "## SR: MWNUS_CH_PDAY is not refreshed in the source DS => supplies nulls for last week\n",
    "nn_manager_cut.X_test.drop(columns=[ 'MWNUS_CH_PDAY', 'Open', 'Next_day_Price'], inplace=True, errors='ignore')\n",
    "nn_manager_cut.X_train.drop(columns=[ 'MWNUS_CH_PDAY', 'Open', 'Next_day_Price'], inplace=True, errors='ignore')\n",
    "\n",
    "nn_manager_cut.X_train.columns"
   ]
  },
  {
   "cell_type": "code",
   "execution_count": 8,
   "metadata": {},
   "outputs": [
    {
     "name": "stdout",
     "output_type": "stream",
     "text": [
      "NULLS in data -->  0\n"
     ]
    }
   ],
   "source": [
    "nn_manager_cut.count_nulls_in_data()"
   ]
  },
  {
   "cell_type": "markdown",
   "metadata": {},
   "source": [
    "# Preparing data"
   ]
  },
  {
   "cell_type": "markdown",
   "metadata": {},
   "source": [
    "#### Swapping (the trial issue)\n",
    "[[to #Model-fit]](#Model-fit)"
   ]
  },
  {
   "cell_type": "code",
   "execution_count": 9,
   "metadata": {},
   "outputs": [
    {
     "name": "stdout",
     "output_type": "stream",
     "text": [
      "X_train =>  903\n",
      "X_test =>  1342\n",
      "\ttrain data period =>  2019-01-02 00:00:00 --> 2021-06-22 00:00:00\n",
      "\ttest data period =>  2017-05-01 00:00:00 --> 2021-01-01 00:00:00\n"
     ]
    }
   ],
   "source": [
    "# tmp = nn_manager_cut.X_test.copy()\n",
    "# nn_manager_cut.X_test = nn_manager_cut.X_train.copy()\n",
    "# nn_manager_cut.X_train = tmp.copy()\n",
    "\n",
    "# tmp = nn_manager_cut.y_test.copy()\n",
    "# nn_manager_cut.y_test = nn_manager_cut.y_train.copy()\n",
    "# nn_manager_cut.y_train = tmp.copy()\n",
    "\n",
    "print(\"X_train => \", nn_manager_cut.X_train.shape[0])\n",
    "print(\"X_test => \", nn_manager_cut.X_test.shape[0])\n",
    "print(\"\\ttrain data period => \", nn_manager_cut.X_train.index.min(), \"-->\", nn_manager_cut.X_train.index.max())\n",
    "print(\"\\ttest data period => \", nn_manager_cut.X_test.index.min(), \"-->\", nn_manager_cut.X_test.index.max())"
   ]
  },
  {
   "cell_type": "markdown",
   "metadata": {},
   "source": [
    "#### Keeping Holdout Samples Aside"
   ]
  },
  {
   "cell_type": "code",
   "execution_count": 10,
   "metadata": {},
   "outputs": [
    {
     "name": "stdout",
     "output_type": "stream",
     "text": [
      "X_train, X_test -->  875 1342\n",
      "Holdout period -->  2021-05-26 00:00:00 --> 2021-06-22 00:00:00\n"
     ]
    }
   ],
   "source": [
    "hould_out_days = 28\n",
    "hold_out_X = nn_manager_cut.X_train[-hould_out_days:].copy()\n",
    "nn_manager_cut.X_train = nn_manager_cut.X_train[:-hould_out_days]\n",
    "\n",
    "hold_out_y = nn_manager_cut.y_train[-hould_out_days:].copy()\n",
    "nn_manager_cut.y_train = nn_manager_cut.y_train[:-hould_out_days]\n",
    "\n",
    "print(\"X_train, X_test --> \", nn_manager_cut.X_train.shape[0], nn_manager_cut.X_test.shape[0])\n",
    "print(\"Holdout period --> \", hold_out_X.index.min(), \"-->\", hold_out_X.index.max())"
   ]
  },
  {
   "cell_type": "markdown",
   "metadata": {},
   "source": [
    "#### sampling"
   ]
  },
  {
   "cell_type": "code",
   "execution_count": 11,
   "metadata": {},
   "outputs": [],
   "source": [
    "# nn_manager_cut.X_train = nn_manager_cut.X_train.sample(int(100e3), replace=True)\n",
    "# nn_manager_cut.y_train = nn_manager_cut.X_train['Price'].copy()"
   ]
  },
  {
   "cell_type": "markdown",
   "metadata": {},
   "source": [
    "## Normalizing"
   ]
  },
  {
   "cell_type": "code",
   "execution_count": 12,
   "metadata": {},
   "outputs": [
    {
     "data": {
      "text/plain": [
       "(array([[-1.08303015, -1.24014154,  0.0243349 , -0.33195767, -0.54144672,\n",
       "         -1.10187985, -1.05020433,  0.7183908 ,  0.59529427,  3.26833406,\n",
       "         -1.14427289],\n",
       "        [-1.08655702, -1.24349148, -0.13865415, -0.3774338 , -0.52659956,\n",
       "         -1.02363592, -1.04806123, -0.33908046, -0.64674269, -0.49708695,\n",
       "         -1.16314671]]),\n",
       " None)"
      ]
     },
     "execution_count": 12,
     "metadata": {},
     "output_type": "execute_result"
    }
   ],
   "source": [
    "from sklearn.preprocessing import RobustScaler, QuantileTransformer\n",
    "\n",
    "nn_manager_cut.normalize_X(scaler=RobustScaler)\n",
    "# nn_manager_cut.transform_X(transformer=QuantileTransformer)\n",
    "\n",
    "# ### tmp ### \n",
    "# nn_manager_cut.X_train_normalized = nn_manager_cut.X_train.values \n",
    "# nn_manager_cut.X_test_normalized = nn_manager_cut.X_test.values \n",
    "\n",
    "(\n",
    "    nn_manager_cut.X_train_normalized[:2], \n",
    "    nn_manager_cut.X_train_transformed\n",
    ")"
   ]
  },
  {
   "cell_type": "markdown",
   "metadata": {},
   "source": [
    "## Unrolling data to sequences\n",
    "[[to #Model-fit]](#Model-fit)"
   ]
  },
  {
   "cell_type": "markdown",
   "metadata": {},
   "source": [
    "#### Setting sequence len"
   ]
  },
  {
   "cell_type": "code",
   "execution_count": 13,
   "metadata": {
    "scrolled": false
   },
   "outputs": [
    {
     "name": "stdout",
     "output_type": "stream",
     "text": [
      "self.training_seq_params -->  {'seq_len': 1, 'n_features': 11}\n",
      "self.X_train_shape -->  [1, 11]\n",
      "self.X_test_shape -->  [1, 11]\n"
     ]
    },
    {
     "data": {
      "text/plain": [
       "True"
      ]
     },
     "execution_count": 13,
     "metadata": {},
     "output_type": "execute_result"
    }
   ],
   "source": [
    "nn_manager_cut.set_train_test_data_shapes(shape_kwargs=dict(seq_len=1))"
   ]
  },
  {
   "cell_type": "code",
   "execution_count": 14,
   "metadata": {
    "scrolled": false
   },
   "outputs": [
    {
     "data": {
      "text/html": [
       "<div>\n",
       "<style scoped>\n",
       "    .dataframe tbody tr th:only-of-type {\n",
       "        vertical-align: middle;\n",
       "    }\n",
       "\n",
       "    .dataframe tbody tr th {\n",
       "        vertical-align: top;\n",
       "    }\n",
       "\n",
       "    .dataframe thead th {\n",
       "        text-align: right;\n",
       "    }\n",
       "</style>\n",
       "<table border=\"1\" class=\"dataframe\">\n",
       "  <thead>\n",
       "    <tr style=\"text-align: right;\">\n",
       "      <th></th>\n",
       "      <th>High</th>\n",
       "      <th>Low</th>\n",
       "      <th>Vol</th>\n",
       "      <th>TOUTV</th>\n",
       "      <th>TRFEE</th>\n",
       "      <th>AVBLS</th>\n",
       "      <th>NTRAT</th>\n",
       "      <th>BTC_MINED_PDAY</th>\n",
       "      <th>VOL_CHANGE_PDAY</th>\n",
       "      <th>NTRAT_CH_PDAY</th>\n",
       "      <th>Price</th>\n",
       "    </tr>\n",
       "    <tr>\n",
       "      <th>Date</th>\n",
       "      <th></th>\n",
       "      <th></th>\n",
       "      <th></th>\n",
       "      <th></th>\n",
       "      <th></th>\n",
       "      <th></th>\n",
       "      <th></th>\n",
       "      <th></th>\n",
       "      <th></th>\n",
       "      <th></th>\n",
       "      <th></th>\n",
       "    </tr>\n",
       "  </thead>\n",
       "  <tbody>\n",
       "    <tr>\n",
       "      <th>2019-01-02</th>\n",
       "      <td>3894.8</td>\n",
       "      <td>3768.1</td>\n",
       "      <td>554470.0</td>\n",
       "      <td>985716.743373</td>\n",
       "      <td>18.040408</td>\n",
       "      <td>0.947861</td>\n",
       "      <td>369717721.0</td>\n",
       "      <td>1887.5</td>\n",
       "      <td>85360.0</td>\n",
       "      <td>477474.0</td>\n",
       "      <td>3873.8</td>\n",
       "    </tr>\n",
       "  </tbody>\n",
       "</table>\n",
       "</div>"
      ],
      "text/plain": [
       "              High     Low       Vol          TOUTV      TRFEE     AVBLS  \\\n",
       "Date                                                                       \n",
       "2019-01-02  3894.8  3768.1  554470.0  985716.743373  18.040408  0.947861   \n",
       "\n",
       "                  NTRAT  BTC_MINED_PDAY  VOL_CHANGE_PDAY  NTRAT_CH_PDAY  \\\n",
       "Date                                                                      \n",
       "2019-01-02  369717721.0          1887.5          85360.0       477474.0   \n",
       "\n",
       "             Price  \n",
       "Date                \n",
       "2019-01-02  3873.8  "
      ]
     },
     "execution_count": 14,
     "metadata": {},
     "output_type": "execute_result"
    }
   ],
   "source": [
    "nn_manager_cut.unroll_train_test_to_sequences(shift=0)\n",
    "\n",
    "nn_manager_cut.X_train[0:1] # if seq=1 then slicing from 0 to 1 will be 0th element"
   ]
  },
  {
   "cell_type": "code",
   "execution_count": 15,
   "metadata": {
    "scrolled": true
   },
   "outputs": [
    {
     "name": "stdout",
     "output_type": "stream",
     "text": [
      "X_unrolled [0] -->\n",
      " [[-1.08303015 -1.24014154  0.0243349  -0.33195767 -0.54144672 -1.10187985\n",
      "  -1.05020433  0.7183908   0.59529427  3.26833406 -1.14427289]] \t=> [3780.1]\n",
      "\n",
      "X_unrolled [1] -->\n",
      " [[-1.08655702 -1.24349148 -0.13865415 -0.3774338  -0.52659956 -1.02363592\n",
      "  -1.04806123 -0.33908046 -0.64674269 -0.49708695 -1.16314671]] \t=> [3802.7]\n",
      "\n",
      "X_unrolled [2] -->\n",
      " [[-1.09619097 -1.25081253 -0.07859155 -0.34526464 -0.52118166 -1.05356525\n",
      "  -1.04783709  1.79885057  0.28739022 -5.75936266 -1.15859443]] \t=> [3785.4]\n"
     ]
    }
   ],
   "source": [
    "# goes up by one sequence -- compare this cell result vs previous\n",
    "\n",
    "print(\"X_unrolled [0] -->\\n\", nn_manager_cut.X_train_unrolled[0], '\\t=>', nn_manager_cut.y_train_unrolled[0])\n",
    "print(\"\\nX_unrolled [1] -->\\n\", nn_manager_cut.X_train_unrolled[1], '\\t=>', nn_manager_cut.y_train_unrolled[1])\n",
    "print(\"\\nX_unrolled [2] -->\\n\", nn_manager_cut.X_train_unrolled[2], '\\t=>', nn_manager_cut.y_train_unrolled[2])"
   ]
  },
  {
   "cell_type": "code",
   "execution_count": 16,
   "metadata": {
    "scrolled": true
   },
   "outputs": [
    {
     "data": {
      "text/plain": [
       "(             Price\n",
       " Date              \n",
       " 2019-01-02  3873.8\n",
       " 2019-01-03  3780.1\n",
       " 2019-01-04  3802.7\n",
       " 2019-01-05  3785.4\n",
       " 2019-01-06  4004.1\n",
       " 2019-01-07  3985.9,\n",
       " array([[3780.1],\n",
       "        [3802.7],\n",
       "        [3785.4],\n",
       "        [4004.1],\n",
       "        [3985.9],\n",
       "        [3971. ]]))"
      ]
     },
     "execution_count": 16,
     "metadata": {},
     "output_type": "execute_result"
    }
   ],
   "source": [
    "# on the base of the first {seq_len} elements of the sequence we want to predict the next day price\n",
    "\n",
    "nn_manager_cut.y_train.iloc[:6], nn_manager_cut.y_train_unrolled[:6]"
   ]
  },
  {
   "cell_type": "markdown",
   "metadata": {},
   "source": [
    "# Model"
   ]
  },
  {
   "cell_type": "markdown",
   "metadata": {},
   "source": [
    "## Model Assembling"
   ]
  },
  {
   "cell_type": "markdown",
   "metadata": {},
   "source": [
    "[n_seq-n_steps in MLM example elaboration](z_MlMastery%20LSTM%20for%20TS%20.ipynb#n_seq-n_steps)<br>\n",
    "(We can parameterize this and define the number of subsequences as n_seq and the number of time steps per subsequence as n_steps. [[source]](https://machinelearningmastery.com/how-to-develop-lstm-models-for-time-series-forecasting/#:~:text=We%20can%20parameterize%20this%20and))"
   ]
  },
  {
   "cell_type": "markdown",
   "metadata": {},
   "source": [
    "### Architectures"
   ]
  },
  {
   "cell_type": "markdown",
   "metadata": {},
   "source": [
    "#### Keras imports"
   ]
  },
  {
   "cell_type": "code",
   "execution_count": 17,
   "metadata": {},
   "outputs": [],
   "source": [
    "from tensorflow.keras.layers import (\n",
    "    LeakyReLU,\n",
    "    TimeDistributed, \n",
    "    Conv1D, \n",
    "    MaxPooling1D, \n",
    "    Flatten, \n",
    "    LSTM, \n",
    "    Bidirectional,\n",
    "    Dense, \n",
    "    Dropout, \n",
    "    BatchNormalization)\n",
    "from tensorflow.keras.initializers import GlorotUniform, GlorotNormal\n",
    "from tensorflow.keras import regularizers"
   ]
  },
  {
   "cell_type": "markdown",
   "metadata": {},
   "source": [
    "#### DenseNN-based\n",
    "[[Unrolling Seq Len]](#Unrolling-data-to-sequences)<br>\n",
    "[[to #Model-fit]](#Model-fit)"
   ]
  },
  {
   "cell_type": "code",
   "execution_count": 18,
   "metadata": {},
   "outputs": [
    {
     "data": {
      "text/plain": [
       "(1, 11)"
      ]
     },
     "execution_count": 18,
     "metadata": {},
     "output_type": "execute_result"
    }
   ],
   "source": [
    "input_model_shape=(nn_manager_cut.training_seq_params['seq_len'], nn_manager_cut.training_seq_params['n_features'])\n",
    "input_model_shape"
   ]
  },
  {
   "cell_type": "code",
   "execution_count": 19,
   "metadata": {},
   "outputs": [],
   "source": [
    "# Architecture \n",
    "\n",
    "weights_init = GlorotNormal()\n",
    "\n",
    "template_DNS = [\n",
    "    Flatten(input_shape=(nn_manager_cut.training_seq_params['seq_len'], \n",
    "                       nn_manager_cut.training_seq_params['n_features'])\n",
    "           ),\n",
    "    Dense(150, \n",
    "          activation=LeakyReLU(alpha=0.3),          \n",
    "          kernel_initializer=weights_init\n",
    "         ),\n",
    "    Dense(450, \n",
    "          activation=LeakyReLU(alpha=0.3),\n",
    "          kernel_initializer=weights_init\n",
    "         ),\n",
    "    Dense(250, \n",
    "      activation=LeakyReLU(alpha=0.3),\n",
    "      kernel_initializer=weights_init\n",
    "     ),\n",
    "    Dense(50, \n",
    "      activation=LeakyReLU(alpha=0.3),\n",
    "      kernel_initializer=weights_init\n",
    "     ),\n",
    "    Dense(1, kernel_initializer=weights_init)\n",
    "]"
   ]
  },
  {
   "cell_type": "code",
   "execution_count": 20,
   "metadata": {},
   "outputs": [
    {
     "data": {
      "text/plain": [
       "(874, 1, 11)"
      ]
     },
     "execution_count": 20,
     "metadata": {},
     "output_type": "execute_result"
    }
   ],
   "source": [
    "nn_manager_cut.X_train_unrolled.shape"
   ]
  },
  {
   "cell_type": "markdown",
   "metadata": {},
   "source": [
    "### Compiling Model with the chosen Architecture"
   ]
  },
  {
   "cell_type": "code",
   "execution_count": 21,
   "metadata": {
    "scrolled": false
   },
   "outputs": [
    {
     "name": "stdout",
     "output_type": "stream",
     "text": [
      ">>> model compiled\n",
      "Model: \"sequential\"\n",
      "_________________________________________________________________\n",
      "Layer (type)                 Output Shape              Param #   \n",
      "=================================================================\n",
      "flatten (Flatten)            (None, 11)                0         \n",
      "_________________________________________________________________\n",
      "dense (Dense)                (None, 150)               1800      \n",
      "_________________________________________________________________\n",
      "dense_1 (Dense)              (None, 450)               67950     \n",
      "_________________________________________________________________\n",
      "dense_2 (Dense)              (None, 250)               112750    \n",
      "_________________________________________________________________\n",
      "dense_3 (Dense)              (None, 50)                12550     \n",
      "_________________________________________________________________\n",
      "dense_4 (Dense)              (None, 1)                 51        \n",
      "=================================================================\n",
      "Total params: 195,101\n",
      "Trainable params: 195,101\n",
      "Non-trainable params: 0\n",
      "_________________________________________________________________\n"
     ]
    },
    {
     "data": {
      "text/plain": [
       "True"
      ]
     },
     "execution_count": 21,
     "metadata": {},
     "output_type": "execute_result"
    }
   ],
   "source": [
    "# Assembling and compiling model\n",
    "\n",
    "from tensorflow import keras\n",
    "\n",
    "opt_adam = keras.optimizers.Adam(\n",
    "    learning_rate=5e-5, #wo BatchNorm\n",
    "    beta_1=0.9,\n",
    "    beta_2=0.999,\n",
    "    epsilon=1e-07,\n",
    "    amsgrad=False, \n",
    ")\n",
    "\n",
    "compile_dict = dict(optimizer=opt_adam, loss=keras.losses.Huber(delta=.5), metrics=['mae']) # huber loss as per outliers\n",
    "\n",
    "\n",
    "nn_manager_cut.model_combine(template=template_DNS, compile_dict=compile_dict)"
   ]
  },
  {
   "cell_type": "markdown",
   "metadata": {},
   "source": [
    "## Model Training"
   ]
  },
  {
   "cell_type": "markdown",
   "metadata": {},
   "source": [
    "#### Model fit"
   ]
  },
  {
   "cell_type": "code",
   "execution_count": 22,
   "metadata": {},
   "outputs": [
    {
     "data": {
      "text/plain": [
       "([874, 1, 11], [1341, 1, 11])"
      ]
     },
     "execution_count": 22,
     "metadata": {},
     "output_type": "execute_result"
    }
   ],
   "source": [
    "nn_manager_cut.X_train_shape, nn_manager_cut.X_test_shape, "
   ]
  },
  {
   "cell_type": "code",
   "execution_count": 23,
   "metadata": {
    "scrolled": false
   },
   "outputs": [
    {
     "name": "stdout",
     "output_type": "stream",
     "text": [
      "CPU times: user 1min 17s, sys: 10.5 s, total: 1min 28s\n",
      "Wall time: 34.2 s\n"
     ]
    },
    {
     "data": {
      "text/plain": [
       "(0.0, 2000.0)"
      ]
     },
     "execution_count": 23,
     "metadata": {},
     "output_type": "execute_result"
    },
    {
     "data": {
      "image/png": "[encoded data removed]",
      "text/plain": [
       "<Figure size 1080x360 with 1 Axes>"
      ]
     },
     "metadata": {
      "needs_background": "light"
     },
     "output_type": "display_data"
    }
   ],
   "source": [
    "%%time\n",
    "res = nn_manager_cut.model_fit(n_epoch=700,\n",
    "                           verbose=0, \n",
    "                           return_results=True, \n",
    "                           print_charts=True,\n",
    "                           early_stopping=True\n",
    "                        );\n",
    "plt.ylim(0,2e3);"
   ]
  },
  {
   "cell_type": "markdown",
   "metadata": {},
   "source": [
    "Architectures: <br>\n",
    "[[#DenseNN-based]](#DenseNN-based)\n",
    "\n",
    "Model Compiling setup [[go]](#Compiling-Model-with-the-chosen-Architecture)<br>\n",
    "Unrolling Seq Len [[go]](#Unrolling-data-to-sequences)<br>\n",
    "\n",
    "Train-Test split after swapping data [[go]](#Swapping-(the-trial-issue)) <br>\n",
    "holdout data [[go]](#Keeping-Holdout-Samples-Aside)"
   ]
  },
  {
   "cell_type": "markdown",
   "metadata": {},
   "source": [
    "# Saving Model"
   ]
  },
  {
   "cell_type": "code",
   "execution_count": 24,
   "metadata": {
    "scrolled": true
   },
   "outputs": [],
   "source": [
    "from datetime import datetime\n",
    "\n",
    "# nn_manager_cut.model.save(f'./saved_models/{datetime.now().strftime(\"%Y%m%d_%HH%MM%SS\")}_DNSe_working')"
   ]
  },
  {
   "cell_type": "code",
   "execution_count": 25,
   "metadata": {
    "scrolled": false
   },
   "outputs": [],
   "source": [
    "# whenloading, pay attention to sequence of days that was used to predict value\n",
    "\n",
    "# nn_manager_cut.model = keras.models.load_model('./saved_models/20210623_20H39M34S_192_Bidi_2d/')"
   ]
  },
  {
   "cell_type": "markdown",
   "metadata": {},
   "source": [
    "### Plotting "
   ]
  },
  {
   "cell_type": "code",
   "execution_count": 26,
   "metadata": {
    "scrolled": true
   },
   "outputs": [
    {
     "data": {
      "text/html": [
       "<div>\n",
       "<style scoped>\n",
       "    .dataframe tbody tr th:only-of-type {\n",
       "        vertical-align: middle;\n",
       "    }\n",
       "\n",
       "    .dataframe tbody tr th {\n",
       "        vertical-align: top;\n",
       "    }\n",
       "\n",
       "    .dataframe thead th {\n",
       "        text-align: right;\n",
       "    }\n",
       "</style>\n",
       "<table border=\"1\" class=\"dataframe\">\n",
       "  <thead>\n",
       "    <tr style=\"text-align: right;\">\n",
       "      <th></th>\n",
       "      <th>High</th>\n",
       "      <th>Low</th>\n",
       "      <th>Vol</th>\n",
       "      <th>TOUTV</th>\n",
       "      <th>TRFEE</th>\n",
       "      <th>AVBLS</th>\n",
       "      <th>NTRAT</th>\n",
       "      <th>BTC_MINED_PDAY</th>\n",
       "      <th>VOL_CHANGE_PDAY</th>\n",
       "      <th>NTRAT_CH_PDAY</th>\n",
       "      <th>Price</th>\n",
       "    </tr>\n",
       "    <tr>\n",
       "      <th>Date</th>\n",
       "      <th></th>\n",
       "      <th></th>\n",
       "      <th></th>\n",
       "      <th></th>\n",
       "      <th></th>\n",
       "      <th></th>\n",
       "      <th></th>\n",
       "      <th></th>\n",
       "      <th></th>\n",
       "      <th></th>\n",
       "      <th></th>\n",
       "    </tr>\n",
       "  </thead>\n",
       "  <tbody>\n",
       "    <tr>\n",
       "      <th>2021-05-26</th>\n",
       "      <td>40750.0</td>\n",
       "      <td>37847.0</td>\n",
       "      <td>153800.0</td>\n",
       "      <td>2.222384e+06</td>\n",
       "      <td>77.846658</td>\n",
       "      <td>1.300155</td>\n",
       "      <td>644838441.0</td>\n",
       "      <td>756.25</td>\n",
       "      <td>-9210.0</td>\n",
       "      <td>233414.0</td>\n",
       "      <td>39249.2</td>\n",
       "    </tr>\n",
       "    <tr>\n",
       "      <th>2021-05-27</th>\n",
       "      <td>40322.2</td>\n",
       "      <td>37190.8</td>\n",
       "      <td>122930.0</td>\n",
       "      <td>1.982669e+06</td>\n",
       "      <td>66.114770</td>\n",
       "      <td>1.262394</td>\n",
       "      <td>645069798.0</td>\n",
       "      <td>718.75</td>\n",
       "      <td>-30870.0</td>\n",
       "      <td>231357.0</td>\n",
       "      <td>38417.3</td>\n",
       "    </tr>\n",
       "    <tr>\n",
       "      <th>2021-05-28</th>\n",
       "      <td>38844.1</td>\n",
       "      <td>34772.4</td>\n",
       "      <td>199580.0</td>\n",
       "      <td>2.897052e+06</td>\n",
       "      <td>69.535068</td>\n",
       "      <td>1.343872</td>\n",
       "      <td>645284958.0</td>\n",
       "      <td>831.25</td>\n",
       "      <td>76650.0</td>\n",
       "      <td>215160.0</td>\n",
       "      <td>35662.5</td>\n",
       "    </tr>\n",
       "  </tbody>\n",
       "</table>\n",
       "</div>"
      ],
      "text/plain": [
       "               High      Low       Vol         TOUTV      TRFEE     AVBLS  \\\n",
       "Date                                                                        \n",
       "2021-05-26  40750.0  37847.0  153800.0  2.222384e+06  77.846658  1.300155   \n",
       "2021-05-27  40322.2  37190.8  122930.0  1.982669e+06  66.114770  1.262394   \n",
       "2021-05-28  38844.1  34772.4  199580.0  2.897052e+06  69.535068  1.343872   \n",
       "\n",
       "                  NTRAT  BTC_MINED_PDAY  VOL_CHANGE_PDAY  NTRAT_CH_PDAY  \\\n",
       "Date                                                                      \n",
       "2021-05-26  644838441.0          756.25          -9210.0       233414.0   \n",
       "2021-05-27  645069798.0          718.75         -30870.0       231357.0   \n",
       "2021-05-28  645284958.0          831.25          76650.0       215160.0   \n",
       "\n",
       "              Price  \n",
       "Date                 \n",
       "2021-05-26  39249.2  \n",
       "2021-05-27  38417.3  \n",
       "2021-05-28  35662.5  "
      ]
     },
     "execution_count": 26,
     "metadata": {},
     "output_type": "execute_result"
    }
   ],
   "source": [
    "hold_out_X[:3]"
   ]
  },
  {
   "cell_type": "code",
   "execution_count": 27,
   "metadata": {
    "scrolled": true
   },
   "outputs": [
    {
     "name": "stdout",
     "output_type": "stream",
     "text": [
      ">>> Method called with outer X and y. Returning X, y unrolled...\n"
     ]
    },
    {
     "data": {
      "text/plain": [
       "(array([[[ 4.82237526,  4.86428326, -0.4413928 ,  0.43370296,\n",
       "          -0.24874003,  0.62553042,  1.01818335, -0.40804598,\n",
       "           0.81832481, -3.02747458,  4.45909498]]]),\n",
       " 27)"
      ]
     },
     "execution_count": 27,
     "metadata": {},
     "output_type": "execute_result"
    }
   ],
   "source": [
    "hold_out_X_unrolled, hold_out_y_unrolled = nn_manager_cut.unroll_train_test_to_sequences(\n",
    "    X=nn_manager_cut.scaler.transform(hold_out_X), \n",
    "    y =hold_out_y.values\n",
    ")\n",
    "\n",
    "hold_out_X_unrolled[-1:], hold_out_X_unrolled.shape[0]"
   ]
  },
  {
   "cell_type": "code",
   "execution_count": 28,
   "metadata": {},
   "outputs": [
    {
     "data": {
      "text/plain": [
       "DatetimeIndex(['2021-05-27', '2021-05-28', '2021-05-29', '2021-05-30',\n",
       "               '2021-05-31', '2021-06-01', '2021-06-02', '2021-06-03',\n",
       "               '2021-06-04', '2021-06-05', '2021-06-06', '2021-06-07',\n",
       "               '2021-06-08', '2021-06-09', '2021-06-10', '2021-06-11',\n",
       "               '2021-06-12', '2021-06-13', '2021-06-14', '2021-06-15',\n",
       "               '2021-06-16', '2021-06-17', '2021-06-18', '2021-06-19',\n",
       "               '2021-06-20', '2021-06-21', '2021-06-22'],\n",
       "              dtype='datetime64[ns]', name='Date', freq=None)"
      ]
     },
     "execution_count": 28,
     "metadata": {},
     "output_type": "execute_result"
    }
   ],
   "source": [
    "left_off_date_index = hold_out_y.index[nn_manager_cut.training_seq_params['seq_len']:]\n",
    "left_off_date_index"
   ]
  },
  {
   "cell_type": "code",
   "execution_count": 29,
   "metadata": {},
   "outputs": [
    {
     "data": {
      "text/plain": [
       "[39556.625, 38833.383]"
      ]
     },
     "execution_count": 29,
     "metadata": {},
     "output_type": "execute_result"
    }
   ],
   "source": [
    "left_off_pred = [nn_manager_cut.model_predict(seq.reshape(1,\n",
    "                                                   nn_manager_cut.training_seq_params['seq_len'],\n",
    "                                                   nn_manager_cut.training_seq_params['n_features']))[0][0]\n",
    "                 for seq in hold_out_X_unrolled]\n",
    "left_off_pred[:2]"
   ]
  },
  {
   "cell_type": "code",
   "execution_count": 30,
   "metadata": {},
   "outputs": [],
   "source": [
    "# ## one date test prediction\n",
    "# nn_manager_cut.model_predict(\n",
    "#     nn_manager_cut.scaler\n",
    "#         .transform(hold_out_X.loc['2021-05-27'].values.reshape(1, -1))\n",
    "#         .reshape(\n",
    "#                 1,nn_manager_cut.training_seq_params['seq_len'],\n",
    "#                 nn_manager_cut.training_seq_params['n_features'])\n",
    "# )[0][0]"
   ]
  },
  {
   "cell_type": "code",
   "execution_count": 31,
   "metadata": {},
   "outputs": [],
   "source": [
    "hold_out_y_df = pd.DataFrame(data=hold_out_y_unrolled, index=left_off_date_index, columns=[\"holdout Y\"])\n",
    "hold_out_pred_df = pd.DataFrame(data=left_off_pred, index=left_off_date_index, columns=[\"holdout Pred\"])"
   ]
  },
  {
   "cell_type": "code",
   "execution_count": 43,
   "metadata": {
    "scrolled": true
   },
   "outputs": [
    {
     "data": {
      "text/html": [
       "<div>\n",
       "<style scoped>\n",
       "    .dataframe tbody tr th:only-of-type {\n",
       "        vertical-align: middle;\n",
       "    }\n",
       "\n",
       "    .dataframe tbody tr th {\n",
       "        vertical-align: top;\n",
       "    }\n",
       "\n",
       "    .dataframe thead th {\n",
       "        text-align: right;\n",
       "    }\n",
       "</style>\n",
       "<table border=\"1\" class=\"dataframe\">\n",
       "  <thead>\n",
       "    <tr style=\"text-align: right;\">\n",
       "      <th></th>\n",
       "      <th>Price</th>\n",
       "    </tr>\n",
       "    <tr>\n",
       "      <th>Date</th>\n",
       "      <th></th>\n",
       "    </tr>\n",
       "  </thead>\n",
       "  <tbody>\n",
       "    <tr>\n",
       "      <th>2021-05-26</th>\n",
       "      <td>39249.2</td>\n",
       "    </tr>\n",
       "    <tr>\n",
       "      <th>2021-05-27</th>\n",
       "      <td>38417.3</td>\n",
       "    </tr>\n",
       "    <tr>\n",
       "      <th>2021-05-28</th>\n",
       "      <td>35662.5</td>\n",
       "    </tr>\n",
       "    <tr>\n",
       "      <th>2021-05-29</th>\n",
       "      <td>34584.6</td>\n",
       "    </tr>\n",
       "    <tr>\n",
       "      <th>2021-05-30</th>\n",
       "      <td>35652.8</td>\n",
       "    </tr>\n",
       "  </tbody>\n",
       "</table>\n",
       "</div>"
      ],
      "text/plain": [
       "              Price\n",
       "Date               \n",
       "2021-05-26  39249.2\n",
       "2021-05-27  38417.3\n",
       "2021-05-28  35662.5\n",
       "2021-05-29  34584.6\n",
       "2021-05-30  35652.8"
      ]
     },
     "execution_count": 43,
     "metadata": {},
     "output_type": "execute_result"
    }
   ],
   "source": [
    "hold_out_y[:5]"
   ]
  },
  {
   "cell_type": "code",
   "execution_count": 33,
   "metadata": {},
   "outputs": [
    {
     "data": {
      "text/html": [
       "<div>\n",
       "<style scoped>\n",
       "    .dataframe tbody tr th:only-of-type {\n",
       "        vertical-align: middle;\n",
       "    }\n",
       "\n",
       "    .dataframe tbody tr th {\n",
       "        vertical-align: top;\n",
       "    }\n",
       "\n",
       "    .dataframe thead th {\n",
       "        text-align: right;\n",
       "    }\n",
       "</style>\n",
       "<table border=\"1\" class=\"dataframe\">\n",
       "  <thead>\n",
       "    <tr style=\"text-align: right;\">\n",
       "      <th></th>\n",
       "      <th>holdout Pred</th>\n",
       "    </tr>\n",
       "    <tr>\n",
       "      <th>Date</th>\n",
       "      <th></th>\n",
       "    </tr>\n",
       "  </thead>\n",
       "  <tbody>\n",
       "    <tr>\n",
       "      <th>2021-05-27</th>\n",
       "      <td>39556.625000</td>\n",
       "    </tr>\n",
       "    <tr>\n",
       "      <th>2021-05-28</th>\n",
       "      <td>38833.382812</td>\n",
       "    </tr>\n",
       "    <tr>\n",
       "      <th>2021-05-29</th>\n",
       "      <td>36826.386719</td>\n",
       "    </tr>\n",
       "    <tr>\n",
       "      <th>2021-05-30</th>\n",
       "      <td>35357.113281</td>\n",
       "    </tr>\n",
       "    <tr>\n",
       "      <th>2021-05-31</th>\n",
       "      <td>35636.148438</td>\n",
       "    </tr>\n",
       "  </tbody>\n",
       "</table>\n",
       "</div>"
      ],
      "text/plain": [
       "            holdout Pred\n",
       "Date                    \n",
       "2021-05-27  39556.625000\n",
       "2021-05-28  38833.382812\n",
       "2021-05-29  36826.386719\n",
       "2021-05-30  35357.113281\n",
       "2021-05-31  35636.148438"
      ]
     },
     "execution_count": 33,
     "metadata": {},
     "output_type": "execute_result"
    }
   ],
   "source": [
    "hold_out_pred_df[:5]"
   ]
  },
  {
   "cell_type": "code",
   "execution_count": 34,
   "metadata": {},
   "outputs": [
    {
     "data": {
      "text/plain": [
       "<AxesSubplot:xlabel='Date'>"
      ]
     },
     "execution_count": 34,
     "metadata": {},
     "output_type": "execute_result"
    },
    {
     "data": {
      "image/png": "[encoded data removed]",
      "text/plain": [
       "<Figure size 1080x360 with 1 Axes>"
      ]
     },
     "metadata": {
      "needs_background": "light"
     },
     "output_type": "display_data"
    }
   ],
   "source": [
    "fig, ax = plt.subplots(1, figsize=(15,5))\n",
    "\n",
    "hold_out_y_df.plot(ax=ax)\n",
    "hold_out_pred_df.plot(ax=ax)"
   ]
  },
  {
   "cell_type": "markdown",
   "metadata": {},
   "source": [
    "## think about this tomorrow\n",
    "https://monosnap.com/file/bLcjLWpyUcocdmuraTyJNIWkKZLhOh"
   ]
  },
  {
   "cell_type": "code",
   "execution_count": 35,
   "metadata": {
    "scrolled": false
   },
   "outputs": [],
   "source": [
    "# nn_manager_cut.plot_predicted_vs_test_price(filters=[\"Date>='2021.02.01'\"]) \n",
    "# nn_manager_cut.plot_predicted_vs_test_price(filters=[\"Date>='2020.11.10'\", \"Date<='2021.04.10'\"], legend_loc='upper left') \n",
    "# nn_manager_cut.plot_predicted_vs_test_price(filters=[\"Date>='2018.06.01'\", \"Date<='2018.06.15'\"]) \n",
    "\n",
    "# nn_manager_cut.plot_predicted_vs_test_price(filters=[\"Date>='2014-11-01'\", \"Date<='2014-12-01'\"]) \n",
    "\n",
    "\n",
    "# nn_manager_cut.plot_predicted_vs_test_price(filters=[\"Date>='2021.06.09'\", \"Date<='2021.06.17'\"]) "
   ]
  },
  {
   "cell_type": "code",
   "execution_count": 36,
   "metadata": {},
   "outputs": [],
   "source": [
    "# X = nn_manager_cut.X_test['2021-06-10':'2021-06-11']\n",
    "# X = nn_manager_cut.scaler.transform(X)\n",
    "# nn_manager_cut.model_predict(X.reshape(1, nn_manager_cut.training_seq_params['seq_len'],\n",
    "#                                                    nn_manager_cut.training_seq_params['n_features']))[0][0] "
   ]
  },
  {
   "cell_type": "code",
   "execution_count": 37,
   "metadata": {},
   "outputs": [],
   "source": [
    "# nn_manager_cut.y_test.loc['2021-06-12']"
   ]
  },
  {
   "cell_type": "code",
   "execution_count": 38,
   "metadata": {},
   "outputs": [],
   "source": [
    "# data_for_pred = nn_manager_cut.scaler.transform(nn_manager_cut.X_test.loc['2018.06.07':'2018.06.09'])\n",
    "# nn_manager_cut.model_predict(data_for_pred.reshape(1,\n",
    "#                                                   nn_manager_cut.training_seq_params['seq_len'],\n",
    "#                                                    nn_manager_cut.training_seq_params['n_features']))[0][0]\n"
   ]
  },
  {
   "cell_type": "code",
   "execution_count": 39,
   "metadata": {},
   "outputs": [],
   "source": [
    "# nn_manager_cut.y_test.loc['2018.06.09']"
   ]
  },
  {
   "cell_type": "code",
   "execution_count": 40,
   "metadata": {},
   "outputs": [],
   "source": [
    "# nn_manager_cut.y_test_unrolled[:3]"
   ]
  },
  {
   "cell_type": "code",
   "execution_count": 41,
   "metadata": {
    "scrolled": false
   },
   "outputs": [],
   "source": [
    "# nn_manager_cut.y_pred[:3]"
   ]
  },
  {
   "cell_type": "code",
   "execution_count": 42,
   "metadata": {},
   "outputs": [],
   "source": [
    "# nn_manager_cut.y_test[nn_manager_cut.training_seq_params['seq_len']:][:3]"
   ]
  }
 ],
 "metadata": {
  "kernelspec": {
   "display_name": "Python 3",
   "language": "python",
   "name": "python3"
  },
  "language_info": {
   "codemirror_mode": {
    "name": "ipython",
    "version": 3
   },
   "file_extension": ".py",
   "mimetype": "text/x-python",
   "name": "python",
   "nbconvert_exporter": "python",
   "pygments_lexer": "ipython3",
   "version": "3.6.9"
  }
 },
 "nbformat": 4,
 "nbformat_minor": 2
}
