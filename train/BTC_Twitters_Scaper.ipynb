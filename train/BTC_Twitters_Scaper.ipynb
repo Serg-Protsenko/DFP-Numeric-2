{
  "nbformat": 4,
  "nbformat_minor": 0,
  "metadata": {
    "colab": {
      "name": "BTC_Twitters_Scaper.ipynb",
      "provenance": [],
      "collapsed_sections": []
    },
    "kernelspec": {
      "name": "python3",
      "display_name": "Python 3"
    },
    "language_info": {
      "name": "python"
    }
  },
  "cells": [
    {
      "cell_type": "code",
      "metadata": {
        "id": "wpjzULBEyE0d"
      },
      "source": [
        "!git clone --depth=1 https://github.com/twintproject/twint.git\n",
        "!cd /content/twint && pip3 install . -r requirements.txt"
      ],
      "execution_count": null,
      "outputs": []
    },
    {
      "cell_type": "code",
      "metadata": {
        "id": "rVSTIZVixZDj"
      },
      "source": [
        "import twint\n",
        "\n",
        "import nest_asyncio\n",
        "nest_asyncio.apply()\n"
      ],
      "execution_count": 13,
      "outputs": []
    },
    {
      "cell_type": "code",
      "metadata": {
        "id": "cvBFRdMu9akk"
      },
      "source": [
        "username = 'elonmusk'\n",
        " \n",
        "config = twint.Config()\n",
        " \n",
        "config.Username = username\n",
        "# config.User_id = '44196397'\n",
        "# config.Limit = 100\n",
        "config.Lang = \"en\"\n",
        "config.Store_csv = True\n",
        "config.Search = \"bitcoin\"\n",
        "# config.Custom[\"tweet\"] = [\"user_id\", \"username\", \"date\", \"time\", \"tweet\"]\n",
        "config.Custom[\"tweet\"] = [\"username\", \"date\", \"tweet\"]\n",
        "config.Output = username + \"_bitcoin.csv\""
      ],
      "execution_count": 14,
      "outputs": []
    },
    {
      "cell_type": "code",
      "metadata": {
        "id": "iB6Il3TgYMtc",
        "colab": {
          "base_uri": "https://localhost:8080/"
        },
        "outputId": "471fd898-8b00-41e2-fa45-a646c59b3821"
      },
      "source": [
        "# Run search\n",
        "twint.run.Search(config)"
      ],
      "execution_count": 15,
      "outputs": [
        {
          "output_type": "stream",
          "text": [
            "1401091921746006017 2021-06-05 08:21:59 +0000 <elonmusk> @lexfridman @VitalikButerin @ethereum @Bitcoin @dogecoin @ShibainuCoin @IOHK_Charles @Cardano @chainlink @0xPolygon I pretty much agree with Vitalik\n",
            "1400620080090730501 2021-06-04 01:07:04 +0000 <elonmusk> #Bitcoin 💔  https://t.co/lNnEfMdtJf\n",
            "1396914548167233537 2021-05-24 19:42:36 +0000 <elonmusk> Spoke with North American Bitcoin miners. They committed to publish current &amp; planned renewable usage &amp; to ask miners WW to do so. Potentially promising.\n",
            "1395472799020421120 2021-05-20 20:13:36 +0000 <elonmusk> @TeslaGong @wintonARK Bitcoin hashing (aka mining) energy usage is starting to exceed that of medium-sized countries. Almost impossible for small hashers to succeed without those massive economies of scale.\n",
            "1394170030741413888 2021-05-17 05:56:52 +0000 <elonmusk> @BTC_Archive To clarify speculation, Tesla has not sold any Bitcoin\n",
            "1393993975019749382 2021-05-16 18:17:17 +0000 <elonmusk> @ChainLinkGod @PeterMcCormack Bitcoin is actually highly centralized, with supermajority controlled by handful of big mining (aka hashing) companies.   A single coal mine in Xinjiang flooded, almost killing miners, and Bitcoin hash rate dropped 35%. Sound “decentralized” to you?   https://t.co/Oom8yzGRNQ\n",
            "1393991411524120576 2021-05-16 18:07:06 +0000 <elonmusk> @poisonouspinups @michael_saylor He should wear outfit for Halloween, but with “Bitcoin” tattooed high on thighs\n",
            "1392602041025843203 2021-05-12 22:06:14 +0000 <elonmusk> Tesla &amp; Bitcoin  https://t.co/YSswJmVZhP\n",
            "1386821144037236737 2021-04-26 23:15:01 +0000 <elonmusk> @stoolpresidente No, you do not. I have not sold any of my Bitcoin. Tesla sold 10% of its holdings essentially to prove liquidity of Bitcoin as an alternative to holding cash on balance sheet.\n",
            "1374619672973221892 2021-03-24 07:10:43 +0000 <elonmusk> Pay by Bitcoin capability available outside US later this year\n",
            "1374619379929772034 2021-03-24 07:09:34 +0000 <elonmusk> Tesla is using only internal &amp; open source software &amp; operates Bitcoin nodes directly.  Bitcoin paid to Tesla will be retained as Bitcoin, not converted to fiat currency.\n",
            "1374617643446063105 2021-03-24 07:02:40 +0000 <elonmusk> You can now buy a Tesla with Bitcoin\n",
            "1370449101402353669 2021-03-12 18:58:22 +0000 <elonmusk> BTC (Bitcoin) is an anagram of TBC(The Boring Company) What a coincidence!\n",
            "1362600676174557186 2021-02-19 03:11:31 +0000 <elonmusk> @business To be clear, I am *not* an investor, I am an engineer. I don’t even own any publicly traded stock besides Tesla.   However, when fiat currency has negative real interest, only a fool wouldn’t look elsewhere.   Bitcoin is almost as bs as fiat money. The key word is “almost”.\n",
            "1362598034866118658 2021-02-19 03:01:02 +0000 <elonmusk> @business Tesla’s action is not directly reflective of my opinion. Having some Bitcoin, which is simply a less dumb form of liquidity than cash, is adventurous enough for an S&amp;P500 company.\n",
            "1340588909974200321 2020-12-20 09:24:37 +0000 <elonmusk> Bitcoin is almost as bs as fiat money\n",
            "1340573003579617280 2020-12-20 08:21:25 +0000 <elonmusk> Bitcoin is my safe word\n",
            "1328458535340949505 2020-11-16 22:02:51 +0000 <elonmusk> @Maisie_Williams 🎶 Toss a bitcoin to ur Witcher 🎶\n",
            "1261416824459030529 2020-05-15 22:03:01 +0000 <elonmusk> @jk_rowling Pretty much, although massive currency issuance by govt central banks is making Bitcoin Internet 👻 money look solid by comparison\n",
            "1256353943765921792 2020-05-01 22:44:56 +0000 <elonmusk> @Bitcoin How much for some anime Bitcoin?  https://t.co/itqRslFNcb\n",
            "1256351293007736832 2020-05-01 22:34:24 +0000 <elonmusk> @Bitcoin 🤣🤣\n",
            "1215526980449255424 2020-01-10 06:53:10 +0000 <elonmusk> Bitcoin is *not* my safe word\n",
            "1054520588734058496 2018-10-22 23:51:15 +0000 <elonmusk> @vicentes @Grimezsz Wanna buy some Bitcoin? 😉😉  https://t.co/9ZbBJ5fuVq\n",
            "[!] No more data! Scraping will stop now.\n",
            "found 0 deleted tweets in this search.\n"
          ],
          "name": "stdout"
        }
      ]
    },
    {
      "cell_type": "code",
      "metadata": {
        "id": "pimAptchYi_T"
      },
      "source": [
        ""
      ],
      "execution_count": null,
      "outputs": []
    }
  ]
}