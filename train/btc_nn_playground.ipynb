{
 "cells": [
  {
   "cell_type": "markdown",
   "metadata": {},
   "source": [
    "# Import, Init"
   ]
  },
  {
   "cell_type": "code",
   "execution_count": 90,
   "metadata": {},
   "outputs": [
    {
     "data": {
      "text/plain": [
       "<module 'cls_nnetwork' from './classes/cls_nnetwork.py'>"
      ]
     },
     "execution_count": 90,
     "metadata": {},
     "output_type": "execute_result"
    }
   ],
   "source": [
    "import os, sys\n",
    "import pandas as pd\n",
    "import seaborn as sns\n",
    "\n",
    "sys.path.insert(0, \"./classes/\")\n",
    "import cls_nnetwork\n",
    "\n",
    "# reloading functions without runtime.restart\n",
    "import importlib\n",
    "importlib.reload(cls_nnetwork)"
   ]
  },
  {
   "cell_type": "code",
   "execution_count": 94,
   "metadata": {},
   "outputs": [
    {
     "name": "stdout",
     "output_type": "stream",
     "text": [
      ">>> train-test inited:  {'X_test_cut': True, 'X_train_cut': True, 'y_test_cut': True, 'y_train_cut': True}\n"
     ]
    }
   ],
   "source": [
    "# cut -- train test data with trimmed columns, so that it's more easy to train\n",
    "\n",
    "nn_manager_cut = cls_nnetwork.NeuralkManager(dir_path='../data/csv_to_train/train_test_cut')"
   ]
  },
  {
   "cell_type": "code",
   "execution_count": 95,
   "metadata": {},
   "outputs": [
    {
     "data": {
      "text/plain": [
       "((3182, 12), (795, 12))"
      ]
     },
     "execution_count": 95,
     "metadata": {},
     "output_type": "execute_result"
    }
   ],
   "source": [
    "nn_manager_cut.X_train.shape, nn_manager.X_test.shape"
   ]
  },
  {
   "cell_type": "code",
   "execution_count": 96,
   "metadata": {},
   "outputs": [
    {
     "data": {
      "text/html": [
       "<div>\n",
       "<style scoped>\n",
       "    .dataframe tbody tr th:only-of-type {\n",
       "        vertical-align: middle;\n",
       "    }\n",
       "\n",
       "    .dataframe tbody tr th {\n",
       "        vertical-align: top;\n",
       "    }\n",
       "\n",
       "    .dataframe thead th {\n",
       "        text-align: right;\n",
       "    }\n",
       "</style>\n",
       "<table border=\"1\" class=\"dataframe\">\n",
       "  <thead>\n",
       "    <tr style=\"text-align: right;\">\n",
       "      <th></th>\n",
       "      <th>Open</th>\n",
       "      <th>High</th>\n",
       "      <th>Low</th>\n",
       "      <th>Vol</th>\n",
       "      <th>AVBLS</th>\n",
       "      <th>NTRAT</th>\n",
       "      <th>TOUTV</th>\n",
       "      <th>TRFEE</th>\n",
       "      <th>BTC_MINED_PDAY</th>\n",
       "      <th>VOL_CHANGE_PDAY</th>\n",
       "      <th>MWNUS_CH_PDAY</th>\n",
       "      <th>NTRAT_CH_PDAY</th>\n",
       "    </tr>\n",
       "    <tr>\n",
       "      <th>Date</th>\n",
       "      <th></th>\n",
       "      <th></th>\n",
       "      <th></th>\n",
       "      <th></th>\n",
       "      <th></th>\n",
       "      <th></th>\n",
       "      <th></th>\n",
       "      <th></th>\n",
       "      <th></th>\n",
       "      <th></th>\n",
       "      <th></th>\n",
       "      <th></th>\n",
       "    </tr>\n",
       "  </thead>\n",
       "  <tbody>\n",
       "    <tr>\n",
       "      <th>2019-04-03</th>\n",
       "      <td>4859.3</td>\n",
       "      <td>5278.4</td>\n",
       "      <td>4814.0</td>\n",
       "      <td>13830000.0</td>\n",
       "      <td>1.248330</td>\n",
       "      <td>397961949.0</td>\n",
       "      <td>1.306792e+06</td>\n",
       "      <td>142.102988</td>\n",
       "      <td>425.0</td>\n",
       "      <td>-12780000.0</td>\n",
       "      <td>52351.0</td>\n",
       "      <td>360333.0</td>\n",
       "    </tr>\n",
       "    <tr>\n",
       "      <th>2019-04-02</th>\n",
       "      <td>4145.1</td>\n",
       "      <td>4899.6</td>\n",
       "      <td>4143.5</td>\n",
       "      <td>14770000.0</td>\n",
       "      <td>1.215507</td>\n",
       "      <td>397560778.0</td>\n",
       "      <td>3.429199e+06</td>\n",
       "      <td>114.489789</td>\n",
       "      <td>1512.5</td>\n",
       "      <td>-940000.0</td>\n",
       "      <td>61873.0</td>\n",
       "      <td>401171.0</td>\n",
       "    </tr>\n",
       "    <tr>\n",
       "      <th>2019-04-01</th>\n",
       "      <td>4102.3</td>\n",
       "      <td>4159.1</td>\n",
       "      <td>4076.8</td>\n",
       "      <td>3220000.0</td>\n",
       "      <td>1.205358</td>\n",
       "      <td>397191600.0</td>\n",
       "      <td>1.744093e+06</td>\n",
       "      <td>61.846737</td>\n",
       "      <td>2162.5</td>\n",
       "      <td>11550000.0</td>\n",
       "      <td>87465.0</td>\n",
       "      <td>369178.0</td>\n",
       "    </tr>\n",
       "    <tr>\n",
       "      <th>2019-03-31</th>\n",
       "      <td>4111.8</td>\n",
       "      <td>4121.9</td>\n",
       "      <td>4082.2</td>\n",
       "      <td>2430000.0</td>\n",
       "      <td>1.173566</td>\n",
       "      <td>396808790.0</td>\n",
       "      <td>9.168389e+05</td>\n",
       "      <td>44.614255</td>\n",
       "      <td>1425.0</td>\n",
       "      <td>790000.0</td>\n",
       "      <td>34688.0</td>\n",
       "      <td>382810.0</td>\n",
       "    </tr>\n",
       "    <tr>\n",
       "      <th>2019-03-30</th>\n",
       "      <td>4103.7</td>\n",
       "      <td>4138.1</td>\n",
       "      <td>4057.1</td>\n",
       "      <td>2550000.0</td>\n",
       "      <td>1.204920</td>\n",
       "      <td>396430531.0</td>\n",
       "      <td>9.228557e+05</td>\n",
       "      <td>54.673729</td>\n",
       "      <td>2050.0</td>\n",
       "      <td>-120000.0</td>\n",
       "      <td>64109.0</td>\n",
       "      <td>378259.0</td>\n",
       "    </tr>\n",
       "  </tbody>\n",
       "</table>\n",
       "</div>"
      ],
      "text/plain": [
       "              Open    High     Low         Vol     AVBLS        NTRAT  \\\n",
       "Date                                                                    \n",
       "2019-04-03  4859.3  5278.4  4814.0  13830000.0  1.248330  397961949.0   \n",
       "2019-04-02  4145.1  4899.6  4143.5  14770000.0  1.215507  397560778.0   \n",
       "2019-04-01  4102.3  4159.1  4076.8   3220000.0  1.205358  397191600.0   \n",
       "2019-03-31  4111.8  4121.9  4082.2   2430000.0  1.173566  396808790.0   \n",
       "2019-03-30  4103.7  4138.1  4057.1   2550000.0  1.204920  396430531.0   \n",
       "\n",
       "                   TOUTV       TRFEE  BTC_MINED_PDAY  VOL_CHANGE_PDAY  \\\n",
       "Date                                                                    \n",
       "2019-04-03  1.306792e+06  142.102988           425.0      -12780000.0   \n",
       "2019-04-02  3.429199e+06  114.489789          1512.5        -940000.0   \n",
       "2019-04-01  1.744093e+06   61.846737          2162.5       11550000.0   \n",
       "2019-03-31  9.168389e+05   44.614255          1425.0         790000.0   \n",
       "2019-03-30  9.228557e+05   54.673729          2050.0        -120000.0   \n",
       "\n",
       "            MWNUS_CH_PDAY  NTRAT_CH_PDAY  \n",
       "Date                                      \n",
       "2019-04-03        52351.0       360333.0  \n",
       "2019-04-02        61873.0       401171.0  \n",
       "2019-04-01        87465.0       369178.0  \n",
       "2019-03-31        34688.0       382810.0  \n",
       "2019-03-30        64109.0       378259.0  "
      ]
     },
     "execution_count": 96,
     "metadata": {},
     "output_type": "execute_result"
    }
   ],
   "source": [
    "nn_manager_cut.X_train[:5]"
   ]
  },
  {
   "cell_type": "markdown",
   "metadata": {},
   "source": [
    "# Model Creation"
   ]
  },
  {
   "cell_type": "code",
   "execution_count": null,
   "metadata": {},
   "outputs": [],
   "source": [
    "nn_manager.`"
   ]
  }
 ],
 "metadata": {
  "kernelspec": {
   "display_name": "Python 3",
   "language": "python",
   "name": "python3"
  },
  "language_info": {
   "codemirror_mode": {
    "name": "ipython",
    "version": 3
   },
   "file_extension": ".py",
   "mimetype": "text/x-python",
   "name": "python",
   "nbconvert_exporter": "python",
   "pygments_lexer": "ipython3",
   "version": "3.6.9"
  }
 },
 "nbformat": 4,
 "nbformat_minor": 2
}
