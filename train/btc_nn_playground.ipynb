{
 "cells": [
  {
   "cell_type": "markdown",
   "metadata": {},
   "source": [
    "# Import, Init"
   ]
  },
  {
   "cell_type": "code",
   "execution_count": 88,
   "metadata": {},
   "outputs": [
    {
     "data": {
      "text/plain": [
       "<module 'cls_nnetwork' from './classes/cls_nnetwork.py'>"
      ]
     },
     "execution_count": 88,
     "metadata": {},
     "output_type": "execute_result"
    }
   ],
   "source": [
    "import os, sys\n",
    "import pandas as pd\n",
    "import seaborn as sns\n",
    "import matplotlib.pyplot as plt\n",
    "\n",
    "sys.path.insert(0, \"./classes/\")\n",
    "import cls_nnetwork\n",
    "\n",
    "# reloading functions without runtime.restart\n",
    "import importlib\n",
    "importlib.reload(cls_nnetwork)"
   ]
  },
  {
   "cell_type": "code",
   "execution_count": 89,
   "metadata": {},
   "outputs": [
    {
     "name": "stdout",
     "output_type": "stream",
     "text": [
      ">>> train-test inited:  {'y_test': True, 'X_test': True, 'y_train': True, 'X_train': True}\n"
     ]
    }
   ],
   "source": [
    "# cut -- train test data with trimmed columns, so that it's more easy to train\n",
    "\n",
    "nn_manager_cut = cls_nnetwork.NeuralManager(dir_path='../data/csv_to_train/train_test_cut/')"
   ]
  },
  {
   "cell_type": "code",
   "execution_count": 90,
   "metadata": {},
   "outputs": [
    {
     "data": {
      "text/plain": [
       "Index(['Open', 'High', 'Low', 'Vol', 'AVBLS', 'NTRAT', 'TOUTV', 'TRFEE',\n",
       "       'BTC_MINED_PDAY', 'VOL_CHANGE_PDAY', 'MWNUS_CH_PDAY', 'NTRAT_CH_PDAY'],\n",
       "      dtype='object')"
      ]
     },
     "execution_count": 90,
     "metadata": {},
     "output_type": "execute_result"
    }
   ],
   "source": [
    "nn_manager_cut.X_test.columns"
   ]
  },
  {
   "cell_type": "markdown",
   "metadata": {},
   "source": [
    "# Preparing data"
   ]
  },
  {
   "cell_type": "markdown",
   "metadata": {},
   "source": [
    "## Normalizing"
   ]
  },
  {
   "cell_type": "code",
   "execution_count": 91,
   "metadata": {},
   "outputs": [
    {
     "data": {
      "text/plain": [
       "array([[-0.35788468, -0.36106367, -0.36592223, -0.58401698, -0.43077291,\n",
       "        -0.28358634, -0.82919494, -0.64760888,  2.76317136,  0.03411234,\n",
       "        -0.32110596, -0.22554355],\n",
       "       [-0.35778409, -0.36106367, -0.36592223, -0.57780875, -0.43056673,\n",
       "        -0.28358294, -0.83411168, -0.65625833,  1.16726343,  0.00787208,\n",
       "        -0.32110596, -0.23042704]])"
      ]
     },
     "execution_count": 91,
     "metadata": {},
     "output_type": "execute_result"
    }
   ],
   "source": [
    "from sklearn.preprocessing import RobustScaler\n",
    "\n",
    "nn_manager_cut.normalize_X(scaler=RobustScaler)\n",
    "\n",
    "nn_manager_cut.X_train_normalized[:2]"
   ]
  },
  {
   "cell_type": "markdown",
   "metadata": {},
   "source": [
    "## Unrolling data to sequences\n",
    "[[to #Model-fit]](#Model-fit)"
   ]
  },
  {
   "cell_type": "code",
   "execution_count": 93,
   "metadata": {
    "scrolled": false
   },
   "outputs": [
    {
     "name": "stdout",
     "output_type": "stream",
     "text": [
      "self.training_seq_params -->  {'seq_len': 4, 'n_features': 12}\n",
      "self.X_train_shape -->  (3182, 4, 12)\n",
      "self.X_test_shape -->  (795, 4, 12)\n"
     ]
    },
    {
     "data": {
      "text/plain": [
       "True"
      ]
     },
     "execution_count": 93,
     "metadata": {},
     "output_type": "execute_result"
    }
   ],
   "source": [
    "nn_manager_cut.set_train_test_data_shapes(shape_kwargs=dict(seq_len=4))"
   ]
  },
  {
   "cell_type": "code",
   "execution_count": 94,
   "metadata": {
    "scrolled": true
   },
   "outputs": [],
   "source": [
    "nn_manager_cut.unroll_train_test_to_sequences()"
   ]
  },
  {
   "cell_type": "code",
   "execution_count": 97,
   "metadata": {
    "scrolled": false
   },
   "outputs": [
    {
     "data": {
      "text/plain": [
       "array([[ 4.5733397 ,  4.5467675 ,  4.82022174, 10.20613854,  1.28184017,\n",
       "         1.87952864, -0.04548318,  2.5474734 , -0.23836317,  3.31316113,\n",
       "         1.30698295,  1.48368537],\n",
       "       [ 4.68146956,  4.71168578,  4.88345446, 11.4789522 ,  1.24140549,\n",
       "         1.88162712, -0.27668704,  1.59950791, -0.40613811, -3.6198442 ,\n",
       "         2.99879035,  1.35947304],\n",
       "       [ 4.71778107,  4.73227616,  4.97448411, 10.07373856,  1.14087063,\n",
       "         1.88357335, -0.2339349 ,  1.7297756 ,  0.08286445,  2.8703567 ,\n",
       "         2.62804179,  1.32794069],\n",
       "       [ 4.84592753,  4.81141742,  5.00291762, 11.17550917,  1.25063089,\n",
       "         1.88548092,  0.26145216,  2.98612256, -0.25882353, -4.69241492,\n",
       "         7.17938889,  1.42051883]])"
      ]
     },
     "execution_count": 97,
     "metadata": {},
     "output_type": "execute_result"
    }
   ],
   "source": [
    "nn_manager_cut.X_test_unrolled[1]"
   ]
  },
  {
   "cell_type": "code",
   "execution_count": 98,
   "metadata": {
    "scrolled": false
   },
   "outputs": [
    {
     "data": {
      "text/plain": [
       "array([[ 4.68146956,  4.71168578,  4.88345446, 11.4789522 ,  1.24140549,\n",
       "         1.88162712, -0.27668704,  1.59950791, -0.40613811, -3.6198442 ,\n",
       "         2.99879035,  1.35947304],\n",
       "       [ 4.71778107,  4.73227616,  4.97448411, 10.07373856,  1.14087063,\n",
       "         1.88357335, -0.2339349 ,  1.7297756 ,  0.08286445,  2.8703567 ,\n",
       "         2.62804179,  1.32794069],\n",
       "       [ 4.84592753,  4.81141742,  5.00291762, 11.17550917,  1.25063089,\n",
       "         1.88548092,  0.26145216,  2.98612256, -0.25882353, -4.69241492,\n",
       "         7.17938889,  1.42051883],\n",
       "       [ 4.91784646,  4.75803855,  5.03973264,  9.35599126,  1.29602355,\n",
       "         1.88750198,  0.62933247,  2.55033297, -0.37953964,  1.75284953,\n",
       "         3.00180661,  1.30012297]])"
      ]
     },
     "execution_count": 98,
     "metadata": {},
     "output_type": "execute_result"
    }
   ],
   "source": [
    "# goes up by one sequence -- compare this cell result vs previous\n",
    "nn_manager_cut.X_test_unrolled[2]"
   ]
  },
  {
   "cell_type": "code",
   "execution_count": 99,
   "metadata": {},
   "outputs": [
    {
     "data": {
      "text/plain": [
       "(             Price\n",
       " Date              \n",
       " 2019-04-04  4902.4\n",
       " 2019-04-05  5010.2\n",
       " 2019-04-06  5046.2\n",
       " 2019-04-07  5173.6\n",
       " 2019-04-08  5245.2\n",
       " 2019-04-09  5158.4,\n",
       " array([[5245.2],\n",
       "        [5158.4],\n",
       "        [5307.8],\n",
       "        [5022.6],\n",
       "        [5054.2],\n",
       "        [5051.8]]))"
      ]
     },
     "execution_count": 99,
     "metadata": {},
     "output_type": "execute_result"
    }
   ],
   "source": [
    "# on the base of the first two elements of the sequence we want to predict the third's day price\n",
    "\n",
    "nn_manager_cut.y_test.iloc[:6], nn_manager_cut.y_test_unrolled[:6]"
   ]
  },
  {
   "cell_type": "markdown",
   "metadata": {},
   "source": [
    "# Model"
   ]
  },
  {
   "cell_type": "markdown",
   "metadata": {},
   "source": [
    "## Model Assembling"
   ]
  },
  {
   "cell_type": "markdown",
   "metadata": {},
   "source": [
    "[n_seq-n_steps in MLM example elaboration](z_MlMastery%20LSTM%20for%20TS%20.ipynb#n_seq-n_steps)<br>\n",
    "(We can parameterize this and define the number of subsequences as n_seq and the number of time steps per subsequence as n_steps. [[source]](https://machinelearningmastery.com/how-to-develop-lstm-models-for-time-series-forecasting/#:~:text=We%20can%20parameterize%20this%20and))"
   ]
  },
  {
   "cell_type": "markdown",
   "metadata": {},
   "source": [
    "### Architectures"
   ]
  },
  {
   "cell_type": "markdown",
   "metadata": {},
   "source": [
    "#### Keras imports"
   ]
  },
  {
   "cell_type": "code",
   "execution_count": 100,
   "metadata": {},
   "outputs": [],
   "source": [
    "from tensorflow.keras.layers import (\n",
    "    LeakyReLU,\n",
    "    TimeDistributed, \n",
    "    Conv1D, \n",
    "    MaxPooling1D, \n",
    "    Flatten, \n",
    "    LSTM, \n",
    "    Bidirectional,\n",
    "    Dense, \n",
    "    Dropout, \n",
    "    BatchNormalization)\n",
    "from tensorflow.keras.initializers import GlorotUniform, GlorotNormal\n",
    "from tensorflow.keras import regularizers"
   ]
  },
  {
   "cell_type": "markdown",
   "metadata": {},
   "source": [
    "#### Stacked LSTM shape\n",
    "[[#Setting General seq len for X_* unrolling]](#Unrolling-data-to-sequences)"
   ]
  },
  {
   "cell_type": "code",
   "execution_count": 10,
   "metadata": {},
   "outputs": [
    {
     "data": {
      "text/plain": [
       "({'n_rows': 3178, 'n_seq': 4, 'n_features': 12},\n",
       " {'n_rows': 791, 'n_seq': 4, 'n_features': 12})"
      ]
     },
     "execution_count": 10,
     "metadata": {},
     "output_type": "execute_result"
    }
   ],
   "source": [
    "# LSTM \n",
    "\n",
    "shape_lstm_stacked_train = dict(\n",
    "            n_rows=nn_manager_cut.X_train_unrolled.shape[0], \n",
    "            n_seq=sequence_len, \n",
    "            n_features=n_features) # not splitting to subseq\n",
    "\n",
    "shape_lstm_stacked_test = {key:(value if key != 'n_rows' else nn_manager_cut.X_test_unrolled.shape[0]) \n",
    "                       for (key, value) in shape_lstm_stacked_train.items()}\n",
    "\n",
    "(shape_lstm_stacked_train, shape_lstm_stacked_test)"
   ]
  },
  {
   "cell_type": "markdown",
   "metadata": {},
   "source": [
    "#### CNN-LSTM Layers"
   ]
  },
  {
   "cell_type": "code",
   "execution_count": 11,
   "metadata": {},
   "outputs": [],
   "source": [
    "# # CNN-LSTM Architecture\n",
    "\n",
    "# weights_init = GlorotNormal()\n",
    "\n",
    "# conv1D_0 = Conv1D(filters=64, kernel_size=1, activation='relu', padding='same', kernel_initializer=weights_init)\n",
    "# conv1D_1 = Conv1D(filters=64, kernel_size=1, activation='relu', padding='same')\n",
    "# # conv1D_2 = Conv1D(filters=64, kernel_size=1, activation='relu', padding='causal')\n",
    "# # conv1D_3 = Conv1D(filters=64, kernel_size=1, activation='relu', padding='causal')\n",
    "\n",
    "# # src: \n",
    "# # https://machinelearningmastery.com/how-to-develop-lstm-models-for-time-series-forecasting/#:~:text=A%20convolutional%20neural\n",
    "# template_CNN_LSTM = [\n",
    "#     TimeDistributed(conv1D_0, input_shape=(None, shape_cnn_lstm_train['n_steps_subseq'], shape_cnn_lstm_train['n_features'])),\n",
    "#     TimeDistributed(conv1D_1),\n",
    "# #     TimeDistributed(conv1D_2),\n",
    "# #     TimeDistributed(conv1D_3),\n",
    "#     TimeDistributed(MaxPooling1D(pool_size=2)),\n",
    "#     TimeDistributed(Flatten()),\n",
    "#     LSTM(50, activation='relu', return_sequences = True),\n",
    "#     LSTM(50, activation='relu'),\n",
    "#     Dense(50),\n",
    "#     Dense(20),\n",
    "#     Dense(1)\n",
    "# ]"
   ]
  },
  {
   "cell_type": "markdown",
   "metadata": {},
   "source": [
    "#### LSTM-based\n",
    "[[Unrolling Seq Len]](#Unrolling-data-to-sequences)<br>\n",
    "[[to #Model-fit]](#Model-fit)"
   ]
  },
  {
   "cell_type": "code",
   "execution_count": 101,
   "metadata": {},
   "outputs": [
    {
     "data": {
      "text/plain": [
       "(4, 12)"
      ]
     },
     "execution_count": 101,
     "metadata": {},
     "output_type": "execute_result"
    }
   ],
   "source": [
    "input_model_shape=(nn_manager_cut.training_seq_params['seq_len'], nn_manager_cut.training_seq_params['n_features'])\n",
    "input_model_shape"
   ]
  },
  {
   "cell_type": "code",
   "execution_count": 103,
   "metadata": {},
   "outputs": [],
   "source": [
    "# LSTM\n",
    "\n",
    "weights_init = GlorotNormal()\n",
    "\n",
    "template_Stacked_LSTM = [\n",
    "    Bidirectional(\n",
    "        LSTM(20, activation=LeakyReLU(alpha=0.35), \n",
    "             kernel_initializer=weights_init, \n",
    "#              return_sequences=True,\n",
    "#              input_shape=input_model_shape             \n",
    "            ),\n",
    "         input_shape=input_model_shape),\n",
    "#     ),\n",
    "#     LSTM(10, activation=LeakyReLU(alpha=0.35)),    \n",
    "    Dense(5),    \n",
    "    Dense(2),\n",
    "    Dense(1)\n",
    "]"
   ]
  },
  {
   "cell_type": "code",
   "execution_count": 104,
   "metadata": {},
   "outputs": [
    {
     "data": {
      "text/plain": [
       "(3178, 4, 12)"
      ]
     },
     "execution_count": 104,
     "metadata": {},
     "output_type": "execute_result"
    }
   ],
   "source": [
    "nn_manager_cut.X_train_unrolled.shape"
   ]
  },
  {
   "cell_type": "markdown",
   "metadata": {},
   "source": [
    "### Compiling Model with the chosen Architecture"
   ]
  },
  {
   "cell_type": "code",
   "execution_count": 105,
   "metadata": {
    "scrolled": false
   },
   "outputs": [
    {
     "name": "stdout",
     "output_type": "stream",
     "text": [
      ">>> model compiled\n",
      "Model: \"sequential_1\"\n",
      "_________________________________________________________________\n",
      "Layer (type)                 Output Shape              Param #   \n",
      "=================================================================\n",
      "bidirectional_2 (Bidirection (None, 40)                5280      \n",
      "_________________________________________________________________\n",
      "dense_6 (Dense)              (None, 5)                 205       \n",
      "_________________________________________________________________\n",
      "dense_7 (Dense)              (None, 2)                 12        \n",
      "_________________________________________________________________\n",
      "dense_8 (Dense)              (None, 1)                 3         \n",
      "=================================================================\n",
      "Total params: 5,500\n",
      "Trainable params: 5,500\n",
      "Non-trainable params: 0\n",
      "_________________________________________________________________\n"
     ]
    },
    {
     "data": {
      "text/plain": [
       "True"
      ]
     },
     "execution_count": 105,
     "metadata": {},
     "output_type": "execute_result"
    }
   ],
   "source": [
    "# Assembling and compiling model\n",
    "\n",
    "from tensorflow import keras\n",
    "\n",
    "opt_adam = keras.optimizers.Adam(\n",
    "    learning_rate=3e-5, #wo BatchNorm\n",
    "    beta_1=0.9,\n",
    "    beta_2=0.999,\n",
    "    epsilon=1e-07,\n",
    "    amsgrad=False, \n",
    ")\n",
    "\n",
    "training_params = dict(optimizer=opt_adam, loss=keras.losses.Huber(delta=.5), metrics=['mae']) # huber loss as per outliers\n",
    "\n",
    "\n",
    "nn_manager_cut.model_combine(template=template_Stacked_LSTM, compile_dict=training_params)"
   ]
  },
  {
   "cell_type": "markdown",
   "metadata": {},
   "source": [
    "## Model Training"
   ]
  },
  {
   "cell_type": "code",
   "execution_count": 18,
   "metadata": {},
   "outputs": [
    {
     "data": {
      "text/plain": [
       "((3178, 4, 12), (791, 4, 12))"
      ]
     },
     "execution_count": 18,
     "metadata": {},
     "output_type": "execute_result"
    }
   ],
   "source": [
    "# LSTMs Stacked DataShapes\n",
    "data_shape_lstm_stacked_train = (\n",
    "    shape_lstm_stacked_train['n_rows'], \n",
    "    shape_lstm_stacked_train['n_seq'],\n",
    "    shape_cnn_lstm_train['n_features']\n",
    ")\n",
    "data_shape_lstm_stacked_test = (\n",
    "    shape_cnn_lstm_test['n_rows'], \n",
    "    shape_lstm_stacked_train['n_seq'],\n",
    "    shape_cnn_lstm_test['n_features']\n",
    ")\n",
    "(data_shape_lstm_stacked_train, data_shape_lstm_stacked_test)"
   ]
  },
  {
   "cell_type": "markdown",
   "metadata": {},
   "source": [
    "#### Model fit"
   ]
  },
  {
   "cell_type": "code",
   "execution_count": 19,
   "metadata": {
    "scrolled": false
   },
   "outputs": [
    {
     "data": {
      "image/png": "[encoded data removed]",
      "text/plain": [
       "<Figure size 1080x360 with 1 Axes>"
      ]
     },
     "metadata": {
      "needs_background": "light"
     },
     "output_type": "display_data"
    }
   ],
   "source": [
    "# %%time\n",
    "nn_manager_cut.model_fit(n_epoch=550,\n",
    "#                            data_shape_train=data_shape_lstm_stacked_train,\n",
    "#                            data_shape_test=data_shape_lstm_stacked_test,\n",
    "                           verbose=0, \n",
    "                           return_results=True, \n",
    "                           print_charts=True,\n",
    "                           early_stopping=True\n",
    "                        );\n",
    "plt.ylim(0,2e3);"
   ]
  },
  {
   "cell_type": "markdown",
   "metadata": {},
   "source": [
    "Architectures: <br>\n",
    "[[#CNN-LSTM_Architecture]](#CNN-LSTM-Layers)<br>\n",
    "[[#Stacked-LSTM_Architecture]](#LSTM-based)\n",
    "\n",
    "Model Compiling setup [[go]](#Compiling-Model-with-the-chosen-Architecture)<br>\n",
    "Unrolling Seq Len [[go]](#Unrolling-data-to-sequences)<br>"
   ]
  },
  {
   "cell_type": "markdown",
   "metadata": {},
   "source": [
    "# Saving Model"
   ]
  },
  {
   "cell_type": "code",
   "execution_count": 20,
   "metadata": {
    "scrolled": true
   },
   "outputs": [],
   "source": [
    "from datetime import datetime\n",
    "\n",
    "# nn_manager_cut.model.save(f'./saved_models/{datetime.now().strftime(\"%Y%m%d_%HH%MM%SS\")}_363_Bidi')"
   ]
  },
  {
   "cell_type": "markdown",
   "metadata": {},
   "source": [
    "# Prediction"
   ]
  },
  {
   "cell_type": "code",
   "execution_count": 21,
   "metadata": {},
   "outputs": [],
   "source": [
    "# nn_manager_cut.X_test_unrolled[0].shape"
   ]
  },
  {
   "cell_type": "code",
   "execution_count": 22,
   "metadata": {
    "scrolled": true
   },
   "outputs": [],
   "source": [
    "# ind_t_X = 0\n",
    "# ind_t_y = ind_t_X + sequence_len\n",
    "\n",
    "# (\n",
    "#     nn_manager_cut.model.predict(nn_manager_cut.X_test_unrolled[ind_t_X].reshape(1,sequence_len,12)), \n",
    "#     nn_manager_cut.y_test.iloc[ind_t_y]\n",
    "# )"
   ]
  },
  {
   "cell_type": "markdown",
   "metadata": {},
   "source": [
    "### Plotting "
   ]
  },
  {
   "cell_type": "code",
   "execution_count": 23,
   "metadata": {
    "scrolled": false
   },
   "outputs": [],
   "source": [
    "# nn_manager_cut.X_train_unrolled[:2]"
   ]
  },
  {
   "cell_type": "code",
   "execution_count": 24,
   "metadata": {},
   "outputs": [],
   "source": [
    "# pred_price = []\n",
    "# for seq in nn_manager_cut.X_test_unrolled:\n",
    "#     pred_price.append(nn_manager_cut.model.predict(seq.reshape(1,sequence_len,12))[0][0])"
   ]
  },
  {
   "cell_type": "code",
   "execution_count": 25,
   "metadata": {},
   "outputs": [],
   "source": [
    "# pred_price = pd.DataFrame(data=pred_price, index=nn_manager_cut.y_test[sequence_len:].index, columns=['Price_predicted'])"
   ]
  },
  {
   "cell_type": "code",
   "execution_count": 26,
   "metadata": {},
   "outputs": [],
   "source": [
    "# # fig, ax = plt.subplots(2, figsize=(15,5))\n",
    "# plt.plot(nn_manager_cut.y_test[sequence_len:], label=\"Act Price\")\n",
    "# plt.plot(pred_price, label=\"Pred Price\")\n",
    "\n",
    "# fig = plt.gcf()\n",
    "# fig.set_size_inches(18.5, 10.5)\n",
    "# plt.legend(loc='lower right')"
   ]
  },
  {
   "cell_type": "code",
   "execution_count": null,
   "metadata": {},
   "outputs": [],
   "source": []
  }
 ],
 "metadata": {
  "kernelspec": {
   "display_name": "Python 3",
   "language": "python",
   "name": "python3"
  },
  "language_info": {
   "codemirror_mode": {
    "name": "ipython",
    "version": 3
   },
   "file_extension": ".py",
   "mimetype": "text/x-python",
   "name": "python",
   "nbconvert_exporter": "python",
   "pygments_lexer": "ipython3",
   "version": "3.6.9"
  }
 },
 "nbformat": 4,
 "nbformat_minor": 2
}
