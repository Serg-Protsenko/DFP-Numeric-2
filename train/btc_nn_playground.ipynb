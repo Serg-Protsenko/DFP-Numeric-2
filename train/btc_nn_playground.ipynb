{
 "cells": [
  {
   "cell_type": "markdown",
   "metadata": {},
   "source": [
    "# Import, Init"
   ]
  },
  {
   "cell_type": "code",
   "execution_count": 1781,
   "metadata": {},
   "outputs": [
    {
     "data": {
      "text/plain": [
       "<module 'cls_nnetwork' from './classes/cls_nnetwork.py'>"
      ]
     },
     "execution_count": 1781,
     "metadata": {},
     "output_type": "execute_result"
    }
   ],
   "source": [
    "import os, sys\n",
    "import pandas as pd\n",
    "import seaborn as sns\n",
    "import matplotlib.pyplot as plt\n",
    "\n",
    "sys.path.insert(0, \"./classes/\")\n",
    "import cls_nnetwork\n",
    "\n",
    "# reloading functions without runtime.restart\n",
    "import importlib\n",
    "importlib.reload(cls_nnetwork)"
   ]
  },
  {
   "cell_type": "code",
   "execution_count": 1782,
   "metadata": {},
   "outputs": [
    {
     "name": "stdout",
     "output_type": "stream",
     "text": [
      ">>> train-test inited:  {'y_test_cut': True, 'X_test_cut': True, 'y_train_cut': True, 'X_train_cut': True}\n"
     ]
    }
   ],
   "source": [
    "# cut -- train test data with trimmed columns, so that it's more easy to train\n",
    "\n",
    "nn_manager_cut = cls_nnetwork.NeuralManager(dir_path='../data/csv_to_train/train_test_cut/')"
   ]
  },
  {
   "cell_type": "code",
   "execution_count": 1783,
   "metadata": {
    "scrolled": false
   },
   "outputs": [],
   "source": [
    "# nn_manager_cut.X_train = nn_manager_cut.X_train[['Open', 'Vol']]\n",
    "# nn_manager_cut.X_test = nn_manager_cut.X_test[['Open', 'Vol']]"
   ]
  },
  {
   "cell_type": "code",
   "execution_count": 1784,
   "metadata": {},
   "outputs": [],
   "source": [
    "# nn_manager_cut.X_train.drop[columns=['Open', ]]"
   ]
  },
  {
   "cell_type": "markdown",
   "metadata": {},
   "source": [
    "## Normalizing"
   ]
  },
  {
   "cell_type": "code",
   "execution_count": 1785,
   "metadata": {},
   "outputs": [
    {
     "data": {
      "text/plain": [
       "array([[ 4.52988659e+00,  4.78975360e+00,  4.74139303e+00,\n",
       "         1.74639067e+02,  1.29200649e+00,  1.87564906e+00,\n",
       "         1.23854073e-01,  3.30862295e+00, -4.16368286e-01,\n",
       "        -4.19170152e+02,  2.96856492e+00,  1.36703957e+00],\n",
       "       [ 3.81150200e+00,  4.42010246e+00,  4.03002493e+00,\n",
       "         1.86548731e+02,  1.24667529e+00,  1.87347194e+00,\n",
       "         1.72651774e+00,  2.53817428e+00, -2.38363171e-01,\n",
       "        -3.08142681e+01,  3.56691540e+00,  1.54784809e+00]])"
      ]
     },
     "execution_count": 1785,
     "metadata": {},
     "output_type": "execute_result"
    }
   ],
   "source": [
    "from sklearn.preprocessing import RobustScaler\n",
    "\n",
    "nn_manager_cut.normalize_X(scaler=RobustScaler)\n",
    "\n",
    "nn_manager_cut.X_train_normalized[:2]"
   ]
  },
  {
   "cell_type": "markdown",
   "metadata": {},
   "source": [
    "# Model "
   ]
  },
  {
   "cell_type": "markdown",
   "metadata": {},
   "source": [
    "## Unrolling data to sequences\n",
    "[[to #Model-fit]](#Model-fit)"
   ]
  },
  {
   "cell_type": "code",
   "execution_count": 1786,
   "metadata": {},
   "outputs": [],
   "source": [
    "sequence_len = 2\n",
    "nn_manager_cut.unroll_X_to_sequences(sequence_len=sequence_len)"
   ]
  },
  {
   "cell_type": "code",
   "execution_count": 1787,
   "metadata": {
    "scrolled": false
   },
   "outputs": [
    {
     "data": {
      "text/plain": [
       "array([[ 3.53689240e+01,  3.51928763e+01,  3.72144714e+01,\n",
       "         6.43691996e-01,  8.78219500e-01,  3.22867247e+00,\n",
       "         4.83528350e-01, -2.62732657e-02, -3.42710997e-01,\n",
       "        -1.29561296e-01,  2.21669940e+00,  6.36455909e-01],\n",
       "       [ 3.66991727e+01,  3.66113686e+01,  3.65890404e+01,\n",
       "         7.00706344e-01,  1.06493891e+00,  3.22761248e+00,\n",
       "        -2.85041974e-01,  1.70764865e-01, -3.42710997e-01,\n",
       "        -1.29561296e-01,  2.21669940e+00,  6.36455909e-01]])"
      ]
     },
     "execution_count": 1787,
     "metadata": {},
     "output_type": "execute_result"
    }
   ],
   "source": [
    "nn_manager_cut.X_test_unrolled[0]"
   ]
  },
  {
   "cell_type": "code",
   "execution_count": 1788,
   "metadata": {
    "scrolled": false
   },
   "outputs": [
    {
     "data": {
      "text/plain": [
       "array([[36.69917268, 36.61136863, 36.58904037,  0.70070634,  1.06493891,\n",
       "         3.22761248, -0.28504197,  0.17076487, -0.342711  , -0.1295613 ,\n",
       "         2.2166994 ,  0.63645591],\n",
       "       [39.06314281, 37.9461332 , 37.46740226,  1.03303665,  1.34978675,\n",
       "         3.22633882, -0.08600414,  0.52512769, -0.34168798, -0.84231242,\n",
       "         1.90828686,  0.81076935]])"
      ]
     },
     "execution_count": 1788,
     "metadata": {},
     "output_type": "execute_result"
    }
   ],
   "source": [
    "# goes up by one sequence -- compare this cell result vs previous\n",
    "nn_manager_cut.X_test_unrolled[1]"
   ]
  },
  {
   "cell_type": "markdown",
   "metadata": {},
   "source": [
    "## Model Assembling"
   ]
  },
  {
   "cell_type": "code",
   "execution_count": 1789,
   "metadata": {},
   "outputs": [
    {
     "data": {
      "text/plain": [
       "12"
      ]
     },
     "execution_count": 1789,
     "metadata": {},
     "output_type": "execute_result"
    }
   ],
   "source": [
    "nn_manager_cut.X_train.shape[1]"
   ]
  },
  {
   "cell_type": "markdown",
   "metadata": {},
   "source": [
    "[n_seq-n_steps in MLM example elaboration](z_MlMastery%20LSTM%20for%20TS%20.ipynb#n_seq-n_steps)<br>\n",
    "(We can parameterize this and define the number of subsequences as n_seq and the number of time steps per subsequence as n_steps. [[source]](https://machinelearningmastery.com/how-to-develop-lstm-models-for-time-series-forecasting/#:~:text=We%20can%20parameterize%20this%20and))"
   ]
  },
  {
   "cell_type": "markdown",
   "metadata": {},
   "source": [
    "### Architectures"
   ]
  },
  {
   "cell_type": "markdown",
   "metadata": {},
   "source": [
    "#### CNN LSTM shape"
   ]
  },
  {
   "cell_type": "code",
   "execution_count": 1790,
   "metadata": {},
   "outputs": [
    {
     "data": {
      "text/plain": [
       "({'n_rows': 3180, 'n_seq': 2, 'n_steps_subseq': 2, 'n_features': 12},\n",
       " {'n_rows': 793, 'n_seq': 2, 'n_steps_subseq': 2, 'n_features': 12})"
      ]
     },
     "execution_count": 1790,
     "metadata": {},
     "output_type": "execute_result"
    }
   ],
   "source": [
    "from tensorflow.keras.layers import TimeDistributed, Conv1D, MaxPooling1D, Flatten, LSTM, Dense, Dropout\n",
    "from tensorflow.keras.initializers import GlorotUniform, GlorotNormal\n",
    "\n",
    "n_steps_subseq = 2\n",
    "n_seq = 2\n",
    "n_features = nn_manager_cut.X_train.shape[1]\n",
    "\n",
    "# CNN-LSTM\n",
    "shape_cnn_lstm_train = dict(\n",
    "            n_rows=nn_manager_cut.X_train_unrolled.shape[0], \n",
    "            n_seq=n_seq, \n",
    "            n_steps_subseq=n_steps_subseq, \n",
    "            n_features=n_features)\n",
    "\n",
    "shape_cnn_lstm_test = {key:(value if key != 'n_rows' else nn_manager_cut.X_test_unrolled.shape[0]) \n",
    "                       for (key, value) in shape_cnn_lstm_train.items()}\n",
    "(shape_cnn_lstm_train, shape_cnn_lstm_test)"
   ]
  },
  {
   "cell_type": "markdown",
   "metadata": {},
   "source": [
    "#### Stacked LSTM shape\n",
    "[[#Setting General seq len for X_* unrolling]](#Unrolling-data-to-sequences)"
   ]
  },
  {
   "cell_type": "code",
   "execution_count": 1791,
   "metadata": {},
   "outputs": [
    {
     "data": {
      "text/plain": [
       "({'n_rows': 3180, 'n_seq': 2, 'n_features': 12},\n",
       " {'n_rows': 793, 'n_seq': 2, 'n_features': 12})"
      ]
     },
     "execution_count": 1791,
     "metadata": {},
     "output_type": "execute_result"
    }
   ],
   "source": [
    "# Stacked LSTM \n",
    "shape_lstm_stacked_train = dict(\n",
    "            n_rows=nn_manager_cut.X_train_unrolled.shape[0], \n",
    "            n_seq=sequence_len, \n",
    "            n_features=n_features) # not splitting to subseq\n",
    "\n",
    "shape_lstm_stacked_test = {key:(value if key != 'n_rows' else nn_manager_cut.X_test_unrolled.shape[0]) \n",
    "                       for (key, value) in shape_lstm_stacked_train.items()}\n",
    "\n",
    "(shape_lstm_stacked_train, shape_lstm_stacked_test)"
   ]
  },
  {
   "cell_type": "markdown",
   "metadata": {},
   "source": [
    "#### CNN-LSTM Layers"
   ]
  },
  {
   "cell_type": "code",
   "execution_count": 1792,
   "metadata": {},
   "outputs": [],
   "source": [
    "# CNN-LSTM Architecture\n",
    "\n",
    "weights_init = GlorotNormal()\n",
    "\n",
    "conv1D_0 = Conv1D(filters=64, kernel_size=1, activation='relu', padding='same', kernel_initializer=weights_init)\n",
    "conv1D_1 = Conv1D(filters=64, kernel_size=1, activation='relu', padding='same')\n",
    "# conv1D_2 = Conv1D(filters=64, kernel_size=1, activation='relu', padding='causal')\n",
    "# conv1D_3 = Conv1D(filters=64, kernel_size=1, activation='relu', padding='causal')\n",
    "\n",
    "# src: \n",
    "# https://machinelearningmastery.com/how-to-develop-lstm-models-for-time-series-forecasting/#:~:text=A%20convolutional%20neural\n",
    "template_CNN_LSTM = [\n",
    "    TimeDistributed(conv1D_0, input_shape=(None, shape_cnn_lstm_train['n_steps_subseq'], shape_cnn_lstm_train['n_features'])),\n",
    "    TimeDistributed(conv1D_1),\n",
    "#     TimeDistributed(conv1D_2),\n",
    "#     TimeDistributed(conv1D_3),\n",
    "    TimeDistributed(MaxPooling1D(pool_size=2)),\n",
    "    TimeDistributed(Flatten()),\n",
    "    LSTM(50, activation='relu', return_sequences = True),\n",
    "    LSTM(50, activation='relu'),\n",
    "    Dense(50),\n",
    "    Dense(20),\n",
    "    Dense(1)\n",
    "]"
   ]
  },
  {
   "cell_type": "markdown",
   "metadata": {},
   "source": [
    "#### Stacked LSTM Layers\n",
    "[[to General Seq Len]](#Unrolling-data-to-sequences)<br>\n",
    "[[to #Model-fit]](#Model-fit)"
   ]
  },
  {
   "cell_type": "code",
   "execution_count": 1793,
   "metadata": {},
   "outputs": [],
   "source": [
    "# Stacked LSTM\n",
    "\n",
    "weights_init = GlorotNormal()\n",
    "\n",
    "template_Stacked_LSTM = [\n",
    "    LSTM(50, activation='relu', \n",
    "         input_shape=(shape_lstm_stacked_train['n_seq'], shape_lstm_stacked_train['n_features']),\n",
    "#          return_sequences=True, \n",
    "         kernel_initializer=weights_init),\n",
    "#     LSTM(50, activation='relu', return_sequences=True),    \n",
    "#     LSTM(50, activation='relu'),    \n",
    "#     Dense(50),\n",
    "#     Dense(5),\n",
    "#     Dropout(.01),\n",
    "    Dense(1)\n",
    "]"
   ]
  },
  {
   "cell_type": "code",
   "execution_count": 1794,
   "metadata": {},
   "outputs": [
    {
     "data": {
      "text/plain": [
       "(3180, 2, 12)"
      ]
     },
     "execution_count": 1794,
     "metadata": {},
     "output_type": "execute_result"
    }
   ],
   "source": [
    "nn_manager_cut.X_train_unrolled.shape"
   ]
  },
  {
   "cell_type": "markdown",
   "metadata": {},
   "source": [
    "### Compiling Model with the chosen Architecture"
   ]
  },
  {
   "cell_type": "code",
   "execution_count": 1795,
   "metadata": {
    "scrolled": false
   },
   "outputs": [
    {
     "name": "stdout",
     "output_type": "stream",
     "text": [
      ">>> model compiled\n",
      "Model: \"sequential_107\"\n",
      "_________________________________________________________________\n",
      "Layer (type)                 Output Shape              Param #   \n",
      "=================================================================\n",
      "lstm_289 (LSTM)              (None, 50)                12600     \n",
      "_________________________________________________________________\n",
      "dense_397 (Dense)            (None, 1)                 51        \n",
      "=================================================================\n",
      "Total params: 12,651\n",
      "Trainable params: 12,651\n",
      "Non-trainable params: 0\n",
      "_________________________________________________________________\n"
     ]
    },
    {
     "data": {
      "text/plain": [
       "True"
      ]
     },
     "execution_count": 1795,
     "metadata": {},
     "output_type": "execute_result"
    }
   ],
   "source": [
    "# Assembling and compiling model\n",
    "\n",
    "from tensorflow import keras\n",
    "\n",
    "opt_adam = keras.optimizers.Adam(\n",
    "    learning_rate=5e-5,\n",
    "    beta_1=0.9,\n",
    "    beta_2=0.999,\n",
    "    epsilon=1e-07,\n",
    "    amsgrad=False, \n",
    ")\n",
    "\n",
    "training_params = dict(optimizer=opt_adam, loss='mean_absolute_error', metrics=['mae'])\n",
    "\n",
    "\n",
    "nn_manager_cut.model_combine(template=template_Stacked_LSTM, compile_dict=training_params)"
   ]
  },
  {
   "cell_type": "markdown",
   "metadata": {},
   "source": [
    "## Model Training"
   ]
  },
  {
   "cell_type": "code",
   "execution_count": 1796,
   "metadata": {},
   "outputs": [
    {
     "data": {
      "text/plain": [
       "((3180, 2, 2, 12), (793, 2, 2, 12))"
      ]
     },
     "execution_count": 1796,
     "metadata": {},
     "output_type": "execute_result"
    }
   ],
   "source": [
    "# CNN-LSTMs DataShapes\n",
    "data_shape_cnn_lstm_train = (\n",
    "    shape_cnn_lstm_train['n_rows'], \n",
    "    shape_cnn_lstm_train['n_seq'], \n",
    "    shape_cnn_lstm_train['n_steps_subseq'],\n",
    "    shape_cnn_lstm_train['n_features']\n",
    ")\n",
    "data_shape_cnn_lstm_test = (\n",
    "    shape_cnn_lstm_test['n_rows'], \n",
    "    shape_cnn_lstm_test['n_seq'], \n",
    "    shape_cnn_lstm_test['n_steps_subseq'],\n",
    "    shape_cnn_lstm_test['n_features']\n",
    ")\n",
    "(data_shape_cnn_lstm_train, data_shape_cnn_lstm_test)"
   ]
  },
  {
   "cell_type": "code",
   "execution_count": 1797,
   "metadata": {},
   "outputs": [
    {
     "data": {
      "text/plain": [
       "((3180, 2, 12), (793, 2, 12))"
      ]
     },
     "execution_count": 1797,
     "metadata": {},
     "output_type": "execute_result"
    }
   ],
   "source": [
    "# LSTMs Stacked DataShapes\n",
    "data_shape_lstm_stacked_train = (\n",
    "    shape_lstm_stacked_train['n_rows'], \n",
    "    shape_lstm_stacked_train['n_seq'],\n",
    "    shape_cnn_lstm_train['n_features']\n",
    ")\n",
    "data_shape_lstm_stacked_test = (\n",
    "    shape_cnn_lstm_test['n_rows'], \n",
    "    shape_lstm_stacked_train['n_seq'],\n",
    "    shape_cnn_lstm_test['n_features']\n",
    ")\n",
    "(data_shape_lstm_stacked_train, data_shape_lstm_stacked_test)"
   ]
  },
  {
   "cell_type": "markdown",
   "metadata": {},
   "source": [
    "#### Model fit"
   ]
  },
  {
   "cell_type": "code",
   "execution_count": 1798,
   "metadata": {
    "scrolled": true
   },
   "outputs": [
    {
     "data": {
      "image/png": "[encoded data removed]",
      "text/plain": [
       "<Figure size 1080x360 with 1 Axes>"
      ]
     },
     "metadata": {
      "needs_background": "light"
     },
     "output_type": "display_data"
    }
   ],
   "source": [
    "# %%time\n",
    "nn_manager_cut.model_fit(n_epoch=350,\n",
    "                           data_shape_train=data_shape_lstm_stacked_train,\n",
    "                           data_shape_test=data_shape_lstm_stacked_test,\n",
    "                           verbose=0, \n",
    "                           return_results=True, \n",
    "                           print_charts=True,\n",
    "                           early_stopping=True\n",
    "                        );\n",
    "plt.ylim(0,2e3);"
   ]
  },
  {
   "cell_type": "markdown",
   "metadata": {},
   "source": [
    "Architectures: <br>\n",
    "[[#CNN-LSTM_Architecture]](#CNN-LSTM-Layers)<br>\n",
    "[[#Stacked-LSTM_Architecture]](#Stacked-LSTM-Layers)\n",
    "\n",
    "Adam Compiler setup [[go]](#Compiling-Model-with-the-chosen-Architecture)"
   ]
  },
  {
   "cell_type": "code",
   "execution_count": 1817,
   "metadata": {
    "scrolled": true
   },
   "outputs": [
    {
     "name": "stdout",
     "output_type": "stream",
     "text": [
      "INFO:tensorflow:Assets written to: ./saved_models/20210617_12H11M34S/assets\n"
     ]
    }
   ],
   "source": [
    "from datetime import datetime\n",
    "\n",
    "nn_manager_cut.model.save(f'./saved_models/{datetime.now().strftime(\"%Y%m%d_%HH%MM%SS\")}')"
   ]
  },
  {
   "cell_type": "markdown",
   "metadata": {},
   "source": [
    "# Playground"
   ]
  },
  {
   "cell_type": "code",
   "execution_count": 1799,
   "metadata": {},
   "outputs": [],
   "source": [
    "# sh = nn_manager_cut.X_test_unrolled[1].shape\n",
    "\n",
    "# X_pred = nn_manager_cut.X_test_unrolled[1].reshape(int(sh[0]/n_steps_subseq), n_steps_subseq, n_features)\n",
    "\n"
   ]
  }
 ],
 "metadata": {
  "kernelspec": {
   "display_name": "Python 3",
   "language": "python",
   "name": "python3"
  },
  "language_info": {
   "codemirror_mode": {
    "name": "ipython",
    "version": 3
   },
   "file_extension": ".py",
   "mimetype": "text/x-python",
   "name": "python",
   "nbconvert_exporter": "python",
   "pygments_lexer": "ipython3",
   "version": "3.6.9"
  }
 },
 "nbformat": 4,
 "nbformat_minor": 2
}
