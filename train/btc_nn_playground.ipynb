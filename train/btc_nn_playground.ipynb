{
 "cells": [
  {
   "cell_type": "markdown",
   "metadata": {},
   "source": [
    "# Import, Init"
   ]
  },
  {
   "cell_type": "code",
   "execution_count": 172,
   "metadata": {},
   "outputs": [
    {
     "data": {
      "text/plain": [
       "<module 'cls_nnetwork' from './classes/cls_nnetwork.py'>"
      ]
     },
     "execution_count": 172,
     "metadata": {},
     "output_type": "execute_result"
    }
   ],
   "source": [
    "import os, sys\n",
    "import pandas as pd\n",
    "import seaborn as sns\n",
    "\n",
    "sys.path.insert(0, \"./classes/\")\n",
    "import cls_nnetwork\n",
    "\n",
    "# reloading functions without runtime.restart\n",
    "import importlib\n",
    "importlib.reload(cls_nnetwork)"
   ]
  },
  {
   "cell_type": "code",
   "execution_count": 173,
   "metadata": {},
   "outputs": [
    {
     "name": "stdout",
     "output_type": "stream",
     "text": [
      ">>> train-test inited:  {'X_test_cut': True, 'X_train_cut': True, 'y_test_cut': True, 'y_train_cut': True}\n"
     ]
    }
   ],
   "source": [
    "# cut -- train test data with trimmed columns, so that it's more easy to train\n",
    "\n",
    "nn_manager_cut = cls_nnetwork.NeuralManager(dir_path='../data/csv_to_train/train_test_cut')"
   ]
  },
  {
   "cell_type": "code",
   "execution_count": 174,
   "metadata": {},
   "outputs": [
    {
     "data": {
      "text/plain": [
       "((3182, 12), (795, 12))"
      ]
     },
     "execution_count": 174,
     "metadata": {},
     "output_type": "execute_result"
    }
   ],
   "source": [
    "nn_manager_cut.X_train.shape, nn_manager_cut.X_test.shape"
   ]
  },
  {
   "cell_type": "code",
   "execution_count": 175,
   "metadata": {},
   "outputs": [
    {
     "data": {
      "text/html": [
       "<div>\n",
       "<style scoped>\n",
       "    .dataframe tbody tr th:only-of-type {\n",
       "        vertical-align: middle;\n",
       "    }\n",
       "\n",
       "    .dataframe tbody tr th {\n",
       "        vertical-align: top;\n",
       "    }\n",
       "\n",
       "    .dataframe thead th {\n",
       "        text-align: right;\n",
       "    }\n",
       "</style>\n",
       "<table border=\"1\" class=\"dataframe\">\n",
       "  <thead>\n",
       "    <tr style=\"text-align: right;\">\n",
       "      <th></th>\n",
       "      <th>Open</th>\n",
       "      <th>High</th>\n",
       "      <th>Low</th>\n",
       "      <th>Vol</th>\n",
       "      <th>AVBLS</th>\n",
       "      <th>NTRAT</th>\n",
       "      <th>TOUTV</th>\n",
       "      <th>TRFEE</th>\n",
       "      <th>BTC_MINED_PDAY</th>\n",
       "      <th>VOL_CHANGE_PDAY</th>\n",
       "      <th>MWNUS_CH_PDAY</th>\n",
       "      <th>NTRAT_CH_PDAY</th>\n",
       "    </tr>\n",
       "    <tr>\n",
       "      <th>Date</th>\n",
       "      <th></th>\n",
       "      <th></th>\n",
       "      <th></th>\n",
       "      <th></th>\n",
       "      <th></th>\n",
       "      <th></th>\n",
       "      <th></th>\n",
       "      <th></th>\n",
       "      <th></th>\n",
       "      <th></th>\n",
       "      <th></th>\n",
       "      <th></th>\n",
       "    </tr>\n",
       "  </thead>\n",
       "  <tbody>\n",
       "    <tr>\n",
       "      <th>2019-04-03</th>\n",
       "      <td>4859.3</td>\n",
       "      <td>5278.4</td>\n",
       "      <td>4814.0</td>\n",
       "      <td>13830000.0</td>\n",
       "      <td>1.248330</td>\n",
       "      <td>397961949.0</td>\n",
       "      <td>1.306792e+06</td>\n",
       "      <td>142.102988</td>\n",
       "      <td>425.0</td>\n",
       "      <td>-12780000.0</td>\n",
       "      <td>52351.0</td>\n",
       "      <td>360333.0</td>\n",
       "    </tr>\n",
       "    <tr>\n",
       "      <th>2019-04-02</th>\n",
       "      <td>4145.1</td>\n",
       "      <td>4899.6</td>\n",
       "      <td>4143.5</td>\n",
       "      <td>14770000.0</td>\n",
       "      <td>1.215507</td>\n",
       "      <td>397560778.0</td>\n",
       "      <td>3.429199e+06</td>\n",
       "      <td>114.489789</td>\n",
       "      <td>1512.5</td>\n",
       "      <td>-940000.0</td>\n",
       "      <td>61873.0</td>\n",
       "      <td>401171.0</td>\n",
       "    </tr>\n",
       "    <tr>\n",
       "      <th>2019-04-01</th>\n",
       "      <td>4102.3</td>\n",
       "      <td>4159.1</td>\n",
       "      <td>4076.8</td>\n",
       "      <td>3220000.0</td>\n",
       "      <td>1.205358</td>\n",
       "      <td>397191600.0</td>\n",
       "      <td>1.744093e+06</td>\n",
       "      <td>61.846737</td>\n",
       "      <td>2162.5</td>\n",
       "      <td>11550000.0</td>\n",
       "      <td>87465.0</td>\n",
       "      <td>369178.0</td>\n",
       "    </tr>\n",
       "    <tr>\n",
       "      <th>2019-03-31</th>\n",
       "      <td>4111.8</td>\n",
       "      <td>4121.9</td>\n",
       "      <td>4082.2</td>\n",
       "      <td>2430000.0</td>\n",
       "      <td>1.173566</td>\n",
       "      <td>396808790.0</td>\n",
       "      <td>9.168389e+05</td>\n",
       "      <td>44.614255</td>\n",
       "      <td>1425.0</td>\n",
       "      <td>790000.0</td>\n",
       "      <td>34688.0</td>\n",
       "      <td>382810.0</td>\n",
       "    </tr>\n",
       "    <tr>\n",
       "      <th>2019-03-30</th>\n",
       "      <td>4103.7</td>\n",
       "      <td>4138.1</td>\n",
       "      <td>4057.1</td>\n",
       "      <td>2550000.0</td>\n",
       "      <td>1.204920</td>\n",
       "      <td>396430531.0</td>\n",
       "      <td>9.228557e+05</td>\n",
       "      <td>54.673729</td>\n",
       "      <td>2050.0</td>\n",
       "      <td>-120000.0</td>\n",
       "      <td>64109.0</td>\n",
       "      <td>378259.0</td>\n",
       "    </tr>\n",
       "  </tbody>\n",
       "</table>\n",
       "</div>"
      ],
      "text/plain": [
       "              Open    High     Low         Vol     AVBLS        NTRAT  \\\n",
       "Date                                                                    \n",
       "2019-04-03  4859.3  5278.4  4814.0  13830000.0  1.248330  397961949.0   \n",
       "2019-04-02  4145.1  4899.6  4143.5  14770000.0  1.215507  397560778.0   \n",
       "2019-04-01  4102.3  4159.1  4076.8   3220000.0  1.205358  397191600.0   \n",
       "2019-03-31  4111.8  4121.9  4082.2   2430000.0  1.173566  396808790.0   \n",
       "2019-03-30  4103.7  4138.1  4057.1   2550000.0  1.204920  396430531.0   \n",
       "\n",
       "                   TOUTV       TRFEE  BTC_MINED_PDAY  VOL_CHANGE_PDAY  \\\n",
       "Date                                                                    \n",
       "2019-04-03  1.306792e+06  142.102988           425.0      -12780000.0   \n",
       "2019-04-02  3.429199e+06  114.489789          1512.5        -940000.0   \n",
       "2019-04-01  1.744093e+06   61.846737          2162.5       11550000.0   \n",
       "2019-03-31  9.168389e+05   44.614255          1425.0         790000.0   \n",
       "2019-03-30  9.228557e+05   54.673729          2050.0        -120000.0   \n",
       "\n",
       "            MWNUS_CH_PDAY  NTRAT_CH_PDAY  \n",
       "Date                                      \n",
       "2019-04-03        52351.0       360333.0  \n",
       "2019-04-02        61873.0       401171.0  \n",
       "2019-04-01        87465.0       369178.0  \n",
       "2019-03-31        34688.0       382810.0  \n",
       "2019-03-30        64109.0       378259.0  "
      ]
     },
     "execution_count": 175,
     "metadata": {},
     "output_type": "execute_result"
    }
   ],
   "source": [
    "nn_manager_cut.X_train[:5]"
   ]
  },
  {
   "cell_type": "markdown",
   "metadata": {},
   "source": [
    "## Normalizing"
   ]
  },
  {
   "cell_type": "code",
   "execution_count": 176,
   "metadata": {},
   "outputs": [
    {
     "data": {
      "text/plain": [
       "array([[ 4.52988659e+00,  4.78975360e+00,  4.74139303e+00,\n",
       "         1.74639067e+02,  1.29200649e+00,  1.87564906e+00,\n",
       "         1.23854073e-01,  3.30862295e+00, -4.16368286e-01,\n",
       "        -4.19170152e+02,  2.96856492e+00,  1.36703957e+00],\n",
       "       [ 3.81150200e+00,  4.42010246e+00,  4.03002493e+00,\n",
       "         1.86548731e+02,  1.24667529e+00,  1.87347194e+00,\n",
       "         1.72651774e+00,  2.53817428e+00, -2.38363171e-01,\n",
       "        -3.08142681e+01,  3.56691540e+00,  1.54784809e+00]])"
      ]
     },
     "execution_count": 176,
     "metadata": {},
     "output_type": "execute_result"
    }
   ],
   "source": [
    "from sklearn.preprocessing import RobustScaler\n",
    "\n",
    "nn_manager_cut.normalize_X(scaler=RobustScaler)\n",
    "\n",
    "nn_manager_cut.X_train_normalized[:2]"
   ]
  },
  {
   "cell_type": "markdown",
   "metadata": {},
   "source": [
    "## Splitting data to sequences"
   ]
  },
  {
   "cell_type": "code",
   "execution_count": 177,
   "metadata": {},
   "outputs": [],
   "source": [
    "nn_manager_cut.split_X_to_sequencees(sequence_len=4)"
   ]
  },
  {
   "cell_type": "code",
   "execution_count": 178,
   "metadata": {
    "scrolled": true
   },
   "outputs": [
    {
     "data": {
      "text/plain": [
       "array([[ 3.53689240e+01,  3.51928763e+01,  3.72144714e+01,\n",
       "         6.43691996e-01,  8.78219500e-01,  3.22867247e+00,\n",
       "         4.83528350e-01, -2.62732657e-02, -3.42710997e-01,\n",
       "        -1.29561296e-01,  2.21669940e+00,  6.36455909e-01],\n",
       "       [ 3.66991727e+01,  3.66113686e+01,  3.65890404e+01,\n",
       "         7.00706344e-01,  1.06493891e+00,  3.22761248e+00,\n",
       "        -2.85041974e-01,  1.70764865e-01, -3.42710997e-01,\n",
       "        -1.29561296e-01,  2.21669940e+00,  6.36455909e-01],\n",
       "       [ 3.90631428e+01,  3.79461332e+01,  3.74674023e+01,\n",
       "         1.03303665e+00,  1.34978675e+00,  3.22633882e+00,\n",
       "        -8.60041445e-02,  5.25127690e-01, -3.41687980e-01,\n",
       "        -8.42312423e-01,  1.90828686e+00,  8.10769348e-01],\n",
       "       [ 3.74178590e+01,  3.81480361e+01,  3.90945838e+01,\n",
       "         7.63548826e-01,  1.35460228e+00,  3.22495080e+00,\n",
       "         6.05842104e-02,  7.35483801e-01, -3.57033248e-01,\n",
       "         7.15703157e-01,  3.41691933e+00,  9.04069166e-01]])"
      ]
     },
     "execution_count": 178,
     "metadata": {},
     "output_type": "execute_result"
    }
   ],
   "source": [
    "nn_manager_cut.X_test_unrolled[0]"
   ]
  },
  {
   "cell_type": "code",
   "execution_count": 179,
   "metadata": {},
   "outputs": [
    {
     "data": {
      "text/plain": [
       "array([[ 3.66991727e+01,  3.66113686e+01,  3.65890404e+01,\n",
       "         7.00706344e-01,  1.06493891e+00,  3.22761248e+00,\n",
       "        -2.85041974e-01,  1.70764865e-01, -3.42710997e-01,\n",
       "        -1.29561296e-01,  2.21669940e+00,  6.36455909e-01],\n",
       "       [ 3.90631428e+01,  3.79461332e+01,  3.74674023e+01,\n",
       "         1.03303665e+00,  1.34978675e+00,  3.22633882e+00,\n",
       "        -8.60041445e-02,  5.25127690e-01, -3.41687980e-01,\n",
       "        -8.42312423e-01,  1.90828686e+00,  8.10769348e-01],\n",
       "       [ 3.74178590e+01,  3.81480361e+01,  3.90945838e+01,\n",
       "         7.63548826e-01,  1.35460228e+00,  3.22495080e+00,\n",
       "         6.05842104e-02,  7.35483801e-01, -3.57033248e-01,\n",
       "         7.15703157e-01,  3.41691933e+00,  9.04069166e-01],\n",
       "       [ 3.65447733e+01,  3.69161259e+01,  3.78081799e+01,\n",
       "         6.42551709e-01,  1.35107044e+00,  3.22358723e+00,\n",
       "         7.93558608e-03,  7.70429879e-01, -3.59079284e-01,\n",
       "         3.31283313e-01,  6.84514963e+00,  8.84127896e-01]])"
      ]
     },
     "execution_count": 179,
     "metadata": {},
     "output_type": "execute_result"
    }
   ],
   "source": [
    "# goes up by one sequence\n",
    "nn_manager_cut.X_test_unrolled[1]"
   ]
  },
  {
   "cell_type": "markdown",
   "metadata": {},
   "source": [
    "# Model "
   ]
  },
  {
   "cell_type": "markdown",
   "metadata": {},
   "source": [
    "## Model Combining"
   ]
  },
  {
   "cell_type": "code",
   "execution_count": 180,
   "metadata": {},
   "outputs": [
    {
     "data": {
      "text/plain": [
       "12"
      ]
     },
     "execution_count": 180,
     "metadata": {},
     "output_type": "execute_result"
    }
   ],
   "source": [
    "nn_manager_cut.X_train.shape[1]"
   ]
  },
  {
   "cell_type": "code",
   "execution_count": 181,
   "metadata": {},
   "outputs": [],
   "source": [
    "from tensorflow.keras.layers import TimeDistributed \n",
    "from tensorflow.keras.layers import Conv1D, MaxPooling1D, Flatten, LSTM, Dense\n",
    "\n",
    "n_features = nn_manager_cut.X_train.shape[1]\n",
    "n_seq = 2\n",
    "n_steps = 2\n",
    "conv1D_params = dict(filters=64, kernel_size=1, activation='relu')\n",
    "\n",
    "template = [\n",
    "    TimeDistributed(Conv1D(**conv1D_params), input_shape=(None, n_steps, n_features)),\n",
    "    TimeDistributed(MaxPooling1D(pool_size=2)),\n",
    "    TimeDistributed(Flatten()),\n",
    "    LSTM(50, activation='relu'),\n",
    "    Dense(1)\n",
    "]"
   ]
  },
  {
   "cell_type": "code",
   "execution_count": 182,
   "metadata": {
    "scrolled": true
   },
   "outputs": [
    {
     "name": "stdout",
     "output_type": "stream",
     "text": [
      ">>> model compiled\n",
      "Model: \"sequential_2\"\n",
      "_________________________________________________________________\n",
      "Layer (type)                 Output Shape              Param #   \n",
      "=================================================================\n",
      "time_distributed_15 (TimeDis (None, None, 2, 64)       832       \n",
      "_________________________________________________________________\n",
      "time_distributed_16 (TimeDis (None, None, 1, 64)       0         \n",
      "_________________________________________________________________\n",
      "time_distributed_17 (TimeDis (None, None, 64)          0         \n",
      "_________________________________________________________________\n",
      "lstm_5 (LSTM)                (None, 50)                23000     \n",
      "_________________________________________________________________\n",
      "dense_5 (Dense)              (None, 1)                 51        \n",
      "=================================================================\n",
      "Total params: 23,883\n",
      "Trainable params: 23,883\n",
      "Non-trainable params: 0\n",
      "_________________________________________________________________\n"
     ]
    },
    {
     "data": {
      "text/plain": [
       "True"
      ]
     },
     "execution_count": 182,
     "metadata": {},
     "output_type": "execute_result"
    }
   ],
   "source": [
    "nn_manager_cut.model_combine(template=template)"
   ]
  },
  {
   "cell_type": "markdown",
   "metadata": {},
   "source": [
    "## Model Training"
   ]
  },
  {
   "cell_type": "code",
   "execution_count": 183,
   "metadata": {
    "scrolled": true
   },
   "outputs": [
    {
     "name": "stdout",
     "output_type": "stream",
     "text": [
      "Epoch 1/5\n",
      "100/100 - 3s - loss: 10865791.0000 - mae: 1569.4956 - val_loss: 477315744.0000 - val_mae: 15857.2842\n",
      "Epoch 2/5\n",
      "100/100 - 1s - loss: 5128633.0000 - mae: 970.4158 - val_loss: 140662320.0000 - val_mae: 7709.2666\n",
      "Epoch 3/5\n",
      "100/100 - 1s - loss: 1437366.2500 - mae: 523.9120 - val_loss: 49534968.0000 - val_mae: 4350.4268\n",
      "Epoch 4/5\n",
      "100/100 - 1s - loss: 390443.6562 - mae: 251.8428 - val_loss: 10114601.0000 - val_mae: 1743.2034\n",
      "Epoch 5/5\n",
      "100/100 - 1s - loss: 106540.3047 - mae: 146.8750 - val_loss: 4536359.5000 - val_mae: 1127.0667\n"
     ]
    },
    {
     "data": {
      "text/plain": [
       "<tensorflow.python.keras.callbacks.History at 0x7f6a2c78b7b8>"
      ]
     },
     "execution_count": 183,
     "metadata": {},
     "output_type": "execute_result"
    }
   ],
   "source": [
    "x_train = nn_manager_cut.X_train_unrolled \n",
    "y_train = nn_manager_cut.y_train_unrolled\n",
    "x_train = x_train.reshape(x_train.shape[0], n_seq, n_steps, n_features)\n",
    "\n",
    "x_test = nn_manager_cut.X_test_unrolled \n",
    "y_test = nn_manager_cut.y_test_unrolled\n",
    "x_test = x_test.reshape(x_test.shape[0], n_seq, n_steps, n_features)\n",
    "\n",
    "nn_manager_cut.model.fit(\n",
    "    x=x_train, y=y_train,\n",
    "    epochs= 5,\n",
    "#     batch_size = 32,\n",
    "    validation_data = (x_test, y_test),\n",
    "    verbose = 2\n",
    ")"
   ]
  }
 ],
 "metadata": {
  "kernelspec": {
   "display_name": "Python 3",
   "language": "python",
   "name": "python3"
  },
  "language_info": {
   "codemirror_mode": {
    "name": "ipython",
    "version": 3
   },
   "file_extension": ".py",
   "mimetype": "text/x-python",
   "name": "python",
   "nbconvert_exporter": "python",
   "pygments_lexer": "ipython3",
   "version": "3.6.9"
  }
 },
 "nbformat": 4,
 "nbformat_minor": 2
}
